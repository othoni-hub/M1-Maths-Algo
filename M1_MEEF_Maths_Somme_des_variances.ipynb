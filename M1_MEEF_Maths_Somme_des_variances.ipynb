{
  "nbformat": 4,
  "nbformat_minor": 0,
  "metadata": {
    "colab": {
      "name": "M1_MEEF_Maths-Somme_des_variances.ipynb",
      "provenance": [],
      "collapsed_sections": [],
      "authorship_tag": "ABX9TyOcFoTz2DXy6PR9KWo3ehjx",
      "include_colab_link": true
    },
    "kernelspec": {
      "name": "python3",
      "display_name": "Python 3"
    },
    "language_info": {
      "name": "python"
    }
  },
  "cells": [
    {
      "cell_type": "markdown",
      "metadata": {
        "id": "view-in-github",
        "colab_type": "text"
      },
      "source": [
        "<a href=\"https://colab.research.google.com/github/othoni-hub/M1-Maths-Algo/blob/main/M1_MEEF_Maths_Somme_des_variances.ipynb\" target=\"_parent\"><img src=\"https://colab.research.google.com/assets/colab-badge.svg\" alt=\"Open In Colab\"/></a>"
      ]
    },
    {
      "cell_type": "markdown",
      "metadata": {
        "id": "KVYIpOb5JsUy"
      },
      "source": [
        "# **M1-MEEF Mathématiques** \n",
        "<img src=\"https://drive.google.com/uc?id=12Wo3LubGGT4qOvYFAuLP4CyCuwjKNVuk\" width=\"230\" height=\"150\" align = \"right\"/>\n",
        "\n",
        "## **Notebook : Correction TP : Somme des variances**\n",
        "\n",
        "\n",
        "\n",
        "\n",
        "**O.Thöni - UCO-IFUCOME, groupes \"Mathématiques\" et \"Numérique et Sciences Informatiques\"**"
      ]
    },
    {
      "cell_type": "markdown",
      "source": [
        "<img src=\"http://blog.legardemots.fr/public/icosaedre.jpg\" width=\"160\" height=\"150\" align = \"center\"/>\n",
        "\n",
        "<img src=\"https://www.baccarat.fr/dw/image/v2/BBLJ_PRD/on/demandware.static/-/Sites-baccarat-master-products/default/dwa5b31eef/original/Jeux/2813749.jpg?sw=1700&sh=1700&sm=fit\" width=\"300\" height=\"300\" align = \"center\"/>\n",
        "\n",
        "\n"
      ],
      "metadata": {
        "id": "TNtKvgSMtYF2"
      }
    },
    {
      "cell_type": "markdown",
      "metadata": {
        "id": "9ScrN9uW0AOP"
      },
      "source": [
        "## **Simulation d'un loi binomiale**\n",
        "\n",
        "Ceci requiert l'import du module *random*, et accessoirement de *MatPlotLib.Pyplot* pour les graphiques.\n"
      ]
    },
    {
      "cell_type": "code",
      "source": [
        "import random as rd"
      ],
      "metadata": {
        "id": "qWocaI8JYus1"
      },
      "execution_count": null,
      "outputs": []
    },
    {
      "cell_type": "markdown",
      "source": [
        "Commençons par simuler un tirage de Bernoulli, de probabilité p\n",
        "\n"
      ],
      "metadata": {
        "id": "PauTZY6pY2T3"
      }
    },
    {
      "cell_type": "code",
      "source": [
        "def bernoulli(p):\n",
        "    u = rd.random()\n",
        "    b = (u < p)\n",
        "    print(u)\n",
        "    return b"
      ],
      "metadata": {
        "id": "hqsUcHBaY1ce"
      },
      "execution_count": null,
      "outputs": []
    },
    {
      "cell_type": "code",
      "source": [
        "p = 0.4\n",
        "bernoulli(p)"
      ],
      "metadata": {
        "colab": {
          "base_uri": "https://localhost:8080/"
        },
        "id": "lz36RGVhZBPc",
        "outputId": "db079faa-7014-451d-93ef-363e0696115f"
      },
      "execution_count": null,
      "outputs": [
        {
          "output_type": "stream",
          "name": "stdout",
          "text": [
            "0.7657081613128945\n"
          ]
        },
        {
          "output_type": "execute_result",
          "data": {
            "text/plain": [
              "False"
            ]
          },
          "metadata": {},
          "execution_count": 3
        }
      ]
    },
    {
      "cell_type": "code",
      "source": [
        "def bernoulli(p):\n",
        "    return int(rd.random()<p)"
      ],
      "metadata": {
        "id": "lkvInzj8ZGCU"
      },
      "execution_count": null,
      "outputs": []
    },
    {
      "cell_type": "code",
      "source": [
        "bernoulli(p)"
      ],
      "metadata": {
        "colab": {
          "base_uri": "https://localhost:8080/"
        },
        "id": "8MdyLODtZVVn",
        "outputId": "190e9709-3f98-4bdc-c1d0-07be748a004c"
      },
      "execution_count": null,
      "outputs": [
        {
          "output_type": "execute_result",
          "data": {
            "text/plain": [
              "0"
            ]
          },
          "metadata": {},
          "execution_count": 5
        }
      ]
    },
    {
      "cell_type": "markdown",
      "source": [
        "Effectuons maintenant n tirages indépendants selon cette loi de Bernoulli de paramètre p, c'est-à-dire un tirage binomial selon la loi $B \\left ( n ; p \\right )$"
      ],
      "metadata": {
        "id": "PNQI8c9Aao_6"
      }
    },
    {
      "cell_type": "code",
      "source": [
        "def binomiale(n,p):\n",
        "    '''Cette fonction simule un tirage aléatoire selon la loi binomiale de paramètres n et p donnés en entrées'''\n",
        "    B = []\n",
        "    for k in range(n):\n",
        "        B.append(bernoulli(p))\n",
        "    return B,sum(B)"
      ],
      "metadata": {
        "id": "Xk3xtiV-ZYEW"
      },
      "execution_count": null,
      "outputs": []
    },
    {
      "cell_type": "code",
      "source": [
        "(n_tirages_bernoulli, nb_succes) = binomiale(10,0.4)\n",
        "print(n_tirages_bernoulli)\n",
        "print(nb_succes)"
      ],
      "metadata": {
        "colab": {
          "base_uri": "https://localhost:8080/"
        },
        "id": "H7mXLz3bbl5w",
        "outputId": "76074307-f360-43c6-e13e-0a18a87eb238"
      },
      "execution_count": null,
      "outputs": [
        {
          "output_type": "stream",
          "name": "stdout",
          "text": [
            "[1, 0, 1, 1, 0, 0, 0, 0, 0, 0]\n",
            "3\n"
          ]
        }
      ]
    },
    {
      "cell_type": "markdown",
      "source": [
        "simplifions :"
      ],
      "metadata": {
        "id": "AdnflQpRccRB"
      }
    },
    {
      "cell_type": "code",
      "source": [
        "def binomiale(n,p):\n",
        "    '''Cette fonction simule un tirage aléatoire selon la loi binomiale de paramètres n et p donnés en entrées'''\n",
        "    B = []\n",
        "    for k in range(n):\n",
        "        B.append(bernoulli(p))\n",
        "    return sum(B)\n"
      ],
      "metadata": {
        "id": "EhEs-B8pciAV"
      },
      "execution_count": null,
      "outputs": []
    },
    {
      "cell_type": "code",
      "source": [
        "binomiale(10,0.4)"
      ],
      "metadata": {
        "colab": {
          "base_uri": "https://localhost:8080/"
        },
        "id": "zenx0wDD51Gx",
        "outputId": "c00a6851-f831-4c1c-de38-124726b26a77"
      },
      "execution_count": null,
      "outputs": [
        {
          "output_type": "execute_result",
          "data": {
            "text/plain": [
              "3"
            ]
          },
          "metadata": {},
          "execution_count": 9
        }
      ]
    },
    {
      "cell_type": "markdown",
      "source": [
        "## **L'exercice : observer la propriété de somme des variances**\n",
        "\n",
        "Voici l'expérience :\n",
        "\n",
        "On dispose d'un dé cubique que l'on lance $n_1$ fois et d'un dé icosaédrique que l'on lance $n_2$ fois. On compte le nombre de \"1\" obtenus par chaque dé, $X_1$ et $X_2$ , et le nombre de \"1\" obtenus en tout.\n",
        "\n",
        "Simuler cette expérience à l'aide de la programmation en Python (décomposer la tâche en tâche moins complexes, en utilisant des fonctions !), illustrer graphiquement, et calculer les éléments caractéristiques (moyenne et variance) de chaque série statistique, et de la série somme."
      ],
      "metadata": {
        "id": "ihYssD0JdyLv"
      }
    },
    {
      "cell_type": "markdown",
      "source": [
        "**1<sup>er</sup> dé, cubique :**\n",
        "On lance n1 fois le dé cubique et on compte le nombre de \"1\"."
      ],
      "metadata": {
        "id": "UkdhdMBogOrM"
      }
    },
    {
      "cell_type": "code",
      "source": [
        "def tirage_de1(N):\n",
        "    '''On lance N fois le dé n°1, probabilité de succès 1/6, et on compte le nombre de succès'''\n",
        "    return binomiale(N,1/6)"
      ],
      "metadata": {
        "id": "R1jaWwowgWwt"
      },
      "execution_count": null,
      "outputs": []
    },
    {
      "cell_type": "code",
      "source": [
        "X1 = tirage_de1(50)\n",
        "X1"
      ],
      "metadata": {
        "colab": {
          "base_uri": "https://localhost:8080/"
        },
        "id": "Ol5GMjU4dHDW",
        "outputId": "f78be652-3c19-456b-da11-8b6770c8b006"
      },
      "execution_count": null,
      "outputs": [
        {
          "output_type": "execute_result",
          "data": {
            "text/plain": [
              "9"
            ]
          },
          "metadata": {},
          "execution_count": 11
        }
      ]
    },
    {
      "cell_type": "markdown",
      "source": [
        "**2<sup>ème</sup> dé, icosaédrique :**"
      ],
      "metadata": {
        "id": "YD1QtIwHiGsw"
      }
    },
    {
      "cell_type": "markdown",
      "source": [
        "On lance n2 fois le dé icosaédrique et on compte le nombre de \"1\"."
      ],
      "metadata": {
        "id": "iIU9z8Gl6RFC"
      }
    },
    {
      "cell_type": "code",
      "source": [
        "def tirage_de2(N):\n",
        "    '''On lance N fois le dé n°2, probabilité de succès 1/20, et on compte le nombre de succès'''\n",
        "    return binomiale(N,1/20)"
      ],
      "metadata": {
        "id": "FGCi2q_biGsx"
      },
      "execution_count": null,
      "outputs": []
    },
    {
      "cell_type": "code",
      "source": [
        "X2 = tirage_de2(50)\n",
        "X2"
      ],
      "metadata": {
        "colab": {
          "base_uri": "https://localhost:8080/"
        },
        "outputId": "122a8a64-1a68-46aa-eb16-e2d7a5e82d21",
        "id": "7fukYiaIiGsx"
      },
      "execution_count": null,
      "outputs": [
        {
          "output_type": "execute_result",
          "data": {
            "text/plain": [
              "2"
            ]
          },
          "metadata": {},
          "execution_count": 13
        }
      ]
    },
    {
      "cell_type": "code",
      "source": [
        ""
      ],
      "metadata": {
        "id": "HG9WXfXy6aLJ"
      },
      "execution_count": null,
      "outputs": []
    },
    {
      "cell_type": "markdown",
      "source": [
        "**Somme des deux variables**"
      ],
      "metadata": {
        "id": "1IxizcV1iroD"
      }
    },
    {
      "cell_type": "markdown",
      "source": [
        "Une simulation de somme :"
      ],
      "metadata": {
        "id": "_z8lV1EU5-lU"
      }
    },
    {
      "cell_type": "code",
      "source": [
        "n1 = 20     # on va tirer n1 fois le dé 1\n",
        "n2 = 100    # on va tirer n2 fois le dé 2\n",
        "X1 = tirage_de1(n1) # on compte le nombre de \"1\" dans n1 tirages du dé 1\n",
        "X2 = tirage_de2(n2) # on compte le nombre de \"1\" dans n2 tirages du dé 2\n",
        "\n",
        "S = X1+X2   # on totalise le nombre de \"1\" du dé 1 et le nombre de \"1\" du dé 2\n",
        "print(X1)\n",
        "print(X2)\n",
        "print(S)"
      ],
      "metadata": {
        "colab": {
          "base_uri": "https://localhost:8080/"
        },
        "id": "u-LjDdJ5xd3i",
        "outputId": "554dbb52-838c-4e2c-8df6-891b2581c015"
      },
      "execution_count": null,
      "outputs": [
        {
          "output_type": "stream",
          "name": "stdout",
          "text": [
            "1\n",
            "7\n",
            "8\n"
          ]
        }
      ]
    },
    {
      "cell_type": "markdown",
      "source": [
        "Échantillon de N sommes :"
      ],
      "metadata": {
        "id": "cYKj6f686Dwn"
      }
    },
    {
      "cell_type": "code",
      "source": [
        "def echantillon_somme(N):\n",
        "    '''Cette fonction simule N tirages aléatoires de la somme des deux variables'''\n",
        "    echt = []\n",
        "    for k in range(N):\n",
        "        X1 = tirage_de1(n1) # on compte le nombre de \"1\" dans n1 tirages du dé 1\n",
        "        X2 = tirage_de2(n2) # on compte le nombre de \"1\" dans n2 tirages du dé 2\n",
        "        S = X1+X2\n",
        "        echt = echt + [S]   #liste des résultats\n",
        "    return echt"
      ],
      "metadata": {
        "id": "yk98Kp-Bi_kX"
      },
      "execution_count": null,
      "outputs": []
    },
    {
      "cell_type": "code",
      "source": [
        "N = 20\n",
        "echantillon_somme(N)"
      ],
      "metadata": {
        "colab": {
          "base_uri": "https://localhost:8080/"
        },
        "id": "W0_Hrd7rk_kI",
        "outputId": "39e4d085-b9a7-4ec0-8357-70331d9d8af7"
      },
      "execution_count": null,
      "outputs": [
        {
          "output_type": "execute_result",
          "data": {
            "text/plain": [
              "[7, 8, 15, 9, 6, 6, 13, 5, 4, 10, 13, 9, 9, 8, 3, 7, 3, 9, 14, 7]"
            ]
          },
          "metadata": {},
          "execution_count": 16
        }
      ]
    },
    {
      "cell_type": "markdown",
      "source": [
        "**Calcul des éléments statistiques et comparaison avec les valeurs théoriques**"
      ],
      "metadata": {
        "id": "M-QySnU9lztc"
      }
    },
    {
      "cell_type": "markdown",
      "source": [
        "* **échantillon de N expériences de sommes de X1 et X2**"
      ],
      "metadata": {
        "id": "aYpSvXgb1gmt"
      }
    },
    {
      "cell_type": "code",
      "source": [
        "N = 2000\n",
        "\n",
        "\n",
        "print('Échantillon de',N, 'tirages de la somme des deux variables :')\n",
        "\n",
        "echantillon = [0]*N\n",
        "\n",
        "\n",
        "echantillon[:] = echantillon_somme(N)\n",
        "\n",
        "\n",
        "print(echantillon)\n"
      ],
      "metadata": {
        "colab": {
          "base_uri": "https://localhost:8080/"
        },
        "id": "eHAP49bZlF44",
        "outputId": "d1d835a1-15e1-4f04-e9e5-a57f69ed3957"
      },
      "execution_count": null,
      "outputs": [
        {
          "output_type": "stream",
          "name": "stdout",
          "text": [
            "Échantillon de 2000 tirages de la somme des deux variables :\n",
            "[7, 9, 8, 10, 7, 9, 8, 4, 8, 7, 8, 7, 9, 6, 9, 11, 10, 5, 8, 8, 16, 3, 4, 9, 6, 11, 6, 6, 9, 7, 9, 7, 9, 11, 5, 11, 11, 8, 15, 11, 11, 10, 11, 2, 11, 7, 14, 6, 7, 7, 10, 4, 13, 8, 8, 7, 11, 7, 12, 9, 11, 12, 7, 6, 5, 10, 8, 9, 8, 2, 13, 12, 10, 10, 7, 9, 13, 8, 6, 5, 9, 16, 10, 8, 8, 8, 5, 9, 6, 7, 6, 8, 6, 10, 6, 7, 9, 10, 6, 10, 13, 5, 9, 6, 7, 8, 3, 10, 11, 7, 8, 10, 9, 10, 14, 11, 6, 6, 3, 9, 16, 9, 13, 9, 7, 8, 9, 10, 7, 6, 11, 9, 8, 1, 8, 10, 4, 4, 13, 7, 3, 8, 7, 10, 12, 8, 11, 8, 4, 13, 9, 13, 7, 13, 7, 10, 12, 9, 10, 9, 8, 4, 13, 5, 11, 5, 11, 15, 8, 12, 8, 8, 11, 12, 11, 9, 2, 3, 6, 9, 10, 11, 6, 8, 9, 10, 10, 9, 13, 11, 11, 5, 7, 6, 5, 11, 5, 6, 12, 5, 6, 9, 7, 9, 5, 2, 11, 14, 9, 10, 6, 6, 12, 9, 7, 15, 8, 8, 8, 9, 3, 8, 6, 3, 12, 9, 12, 8, 6, 8, 6, 3, 10, 9, 9, 14, 11, 4, 7, 4, 15, 7, 4, 10, 5, 12, 9, 9, 5, 5, 10, 11, 4, 5, 12, 6, 9, 5, 6, 13, 8, 8, 3, 9, 6, 13, 10, 7, 9, 9, 6, 11, 11, 7, 6, 12, 10, 9, 5, 13, 5, 8, 7, 6, 5, 14, 6, 9, 9, 13, 8, 6, 11, 8, 7, 7, 10, 11, 4, 6, 11, 12, 7, 6, 8, 6, 13, 15, 8, 11, 9, 9, 2, 11, 7, 13, 7, 9, 6, 7, 6, 4, 13, 7, 6, 10, 10, 7, 9, 3, 12, 6, 10, 12, 12, 7, 8, 10, 5, 8, 12, 12, 6, 11, 8, 9, 9, 9, 5, 15, 9, 14, 9, 6, 14, 4, 10, 12, 5, 5, 6, 3, 6, 5, 6, 10, 8, 9, 9, 8, 5, 9, 6, 7, 4, 9, 10, 10, 12, 9, 3, 7, 7, 10, 4, 6, 3, 10, 4, 4, 6, 9, 6, 8, 6, 4, 14, 6, 10, 6, 6, 6, 8, 11, 3, 8, 12, 12, 9, 13, 10, 9, 12, 9, 8, 12, 6, 8, 10, 11, 9, 7, 6, 8, 6, 11, 6, 13, 10, 12, 10, 11, 6, 8, 6, 12, 6, 8, 11, 12, 12, 5, 11, 12, 4, 9, 5, 13, 7, 9, 9, 10, 9, 9, 9, 4, 8, 11, 6, 10, 4, 3, 9, 8, 13, 7, 8, 7, 7, 9, 12, 5, 9, 11, 6, 9, 9, 18, 5, 12, 5, 6, 9, 14, 7, 8, 6, 10, 11, 13, 10, 12, 6, 7, 8, 7, 6, 6, 7, 7, 7, 4, 9, 10, 8, 7, 8, 7, 13, 12, 10, 5, 10, 4, 7, 6, 7, 8, 9, 9, 10, 9, 7, 8, 9, 10, 8, 9, 7, 4, 4, 15, 10, 7, 6, 3, 9, 10, 7, 15, 5, 8, 7, 6, 12, 11, 3, 9, 8, 5, 6, 9, 5, 11, 8, 10, 9, 3, 8, 7, 17, 6, 5, 11, 6, 6, 7, 11, 9, 6, 6, 4, 3, 10, 9, 5, 9, 4, 4, 9, 8, 3, 11, 10, 10, 7, 8, 8, 7, 6, 7, 6, 11, 10, 8, 7, 8, 5, 8, 7, 9, 9, 10, 6, 9, 9, 10, 7, 5, 6, 11, 8, 9, 5, 8, 16, 8, 8, 13, 8, 9, 11, 10, 11, 9, 7, 12, 10, 8, 5, 6, 11, 7, 7, 6, 8, 18, 8, 10, 8, 9, 14, 8, 8, 7, 8, 5, 10, 6, 4, 4, 10, 6, 8, 8, 6, 5, 2, 9, 6, 10, 10, 15, 8, 5, 5, 6, 9, 7, 8, 11, 6, 0, 9, 11, 9, 13, 5, 6, 6, 12, 6, 8, 6, 8, 7, 5, 5, 9, 4, 2, 8, 6, 7, 8, 7, 8, 7, 7, 5, 6, 3, 6, 10, 9, 10, 10, 8, 10, 13, 7, 7, 4, 9, 12, 9, 5, 9, 6, 11, 5, 8, 15, 6, 10, 8, 7, 16, 6, 7, 7, 10, 9, 15, 8, 9, 8, 11, 9, 11, 8, 6, 6, 7, 7, 11, 6, 5, 11, 5, 7, 9, 6, 7, 11, 9, 5, 11, 11, 11, 9, 11, 4, 8, 8, 9, 7, 7, 12, 8, 7, 9, 9, 8, 5, 9, 7, 5, 6, 11, 10, 8, 5, 10, 5, 9, 9, 10, 9, 16, 7, 13, 8, 8, 7, 6, 8, 8, 8, 12, 7, 8, 7, 13, 8, 11, 8, 10, 6, 7, 10, 7, 7, 12, 10, 5, 9, 10, 15, 11, 11, 8, 9, 9, 7, 6, 11, 8, 10, 8, 9, 5, 10, 9, 4, 7, 10, 8, 10, 11, 5, 9, 7, 10, 11, 7, 7, 6, 1, 3, 8, 6, 10, 6, 9, 7, 5, 6, 11, 9, 6, 7, 11, 6, 3, 10, 5, 13, 6, 12, 14, 11, 9, 9, 13, 10, 12, 8, 7, 8, 11, 7, 15, 12, 8, 8, 9, 8, 12, 11, 5, 14, 5, 8, 10, 6, 9, 5, 10, 6, 6, 10, 7, 6, 6, 15, 11, 11, 9, 8, 6, 6, 8, 5, 8, 8, 9, 10, 13, 6, 11, 11, 9, 4, 6, 6, 12, 11, 4, 7, 5, 12, 7, 9, 6, 1, 8, 7, 7, 6, 10, 13, 9, 9, 8, 11, 11, 10, 8, 9, 12, 5, 9, 6, 10, 3, 9, 10, 19, 11, 11, 9, 13, 5, 9, 12, 11, 7, 12, 8, 7, 10, 11, 6, 5, 7, 5, 8, 8, 10, 11, 8, 7, 11, 8, 10, 3, 6, 9, 7, 5, 9, 9, 7, 8, 7, 13, 11, 7, 10, 8, 8, 6, 5, 11, 10, 6, 11, 8, 9, 6, 9, 12, 8, 7, 7, 12, 11, 12, 9, 6, 3, 10, 7, 14, 4, 9, 8, 8, 5, 8, 9, 11, 9, 7, 10, 8, 7, 6, 10, 6, 7, 12, 12, 5, 11, 5, 10, 7, 8, 10, 9, 9, 14, 9, 9, 8, 7, 11, 5, 6, 5, 9, 13, 6, 11, 7, 8, 8, 5, 7, 10, 9, 10, 8, 7, 4, 8, 8, 10, 8, 4, 7, 5, 8, 14, 9, 11, 6, 10, 8, 12, 8, 7, 4, 4, 9, 12, 10, 7, 12, 12, 8, 11, 7, 8, 11, 10, 10, 10, 9, 7, 8, 6, 11, 7, 9, 4, 10, 11, 5, 13, 6, 9, 14, 9, 8, 9, 7, 8, 4, 9, 13, 6, 9, 7, 8, 6, 8, 15, 8, 7, 10, 12, 10, 9, 7, 10, 13, 10, 8, 15, 4, 8, 10, 5, 11, 8, 7, 9, 7, 9, 5, 3, 9, 7, 8, 7, 8, 8, 4, 9, 7, 13, 8, 9, 5, 12, 3, 9, 12, 8, 8, 5, 6, 12, 11, 5, 4, 7, 9, 12, 7, 11, 8, 4, 6, 7, 10, 11, 10, 8, 9, 9, 12, 13, 3, 10, 11, 6, 7, 15, 7, 5, 11, 11, 10, 7, 6, 8, 8, 8, 7, 7, 4, 5, 6, 7, 8, 7, 7, 3, 7, 9, 11, 11, 11, 16, 6, 7, 4, 5, 5, 3, 6, 5, 8, 11, 6, 5, 10, 11, 7, 9, 8, 12, 13, 5, 11, 12, 8, 7, 10, 11, 10, 9, 15, 6, 5, 11, 10, 11, 8, 7, 9, 7, 8, 6, 8, 6, 7, 8, 6, 7, 5, 9, 12, 8, 6, 8, 9, 6, 7, 5, 10, 8, 10, 13, 10, 6, 10, 5, 8, 10, 7, 8, 10, 5, 15, 8, 10, 6, 14, 11, 5, 6, 8, 14, 8, 10, 7, 5, 7, 6, 9, 7, 12, 11, 10, 12, 2, 13, 9, 4, 13, 8, 8, 8, 6, 10, 13, 6, 9, 4, 9, 5, 6, 11, 5, 2, 10, 9, 11, 5, 8, 8, 11, 4, 6, 7, 7, 5, 7, 7, 7, 10, 16, 8, 10, 6, 10, 11, 7, 7, 12, 7, 10, 10, 7, 5, 11, 5, 11, 4, 8, 6, 8, 4, 7, 9, 5, 2, 12, 5, 12, 11, 14, 5, 13, 6, 7, 4, 14, 10, 4, 11, 6, 10, 2, 10, 8, 11, 9, 9, 6, 5, 7, 7, 6, 9, 10, 6, 9, 10, 10, 10, 11, 8, 10, 10, 8, 10, 7, 9, 11, 12, 4, 12, 9, 12, 10, 11, 4, 3, 7, 6, 10, 6, 8, 9, 11, 8, 10, 9, 10, 9, 11, 5, 3, 6, 8, 7, 11, 8, 10, 4, 8, 8, 6, 11, 10, 8, 7, 6, 7, 5, 4, 5, 8, 12, 9, 14, 7, 12, 8, 6, 11, 12, 4, 6, 11, 7, 8, 4, 9, 6, 7, 11, 9, 10, 8, 7, 7, 6, 7, 4, 10, 11, 7, 5, 10, 9, 8, 11, 10, 13, 5, 8, 9, 8, 5, 11, 11, 9, 8, 8, 5, 8, 8, 11, 8, 9, 7, 9, 10, 5, 5, 5, 13, 12, 11, 10, 10, 9, 7, 6, 6, 4, 7, 13, 12, 6, 12, 10, 5, 12, 6, 10, 7, 10, 6, 8, 3, 3, 13, 10, 10, 9, 10, 8, 2, 13, 7, 12, 8, 10, 3, 10, 8, 12, 4, 8, 2, 4, 18, 9, 7, 5, 10, 10, 10, 8, 6, 12, 12, 9, 7, 6, 7, 9, 12, 13, 7, 7, 7, 13, 8, 8, 8, 6, 6, 8, 8, 9, 9, 5, 6, 12, 8, 10, 11, 6, 9, 12, 13, 4, 14, 5, 13, 11, 7, 5, 9, 8, 11, 11, 9, 9, 3, 10, 7, 3, 9, 9, 9, 10, 8, 4, 8, 11, 12, 9, 12, 14, 4, 5, 11, 9, 10, 7, 8, 12, 12, 10, 8, 12, 9, 7, 8, 14, 2, 9, 10, 6, 13, 12, 4, 8, 14, 13, 8, 11, 6, 6, 6, 7, 8, 6, 8, 9, 6, 9, 9, 5, 11, 10, 6, 11, 9, 7, 5, 9, 6, 9, 9, 9, 10, 18, 6, 4, 9, 11, 7, 6, 11, 5, 9, 4, 5, 10, 6, 12, 4, 8, 6, 7, 8, 9, 7, 3, 8, 14, 9, 5, 11, 7, 15, 5, 7, 11, 10, 5, 10, 10, 7, 5, 8, 13, 7, 9, 6, 11, 11, 6, 8, 7, 12, 12, 6, 12, 9, 8, 8, 11, 11, 2, 13, 7, 8, 8, 9, 7, 6, 7, 9, 8, 6, 10, 9, 9, 9, 6, 10, 6, 6, 9, 13, 7, 8, 8, 13, 5, 7, 16, 9, 14, 11, 8, 11, 13, 13, 9, 13, 6, 7, 5, 11, 7, 7, 3, 13, 11, 7, 4, 14, 11, 9, 9, 12, 6, 7, 15, 7, 6, 8, 11, 9, 4, 5, 5, 11, 9, 8, 10, 5, 13, 11, 9, 17, 10, 9, 7, 3, 7, 7, 12, 7, 8, 9, 11, 7, 10, 7, 10, 9, 3, 6, 7, 8, 11, 7, 8, 5, 6, 8, 11, 7, 8, 11, 8, 11, 9, 5, 10, 8, 13, 6, 5, 7, 10, 11, 6, 5, 13, 6, 12, 7, 9, 11, 8, 8, 6, 6, 5, 6, 11, 11, 7, 10, 10, 14, 9, 12, 15, 7, 9, 6, 7, 6, 10, 8, 4, 10, 6, 8, 11, 5, 9, 9, 10, 9, 8, 9, 4, 11, 6, 10, 3, 9, 14, 9, 7, 6, 11, 8, 10, 9, 9, 10, 9, 5, 14, 7, 12, 8, 7, 4, 8, 11, 5, 6, 8, 8, 11, 7, 17, 11, 6, 8, 7, 6, 11, 4, 9, 10, 7, 7, 3, 8, 11, 4, 10, 13, 10, 11, 7, 8, 10, 11, 11, 6, 6, 8, 11, 6, 9, 14, 9, 9, 9, 7, 7, 9, 9, 7, 8, 10, 8, 9, 6]\n"
          ]
        }
      ]
    },
    {
      "cell_type": "markdown",
      "source": [
        "* **Moyenne**"
      ],
      "metadata": {
        "id": "C8bBnrqN07lM"
      }
    },
    {
      "cell_type": "code",
      "source": [
        "def moyenne(echantillon) :\n",
        "    N = len(echantillon)\n",
        "    S = sum(echantillon)\n",
        "    return(S/N)"
      ],
      "metadata": {
        "id": "HtzkVJ0vl4ZE"
      },
      "execution_count": null,
      "outputs": []
    },
    {
      "cell_type": "code",
      "source": [
        "esp_X1 = n1*1/6\n",
        "esp_X2 = n2*1/20\n",
        "\n",
        "print('      espérance théorique de X1 : nombre de \"1\" sur ',n1,' tirages du dé cubique :',esp_X1)\n",
        "print('      espérance théorique de X2 : nombre de \"1\" sur ',n2,' tirages du dé icosaédrique :',esp_X2)\n",
        "\n",
        "S = sum(echantillon)\n",
        "S_bar = moyenne(echantillon)\n",
        "print(\"Moyenne de l'échantillon :\",S_bar)\n",
        "print('      somme des espérances théoriques :', esp_X1 + esp_X2)"
      ],
      "metadata": {
        "colab": {
          "base_uri": "https://localhost:8080/"
        },
        "id": "BNWkHMg9mF-5",
        "outputId": "b6caeb65-a8eb-49fb-da59-73b5742fd55d"
      },
      "execution_count": null,
      "outputs": [
        {
          "output_type": "stream",
          "name": "stdout",
          "text": [
            "      espérance théorique de X1 : nombre de \"1\" sur  20  tirages du dé cubique : 3.3333333333333335\n",
            "      espérance théorique de X2 : nombre de \"1\" sur  100  tirages du dé icosaédrique : 5.0\n",
            "Moyenne de l'échantillon : 8.354\n",
            "      somme des espérances théoriques : 8.333333333333334\n"
          ]
        }
      ]
    },
    {
      "cell_type": "markdown",
      "source": [
        "* **Variance**"
      ],
      "metadata": {
        "id": "ekLnLvdW1pUB"
      }
    },
    {
      "cell_type": "code",
      "source": [
        "def var(X):\n",
        "    Xcarre = [valeur**2 for valeur in X] # calcul de la série X²\n",
        "    return moyenne(Xcarre) - (moyenne(X))**2 # formule de Koenig-Huygens\n"
      ],
      "metadata": {
        "id": "0wh5ujfZ1Vbj"
      },
      "execution_count": null,
      "outputs": []
    },
    {
      "cell_type": "code",
      "source": [
        "var_X1 = n1 *1/6 * 5/6 # npq\n",
        "var_X2 = n2 *1/20 * 19/20\n",
        "\n",
        "print('      variance théorique de X1 (nombre de \"1\" sur ',n1,' tirages du dé cubique) :',var_X1)\n",
        "print('      variance théorique de X2 (nombre de \"1\" sur ',n2,' tirages du dé icosaédrique) :',var_X2)\n",
        "\n",
        "var_S = var(echantillon)\n",
        "\n",
        "print(\"      Variance de l'échantillon :\",var_S)\n",
        "print('      somme des variances théoriques :', var_X1 + var_X2)"
      ],
      "metadata": {
        "colab": {
          "base_uri": "https://localhost:8080/"
        },
        "id": "0PHRV4j-2c5I",
        "outputId": "722538e6-0a83-44dc-fb60-0ec49cd1c808"
      },
      "execution_count": null,
      "outputs": [
        {
          "output_type": "stream",
          "name": "stdout",
          "text": [
            "      variance théorique de X1 (nombre de \"1\" sur  20  tirages du dé cubique) : 2.777777777777778\n",
            "      variance théorique de X2 (nombre de \"1\" sur  100  tirages du dé icosaédrique) : 4.75\n",
            "      Variance de l'échantillon : 7.653684000000013\n",
            "      somme des variances théoriques : 7.527777777777779\n"
          ]
        }
      ]
    },
    {
      "cell_type": "markdown",
      "metadata": {
        "id": "2G3of1WDTFAU"
      },
      "source": [
        "### Couche graphique\n"
      ]
    },
    {
      "cell_type": "code",
      "metadata": {
        "id": "st8sn24fTFAP"
      },
      "source": [
        "from random import random\n",
        "import matplotlib.pyplot as plt\n",
        "from math import log, exp, pi, sqrt\n"
      ],
      "execution_count": null,
      "outputs": []
    },
    {
      "cell_type": "code",
      "source": [
        "# univers_images\n",
        "X1_Omega = [k for k in range(7)]\n",
        "X2_Omega = [k for k in range(21)]\n",
        "X_Somme_Omega = [k for k in range(27)]"
      ],
      "metadata": {
        "id": "t-P8aq5c70FI"
      },
      "execution_count": null,
      "outputs": []
    },
    {
      "cell_type": "markdown",
      "source": [
        "Reprenons notre fonction \"echantillon\", en renvoyant également les distributions des deux dés."
      ],
      "metadata": {
        "id": "TlEiBC3l4d6F"
      }
    },
    {
      "cell_type": "code",
      "source": [
        "def echantillon_somme(N):\n",
        "    '''Cette fonction simule N tirages aléatoires de la somme des deux variables'''\n",
        "    echt_de1 = []\n",
        "    echt_de2 = [] \n",
        "    echt_somme = []\n",
        "    for k in range(N):\n",
        "        X1 = tirage_de1(n1) # on compte le nombre de \"1\" dans n1 tirages du dé 1\n",
        "        echt_de1 = echt_de1 + [X1]\n",
        "        X2 = tirage_de2(n2) # on compte le nombre de \"1\" dans n2 tirages du dé 2\n",
        "        echt_de2 = echt_de2 + [X2]\n",
        "        S = X1+X2\n",
        "        echt_somme = echt_somme + [S]   #liste des résultats\n",
        "    return echt_de1, echt_de2, echt_somme"
      ],
      "metadata": {
        "id": "D18jxikP4Lgx"
      },
      "execution_count": null,
      "outputs": []
    },
    {
      "cell_type": "code",
      "source": [
        "N = 2000\n",
        "echt_de1, echt_de2, echt_somme = echantillon_somme(N)"
      ],
      "metadata": {
        "id": "58e0B92Q5Jfy"
      },
      "execution_count": null,
      "outputs": []
    },
    {
      "cell_type": "markdown",
      "source": [
        "**tabulation** : calcul des fréquences"
      ],
      "metadata": {
        "id": "1dOemleh7a-u"
      }
    },
    {
      "cell_type": "code",
      "metadata": {
        "id": "trDG9OPETFAe"
      },
      "source": [
        "def tabuler(X_Omega, echantillon):\n",
        "    ''' Cette fonction reçoit un univers-image et un échantillon aléatoire tiré par ailleurs\n",
        "    et renvoie la distribution des fréquences de l'échantillon au sein de l'univers-image'''\n",
        "    card = len(X_Omega)\n",
        "    frequences = [0]*card\n",
        "\n",
        "    for k in echantillon :\n",
        "        if k <= X_Omega[-1]:\n",
        "            frequences[k-X_Omega[0]] = frequences[k-X_Omega[0]] + 1/N\n",
        "    \n",
        "    #print(frequences)\n",
        "    return(frequences)\n"
      ],
      "execution_count": null,
      "outputs": []
    },
    {
      "cell_type": "markdown",
      "source": [
        ""
      ],
      "metadata": {
        "id": "4y7mwgtt8tty"
      }
    },
    {
      "cell_type": "code",
      "source": [
        "\n",
        "# Tabulation des 3 échantillons\n",
        "freq_de1_tab = tabuler(X1_Omega, echt_de1)\n",
        "freq_de2_tab = tabuler(X2_Omega, echt_de2)\n",
        "freq_somme_tab = tabuler(X_Somme_Omega, echt_somme)\n",
        "\n",
        "# petit décalage des univers-image pour meilleur superposition graphique\n",
        "X2_Omega = [X2_Omega[k] + 0.2 for k in range(21)]\n",
        "X_Somme_Omega = [X_Somme_Omega[k] + 0.4 for k in range(27)]"
      ],
      "metadata": {
        "id": "u7CqJirs8wyf"
      },
      "execution_count": null,
      "outputs": []
    },
    {
      "cell_type": "markdown",
      "source": [
        "**Diagramme en bâtons à partir de fréquences tabulées**"
      ],
      "metadata": {
        "id": "PYb-aZ4J7hS-"
      }
    },
    {
      "cell_type": "code",
      "metadata": {
        "id": "t9i8ucOGTFAj"
      },
      "source": [
        "def diagramme_batons(X_Omega, tabule, couleur):\n",
        "    '''Cette fonction reçoit un univers-image, une tabulation des fréquences d'un échantillon \n",
        "    et dessine le diagramme en bâtons de l'échantillon'''\n",
        "    # tracer les diagrammes en bâtons\n",
        "    plt.grid(True)\n",
        "    largeur = (X_Omega[-1] - X_Omega[0])/100\n",
        "\n",
        "    plt.bar(X_Omega, tabule, width = largeur, color = couleur, alpha = 1)\n",
        "\n",
        "    plt.xlabel('X_Omega')\n",
        "    plt.ylabel('Frequences')\n",
        "\n",
        "    ax = plt.gca() # récupération du paramétrage des axes\n",
        "\n",
        "    ax.spines['left'].set_position('zero') # positionnement de l'axe des ordonnées à x = 0\n",
        "    ax.spines['right'].set_color('none')\n",
        "    ax.spines['bottom'].set_position('zero') # positionnement de l'axe des abscisses à y = 0\n",
        "    ax.spines['top'].set_color('none')"
      ],
      "execution_count": null,
      "outputs": []
    },
    {
      "cell_type": "code",
      "source": [
        "# diagrammes\n",
        "diagramme_batons(X1_Omega, freq_de1_tab, 'blue')\n",
        "diagramme_batons(X2_Omega , freq_de2_tab, 'green')\n",
        "diagramme_batons(X_Somme_Omega , freq_somme_tab, 'red')\n"
      ],
      "metadata": {
        "colab": {
          "base_uri": "https://localhost:8080/",
          "height": 280
        },
        "id": "Ypmffs5B-EcY",
        "outputId": "cfb5de37-2c98-4e46-e21d-e7be6988f49e"
      },
      "execution_count": null,
      "outputs": [
        {
          "output_type": "display_data",
          "data": {
            "text/plain": [
              "<Figure size 432x288 with 1 Axes>"
            ],
            "image/png": "[encoded data removed]"
          },
          "metadata": {
            "needs_background": "light"
          }
        }
      ]
    },
    {
      "cell_type": "markdown",
      "source": [
        "Quelles propriétés historiquement très importantes va-t-on illustrer dans le diagramme suivant ?\n",
        "\n"
      ],
      "metadata": {
        "id": "6pJKMWK_ABuo"
      }
    },
    {
      "cell_type": "code",
      "source": [
        "def densite_normale(x,mu,sigma2) :\n",
        "    y = [1/sqrt(sigma2*2*pi) * exp(-1/2*(x[k]-mu)**2/sigma2) for k in range(len(x))]\n",
        "    return y\n",
        "\n",
        "x = [k*0.1 for k in range(261)]\n",
        "mu1 = 20/6\n",
        "sigma2_1 = 100/36\n",
        "y1 = densite_normale(x,mu1,sigma2_1)\n",
        "\n",
        "mu2 = 100/20\n",
        "sigma2_2 = 1900/400\n",
        "y2 = densite_normale(x,mu2,sigma2_2)\n",
        "\n",
        "muS = mu1+mu2\n",
        "sigma2_S = sigma2_1 + sigma2_2\n",
        "yS = densite_normale(x,muS,sigma2_S)\n",
        "\n",
        "\n",
        "diagramme_batons(X1_Omega, freq_de1_tab, 'blue')\n",
        "diagramme_batons(X2_Omega , freq_de2_tab, 'green')\n",
        "diagramme_batons(X_Somme_Omega , freq_somme_tab, 'red')\n",
        "\n",
        "plt.plot(x,y1,\"b\", linewidth=1)\n",
        "plt.plot(x,y2,\"g\", linewidth=1)\n",
        "plt.plot(x,yS,\"r\", linewidth=1)"
      ],
      "metadata": {
        "colab": {
          "base_uri": "https://localhost:8080/",
          "height": 298
        },
        "id": "MyvEZBD5A-W1",
        "outputId": "c01130ac-2564-45a2-ed1d-46dd9b017f72"
      },
      "execution_count": null,
      "outputs": [
        {
          "output_type": "execute_result",
          "data": {
            "text/plain": [
              "[<matplotlib.lines.Line2D at 0x7f5808421650>]"
            ]
          },
          "metadata": {},
          "execution_count": 96
        },
        {
          "output_type": "display_data",
          "data": {
            "text/plain": [
              "<Figure size 432x288 with 1 Axes>"
            ],
            "image/png": "[encoded data removed]"
          },
          "metadata": {
            "needs_background": "light"
          }
        }
      ]
    },
    {
      "cell_type": "code",
      "source": [
        ""
      ],
      "metadata": {
        "id": "r_sqVDhsHhJ_"
      },
      "execution_count": null,
      "outputs": []
    }
  ]
}