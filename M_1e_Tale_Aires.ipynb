{
  "nbformat": 4,
  "nbformat_minor": 0,
  "metadata": {
    "kernelspec": {
      "display_name": "Python 3",
      "language": "python",
      "name": "python3"
    },
    "language_info": {
      "codemirror_mode": {
        "name": "ipython",
        "version": 3
      },
      "file_extension": ".py",
      "mimetype": "text/x-python",
      "name": "python",
      "nbconvert_exporter": "python",
      "pygments_lexer": "ipython3",
      "version": "3.7.1"
    },
    "colab": {
      "name": "M-1e-Tale_Aires.ipynb",
      "provenance": [],
      "include_colab_link": true
    }
  },
  "cells": [
    {
      "cell_type": "markdown",
      "metadata": {
        "id": "view-in-github",
        "colab_type": "text"
      },
      "source": [
        "<a href=\"https://colab.research.google.com/github/othoni-hub/M1-Maths-Algo/blob/main/M_1e_Tale_Aires.ipynb\" target=\"_parent\"><img src=\"https://colab.research.google.com/assets/colab-badge.svg\" alt=\"Open In Colab\"/></a>"
      ]
    },
    {
      "cell_type": "markdown",
      "metadata": {
        "id": "iNYgJVfF_REW"
      },
      "source": [
        "# Mathématiques \n",
        "# 1<sup>ère</sup> - Terminale (spécialité, options complémentaire et experte)\n",
        "\n",
        "\n",
        "## Chapitre 2 : Calcul approché\n",
        "## 3<sup>ème</sup> partie : - CALCUL APPROCHÉ D'AIRES et autres notions liées aux calculs intégral et différentiel-\n",
        "\n",
        "**O.THÖNI - IFUCOME -**\n",
        "*Document sous licence Creative Commons (CC) : By - NC - SA*"
      ]
    },
    {
      "cell_type": "code",
      "metadata": {
        "id": "WOulo1VC_REm"
      },
      "source": [
        "import matplotlib.pyplot as plt\n",
        "import numpy as np\n",
        "from math import sqrt, log, exp\n",
        "\n",
        "def centrax() :\n",
        "    ax = plt.gca()\n",
        "    ax.spines['left'].set_position('zero')\n",
        "    ax.spines['right'].set_color('none')\n",
        "    ax.spines['bottom'].set_position('zero')\n",
        "    ax.spines['top'].set_color('none')\n",
        "    "
      ],
      "execution_count": null,
      "outputs": []
    },
    {
      "cell_type": "code",
      "metadata": {
        "id": "Y2ORjn2z4lkU"
      },
      "source": [
        ""
      ],
      "execution_count": null,
      "outputs": []
    },
    {
      "cell_type": "markdown",
      "metadata": {
        "id": "F7wewfpq_RHR"
      },
      "source": [
        "On cherche une valeur approchée de l'aire sous la courbe de la fonction f(x) = x^3 + x^2 + 6x + 5, entre -3 et 3"
      ]
    },
    {
      "cell_type": "code",
      "metadata": {
        "id": "p0Inah71_RHV",
        "colab": {
          "base_uri": "https://localhost:8080/",
          "height": 280
        },
        "outputId": "ba989824-a20c-45d3-b0db-f82f5e7206ec"
      },
      "source": [
        "a = -3\n",
        "b = 3\n",
        "\n",
        "# Définition de la fonction\n",
        "def f(x):\n",
        "    y = x**3 + x**2 -6*x + 5\n",
        "    return y\n",
        "titre = ('x^3 + x^2 - 6x + 5')\n",
        "\n",
        "# Représentation graphique\n",
        "def graph(f):\n",
        "    xx = np.arange(a,b+0.1,0.1) # liste numpy de a à b avec un pas de 0.1 (les listes natives avec range sont des listes d'entiers)\n",
        "    yy = []\n",
        "\n",
        "    for x in xx :\n",
        "        yy.append(f(x))\n",
        "    \n",
        "    p1 = plt.plot(xx,yy,'r',linewidth=1)\n",
        "\n",
        "    centrax()\n",
        "\n",
        "    plt.xlim(a-0.5,b+0.5)\n",
        "    plt.title(titre)\n",
        "    \n",
        "graph(f)\n",
        "plt.show()"
      ],
      "execution_count": null,
      "outputs": [
        {
          "output_type": "display_data",
          "data": {
            "image/png": "[encoded data removed]",
            "text/plain": [
              "<Figure size 432x288 with 1 Axes>"
            ]
          },
          "metadata": {
            "tags": []
          }
        }
      ]
    },
    {
      "cell_type": "markdown",
      "metadata": {
        "id": "p7r8MC-x_RIA"
      },
      "source": [
        "### 1. méthode des rectangles\n",
        "\n",
        "**<span style=\"color: #D17460\">TSpé - TCompl </span>**\n",
        "\n",
        "**<span style=\"color: #26B260\">Python : listes par compréhension</span>**\n"
      ]
    },
    {
      "cell_type": "code",
      "metadata": {
        "id": "NAmkHq0M_RIE"
      },
      "source": [
        "titre = 'y = x^3 + x^2 - 6x + 5'\n",
        "def rectangles(n):\n",
        "    pas = (b-a)/n\n",
        "    Aire = 0\n",
        "\n",
        "    x = [a + k*pas for k in range(n)] # liste définie par compréhension\n",
        "    Rectangles = [pas*f(x[k]) for k in range(n)]\n",
        "    S = sum(Rectangles) #somme des termes de la liste 'Rectangles'\n",
        "    return S\n"
      ],
      "execution_count": null,
      "outputs": []
    },
    {
      "cell_type": "code",
      "metadata": {
        "id": "RZY-p6t8_RIS",
        "colab": {
          "base_uri": "https://localhost:8080/",
          "height": 34
        },
        "outputId": "cc02dd58-8717-4c7f-e34f-968b6b6ed98f"
      },
      "source": [
        "rectangles((b-a)*5) #unité divisée en 5"
      ],
      "execution_count": null,
      "outputs": [
        {
          "output_type": "execute_result",
          "data": {
            "text/plain": [
              "46.24000000000001"
            ]
          },
          "metadata": {
            "tags": []
          },
          "execution_count": 4
        }
      ]
    },
    {
      "cell_type": "code",
      "metadata": {
        "id": "xO6vAjrl_RIf",
        "colab": {
          "base_uri": "https://localhost:8080/",
          "height": 34
        },
        "outputId": "9c6d6ad0-cbb3-49b1-d905-4e4cd2957602"
      },
      "source": [
        "rectangles((b-a)*100)"
      ],
      "execution_count": null,
      "outputs": [
        {
          "output_type": "execute_result",
          "data": {
            "text/plain": [
              "47.910100000000035"
            ]
          },
          "metadata": {
            "tags": []
          },
          "execution_count": 5
        }
      ]
    },
    {
      "cell_type": "code",
      "metadata": {
        "id": "UnqCs5O2_RIz",
        "colab": {
          "base_uri": "https://localhost:8080/",
          "height": 34
        },
        "outputId": "d152e41f-0642-4270-90e8-7b91edc188e5"
      },
      "source": [
        "rectangles((b-a)*100000) "
      ],
      "execution_count": null,
      "outputs": [
        {
          "output_type": "execute_result",
          "data": {
            "text/plain": [
              "47.999910000102716"
            ]
          },
          "metadata": {
            "tags": []
          },
          "execution_count": 6
        }
      ]
    },
    {
      "cell_type": "markdown",
      "metadata": {
        "id": "stmQKhZC_RJD"
      },
      "source": [
        "**_illustration graphique pour l'unité subdivisée en 2_**"
      ]
    },
    {
      "cell_type": "code",
      "metadata": {
        "id": "ggmXeYGt_RJH",
        "colab": {
          "base_uri": "https://localhost:8080/",
          "height": 288
        },
        "outputId": "2f313980-6e80-4840-dbca-0040b7e5efb2"
      },
      "source": [
        "graph(f)\n",
        "\n",
        "n = (b-a)*2\n",
        "pas = (b-a)/n\n",
        "x = [a + k*pas for k in range(n)]\n",
        "\n",
        "for k in range(n-1) :\n",
        "    plt.plot([x[k],x[k]],[0,f(x[k])], 'b',linewidth = 1 )\n",
        "    if f(x[k]) > f(x[k+1]) :\n",
        "        plt.plot([x[k+1],x[k+1]],[0,f(x[k])], 'b',linewidth = 1 )\n",
        "    plt.plot([x[k],x[k+1]],[f(x[k]),f(x[k])], 'b',linewidth = 1)\n",
        "    \n",
        "plt.plot([x[-1],x[-1]],[0,f(x[-1])], 'b',linewidth = 1 ) \n",
        "plt.plot([x[-1],b],[f(x[-1]),f(x[-1])], 'b',linewidth = 1 )\n",
        "plt.plot([b,b],[0,f(b)], 'b',linewidth = 1 )  \n",
        "\n",
        "plt.show()\n",
        "\n",
        "print('Aire estimée : ', rectangles(n))\n"
      ],
      "execution_count": null,
      "outputs": [
        {
          "output_type": "display_data",
          "data": {
            "image/png": "[encoded data removed]",
            "text/plain": [
              "<Figure size 432x288 with 1 Axes>"
            ]
          },
          "metadata": {
            "tags": []
          }
        },
        {
          "output_type": "stream",
          "text": [
            "Aire estimée :  43.75\n"
          ],
          "name": "stdout"
        }
      ]
    },
    {
      "cell_type": "markdown",
      "metadata": {
        "id": "W8W3CECH_RJT"
      },
      "source": [
        "### 2. méthode des trapèzes\n",
        "\n",
        "**<span style=\"color: #D17460\">TSpé </span>**\n"
      ]
    },
    {
      "cell_type": "code",
      "metadata": {
        "id": "vzrzcPmC_RJZ"
      },
      "source": [
        "def trapezes(n):\n",
        "    pas = (b-a)/n\n",
        "    Aire = 0\n",
        "\n",
        "    x = [a + k*pas for k in range(n+1)] # liste définie par compréhension\n",
        "    Trapezes = [pas*(f(x[k])+f(x[k+1]))/2 for k in range(n)]\n",
        "    S = sum(Trapezes) \n",
        "    return S"
      ],
      "execution_count": null,
      "outputs": []
    },
    {
      "cell_type": "code",
      "metadata": {
        "id": "dvRjOKHD_RJr",
        "colab": {
          "base_uri": "https://localhost:8080/",
          "height": 34
        },
        "outputId": "46d51715-fca6-4878-aef8-39f9515d84ff"
      },
      "source": [
        "trapezes((b-a)*5)"
      ],
      "execution_count": null,
      "outputs": [
        {
          "output_type": "execute_result",
          "data": {
            "text/plain": [
              "48.040000000000006"
            ]
          },
          "metadata": {
            "tags": []
          },
          "execution_count": 9
        }
      ]
    },
    {
      "cell_type": "code",
      "metadata": {
        "id": "bpcr7wb0_RJ3",
        "colab": {
          "base_uri": "https://localhost:8080/",
          "height": 34
        },
        "outputId": "76bfb8e2-6a26-4ff2-beca-b0dbe9c388a4"
      },
      "source": [
        "trapezes((b-a)*100)"
      ],
      "execution_count": null,
      "outputs": [
        {
          "output_type": "execute_result",
          "data": {
            "text/plain": [
              "48.0001"
            ]
          },
          "metadata": {
            "tags": []
          },
          "execution_count": 10
        }
      ]
    },
    {
      "cell_type": "code",
      "metadata": {
        "id": "UugwfwyQ_RKG",
        "colab": {
          "base_uri": "https://localhost:8080/",
          "height": 34
        },
        "outputId": "55505d0c-dfb6-4870-924c-b2f1ee6e6d8b"
      },
      "source": [
        "trapezes((b-a)*100000)"
      ],
      "execution_count": null,
      "outputs": [
        {
          "output_type": "execute_result",
          "data": {
            "text/plain": [
              "48.00000000009952"
            ]
          },
          "metadata": {
            "tags": []
          },
          "execution_count": 11
        }
      ]
    },
    {
      "cell_type": "markdown",
      "metadata": {
        "id": "zxp4O2-X_RKP"
      },
      "source": [
        "**_illustration graphique pour l'unité subdivisée en 2_**"
      ]
    },
    {
      "cell_type": "code",
      "metadata": {
        "id": "yHZLvZRX_RKR",
        "colab": {
          "base_uri": "https://localhost:8080/",
          "height": 288
        },
        "outputId": "eec58308-ffd6-4a10-ea2a-7454c02dbe2d"
      },
      "source": [
        "graph(f)\n",
        "\n",
        "n = (b-a)*2\n",
        "pas = (b-a)/n\n",
        "x = [a + k*pas for k in range(n+1)]\n",
        "\n",
        "for k in range(n) :\n",
        "    plt.plot([x[k],x[k]],[0,f(x[k])], 'b',linewidth = 1 )\n",
        "    plt.plot([x[k],x[k+1]],[f(x[k]),f(x[k+1])], 'b',linewidth = 1)\n",
        "    \n",
        "#plt.plot([x[-1],x[-1]],[0,f(x[-1])], 'b',linewidth = 1 ) \n",
        "#plt.plot([x[-1],b],[f(x[-1]),f(x[-1])], 'b',linewidth = 1 )\n",
        "plt.plot([b,b],[0,f(b)], 'b',linewidth = 1 )  \n",
        "\n",
        "plt.show()\n",
        "\n",
        "print('Aire estimée : ', trapezes(n))"
      ],
      "execution_count": null,
      "outputs": [
        {
          "output_type": "display_data",
          "data": {
            "image/png": "[encoded data removed]",
            "text/plain": [
              "<Figure size 432x288 with 1 Axes>"
            ]
          },
          "metadata": {
            "tags": []
          }
        },
        {
          "output_type": "stream",
          "text": [
            "Aire estimée :  48.25\n"
          ],
          "name": "stdout"
        }
      ]
    },
    {
      "cell_type": "markdown",
      "metadata": {
        "id": "rbysxINd_RKc"
      },
      "source": [
        "### 3. méthode des milieux\n",
        "\n",
        "**<span style=\"color: #D17460\">TSpé </span>**\n"
      ]
    },
    {
      "cell_type": "code",
      "metadata": {
        "id": "Stdh68m2_RKf"
      },
      "source": [
        "def milieux(n):\n",
        "    pas = (b-a)/n\n",
        "    Aire = 0\n",
        "\n",
        "    x = [a + k*pas for k in range(n+1)] # liste définie par compréhension\n",
        "    RectanglesMilieux = [pas*f((x[k]+x[k+1])/2) for k in range(n)]\n",
        "    S = sum(RectanglesMilieux) \n",
        "    return S"
      ],
      "execution_count": null,
      "outputs": []
    },
    {
      "cell_type": "code",
      "metadata": {
        "id": "ioynG1GM_RKz",
        "colab": {
          "base_uri": "https://localhost:8080/",
          "height": 34
        },
        "outputId": "58730b5f-db77-4086-f9c9-485b6717c35f"
      },
      "source": [
        "milieux((b-a)*5)"
      ],
      "execution_count": null,
      "outputs": [
        {
          "output_type": "execute_result",
          "data": {
            "text/plain": [
              "47.98000000000002"
            ]
          },
          "metadata": {
            "tags": []
          },
          "execution_count": 14
        }
      ]
    },
    {
      "cell_type": "code",
      "metadata": {
        "id": "uw34cCFI_RK9",
        "colab": {
          "base_uri": "https://localhost:8080/",
          "height": 34
        },
        "outputId": "92308b7f-b80d-41f4-a3ad-087c7f1d0ac6"
      },
      "source": [
        "milieux((b-a)*100)"
      ],
      "execution_count": null,
      "outputs": [
        {
          "output_type": "execute_result",
          "data": {
            "text/plain": [
              "47.99994999999999"
            ]
          },
          "metadata": {
            "tags": []
          },
          "execution_count": 15
        }
      ]
    },
    {
      "cell_type": "code",
      "metadata": {
        "id": "ko7JR4dm_RLG",
        "colab": {
          "base_uri": "https://localhost:8080/",
          "height": 34
        },
        "outputId": "a2c4fcfb-cd84-4926-f30d-3a21ff015400"
      },
      "source": [
        "milieux((b-a)*100000)"
      ],
      "execution_count": null,
      "outputs": [
        {
          "output_type": "execute_result",
          "data": {
            "text/plain": [
              "47.99999999995055"
            ]
          },
          "metadata": {
            "tags": []
          },
          "execution_count": 16
        }
      ]
    },
    {
      "cell_type": "markdown",
      "metadata": {
        "id": "tD9INnoz_RLQ"
      },
      "source": [
        "**_illustration graphique pour l'unité subdivisée en 2_**"
      ]
    },
    {
      "cell_type": "code",
      "metadata": {
        "id": "j3KjEJ0b_RLS",
        "colab": {
          "base_uri": "https://localhost:8080/",
          "height": 288
        },
        "outputId": "d7a4a2c5-f8d9-4192-c8b1-b0ffa3293273"
      },
      "source": [
        "graph(f)\n",
        "\n",
        "n = (b-a)*2\n",
        "pas = (b-a)/n\n",
        "x = [a + k*pas for k in range(n+1)]\n",
        "\n",
        "for k in range(n) :\n",
        "    plt.plot([x[k],x[k]],[0,f((x[k]+x[k+1])/2)], 'b',linewidth = 1 )\n",
        "    plt.plot([x[k],x[k+1]],[f((x[k]+x[k+1])/2),f((x[k]+x[k+1])/2)], 'b',linewidth = 1)\n",
        "    \n",
        "#plt.plot([x[-1],x[-1]],[0,f(x[-1])], 'b',linewidth = 1 ) \n",
        "#plt.plot([x[-1],b],[f(x[-1]),f(x[-1])], 'b',linewidth = 1 )\n",
        "plt.plot([b,b],[0,f(b)], 'b',linewidth = 1 )  \n",
        "\n",
        "plt.show()\n",
        "\n",
        "print('Aire estimée : ', milieux(n))"
      ],
      "execution_count": null,
      "outputs": [
        {
          "output_type": "display_data",
          "data": {
            "image/png": "[encoded data removed]",
            "text/plain": [
              "<Figure size 432x288 with 1 Axes>"
            ]
          },
          "metadata": {
            "tags": []
          }
        },
        {
          "output_type": "stream",
          "text": [
            "Aire estimée :  47.875\n"
          ],
          "name": "stdout"
        }
      ]
    },
    {
      "cell_type": "markdown",
      "metadata": {
        "id": "M1KJeWvN_RLg"
      },
      "source": [
        "### 4. Une méthode utilisant l'aléatoire : la méthode de Monte-Carlo\n",
        "\n",
        "**<span style=\"color: #D17460\">TSpé - TCompl </span>**\n",
        "\n",
        "**<span style=\"color: #26B260\">Python : aléatoire avec le module random, passage d'une fonction en parmamètre d'une fonction !!!</span>**\n",
        "\n",
        "On encadre la courbe par un rectangle (ici : abscisses entre -3 et 3, ordonnées entre 0 et la valeur maximale de f sur l'intervalle).\n",
        "\n",
        "On tire des \"fléchettes aléatoires\" dans ce rectangle, la proportion d'entre elles tombant en-dessous de la courbe donne une valeur approchée de la proportion de l'aire cherchée par rapport à celle du rectangle."
      ]
    },
    {
      "cell_type": "code",
      "metadata": {
        "id": "bQLq4hzN_RLj"
      },
      "source": [
        "from random import uniform\n",
        "\n",
        "# recherche du maximum de f sur [a;b]\n",
        "x_du_max = a\n",
        "xx = np.arange(a,b+0.1,0.1)\n",
        "\n",
        "for x in xx:\n",
        "    if f(x)>f(x_du_max):\n",
        "        x_du_max = x\n",
        "y_max = f(x_du_max)\n",
        "\n",
        "# définition de la fonction MonteCarlo et représenttion de la simulation\n",
        "def monte_carlo(f,N):\n",
        "    graph(f)\n",
        "    sous_la_courbe = 0\n",
        "    for k in range(N+1):\n",
        "        x_point = uniform(a,b) # effectue un tirage aléatoire selon la loi uniforme continue sur [a;b]\n",
        "        y_point = uniform(0,y_max)\n",
        "        if y_point < f(x_point):\n",
        "            sous_la_courbe = sous_la_courbe + 1\n",
        "            plt.plot(x_point,y_point,'g',marker = '+') # croix verte\n",
        "        else :\n",
        "            plt.plot(x_point,y_point,'r',marker = '+') # croix rouge\n",
        "       \n",
        "    plt.show()\n",
        "    return sous_la_courbe / N\n",
        "    \n"
      ],
      "execution_count": null,
      "outputs": []
    },
    {
      "cell_type": "code",
      "metadata": {
        "id": "DObpOXUL_RL2",
        "colab": {
          "base_uri": "https://localhost:8080/",
          "height": 292
        },
        "outputId": "bd66396e-814b-43c0-9c15-491977364b22"
      },
      "source": [
        "prop = monte_carlo(f,100)\n",
        "\n",
        "print('Aire estimée : ', prop * (b-a)*y_max)"
      ],
      "execution_count": null,
      "outputs": [
        {
          "output_type": "display_data",
          "data": {
            "image/png": "[encoded data removed]",
            "text/plain": [
              "<Figure size 432x288 with 1 Axes>"
            ]
          },
          "metadata": {
            "tags": []
          }
        },
        {
          "output_type": "stream",
          "text": [
            "Aire estimée :  52.44000000000034\n"
          ],
          "name": "stdout"
        }
      ]
    },
    {
      "cell_type": "code",
      "metadata": {
        "id": "seO3YMOR_RL_",
        "colab": {
          "base_uri": "https://localhost:8080/",
          "height": 289
        },
        "outputId": "eb1b4768-eca5-4e7f-deca-fb37f609c533"
      },
      "source": [
        "prop = monte_carlo(f,1000)\n",
        "\n",
        "print('Aire estimée : ', prop * (b-a)*y_max)"
      ],
      "execution_count": null,
      "outputs": [
        {
          "output_type": "display_data",
          "data": {
            "image/png": "[encoded data removed]",
            "text/plain": [
              "<Figure size 432x288 with 1 Axes>"
            ]
          },
          "metadata": {
            "tags": []
          }
        },
        {
          "output_type": "stream",
          "text": [
            "Aire estimée :  47.8860000000003\n"
          ],
          "name": "stdout"
        }
      ]
    },
    {
      "cell_type": "markdown",
      "metadata": {
        "id": "HYlU3UtY_RML"
      },
      "source": [
        "**_Exercice_**\n",
        "\n",
        "Adapter les méthodes ci-dessus au calcul de $\\int_{-1}^{1} \\sqrt{1-x^2} dx$ pour obtenir des valeurs approchées de $\\pi$\n",
        "\n",
        "**<span style=\"color: #D17460\">1Spé : aire sous la courbe, estimation de $\\pi$ par la méthode de Monte Carlo </span>**"
      ]
    },
    {
      "cell_type": "markdown",
      "metadata": {
        "id": "flVM9I8Y_RMO"
      },
      "source": [
        "**_Remarque_**\n",
        "\n",
        "**<span style=\"color: #26B260\">Python : lambda-fonction</span>**\n",
        "\n",
        "Comme on peut passer la fonction intégrée en paramètre, on peut faire usage d'une lamba-fonction :\n"
      ]
    },
    {
      "cell_type": "code",
      "metadata": {
        "id": "1BKdxJ32_RMR",
        "colab": {
          "base_uri": "https://localhost:8080/",
          "height": 290
        },
        "outputId": "52373e51-f7ff-44d7-97fe-14a15a3836ca"
      },
      "source": [
        "a = -1\n",
        "b = 1\n",
        "titre = 'y = $\\sqrt{1-x^2}$'\n",
        "g = lambda x: sqrt(1-x*x)\n",
        "plt.axis('equal') # repère orthonormé\n",
        "\n",
        "# recherche du maximum de f sur [a;b]\n",
        "x_du_max = a\n",
        "xx = np.arange(a,b+0.1,0.1)\n",
        "\n",
        "for x in xx:\n",
        "    if g(x)>g(x_du_max):\n",
        "        x_du_max = x\n",
        "y_max = g(x_du_max)\n",
        "\n",
        "prop = monte_carlo(lambda x: sqrt(1-x*x), 1000)\n",
        "\n",
        "print('Aire estimée : ', 2*prop * 2)"
      ],
      "execution_count": null,
      "outputs": [
        {
          "output_type": "display_data",
          "data": {
            "image/png": "[encoded data removed]",
            "text/plain": [
              "<Figure size 432x288 with 1 Axes>"
            ]
          },
          "metadata": {
            "tags": []
          }
        },
        {
          "output_type": "stream",
          "text": [
            "Aire estimée :  3.164\n"
          ],
          "name": "stdout"
        }
      ]
    },
    {
      "cell_type": "markdown",
      "metadata": {
        "id": "oD8l_LwL_RMY"
      },
      "source": [
        "## 5. Calcul différentiel approché\n",
        "### 5.1. Liste des coefficients directeurs des sécantes pour un pas donné\n",
        "\n",
        "**<span style=\"color: #D17460\">1Spé  </span>**\n",
        "\n",
        "**<span style=\"color: #26B260\">Python : listes</span>**\n"
      ]
    },
    {
      "cell_type": "code",
      "metadata": {
        "id": "oUJkJafp_RMa"
      },
      "source": [
        "def lcds(f,a,b,dx):\n",
        "    x = a\n",
        "    liste_coeff = []\n",
        "    while x < b :\n",
        "        liste_coeff.append((f(x+dx) - f(x)) / dx)\n",
        "        x = x + dx\n",
        "    return liste_coeff"
      ],
      "execution_count": null,
      "outputs": []
    },
    {
      "cell_type": "code",
      "metadata": {
        "id": "csehT0vO_RMr",
        "colab": {
          "base_uri": "https://localhost:8080/",
          "height": 228
        },
        "outputId": "ae65e3e0-7935-4767-e18c-e5d1ab0c84ff"
      },
      "source": [
        "lcds(f,-3,3,0.5)"
      ],
      "execution_count": null,
      "outputs": [
        {
          "output_type": "execute_result",
          "data": {
            "text/plain": [
              "[11.25,\n",
              " 4.75,\n",
              " -0.25,\n",
              " -3.75,\n",
              " -5.75,\n",
              " -6.25,\n",
              " -5.25,\n",
              " -2.75,\n",
              " 1.25,\n",
              " 6.75,\n",
              " 13.75,\n",
              " 22.25]"
            ]
          },
          "metadata": {
            "tags": []
          },
          "execution_count": 23
        }
      ]
    },
    {
      "cell_type": "code",
      "metadata": {
        "id": "r2xIw9tu_RM1"
      },
      "source": [
        "def champ(f,a,b,dx):\n",
        "    x = a\n",
        "    fleche = 0.2\n",
        "    while x < b :\n",
        "        plt.plot([x,x+fleche],[f(x),(f(x+dx) - f(x)) / dx * fleche + f(x)],'b', linewidth = 1)\n",
        "        centrax()\n",
        "        x = x + dx"
      ],
      "execution_count": null,
      "outputs": []
    },
    {
      "cell_type": "code",
      "metadata": {
        "id": "4_yqlA8G_RM8",
        "colab": {
          "base_uri": "https://localhost:8080/",
          "height": 263
        },
        "outputId": "8d505eec-b217-4a8e-dd3d-7b61ab612034"
      },
      "source": [
        "a = -3\n",
        "b = 3\n",
        "titre = ('y = x^3 + x^2 - 6x + 5')\n",
        "#graph(f)\n",
        "champ(f,-3,3,0.3)"
      ],
      "execution_count": null,
      "outputs": [
        {
          "output_type": "display_data",
          "data": {
            "image/png": "[encoded data removed]",
            "text/plain": [
              "<Figure size 432x288 with 1 Axes>"
            ]
          },
          "metadata": {
            "tags": []
          }
        }
      ]
    },
    {
      "cell_type": "markdown",
      "metadata": {
        "id": "1THFKW3h_RNH"
      },
      "source": [
        "### 5.2 Résolution approchée d'équations différentielles de type y' = ay + b par la méthode d'Euler\n",
        "\n",
        "**<span style=\"color: #D17460\">cas a = 1 et b = 0 : 1Spé : exponentielle par la méthode d'Euler, résolution de y' = y</span>**\n",
        "\n",
        "**<span style=\"color: #D17460\">cas général : TSpé - TCompl</span>**\n",
        "\n",
        "Pour résoudre l’équation différentielle y’ = ay + b par la méthode d’Euler, on va là encore approcher f(x + dx) par f(x) + f’(x)×dx soit, ici, f(x)+(a×f(x) + b )×dx ; cela donne la suite récurrente y<sub>n+1</sub>=y<sub>n</sub>+(a×y<sub>n</sub>+b)×dx :\n",
        "\n"
      ]
    },
    {
      "cell_type": "code",
      "metadata": {
        "id": "hEcDT7hy_RNT"
      },
      "source": [
        " def Euler(a,b,x0,xf,y0,dx) :\n",
        "    x = x0 # conditions initiales\n",
        "    y = y0\n",
        "    plt.plot(x,y,'r',marker = '.')\n",
        "    u=[y0]\n",
        "    while x < xf :\n",
        "        y = y+(a*y +b)*dx\n",
        "        x = x + dx\n",
        "        u.append(y)\n",
        "        plt.plot(x,y,'r',marker = '.')\n",
        "    return u"
      ],
      "execution_count": null,
      "outputs": []
    },
    {
      "cell_type": "code",
      "metadata": {
        "id": "3HWuF-hK_RNd",
        "colab": {
          "base_uri": "https://localhost:8080/",
          "height": 272
        },
        "outputId": "f3aff6d5-082a-416d-8b61-1c12706c7b7c"
      },
      "source": [
        "Euler(1,0,0,3,1,0.1)\n",
        "titre = \"exponentielle approchée par la méthode d'Euler\"\n",
        "graph(lambda x : exp(x))\n",
        "\n",
        "plt.show()"
      ],
      "execution_count": null,
      "outputs": [
        {
          "output_type": "display_data",
          "data": {
            "image/png": "[encoded data removed]",
            "text/plain": [
              "<Figure size 432x288 with 1 Axes>"
            ]
          },
          "metadata": {
            "tags": []
          }
        }
      ]
    },
    {
      "cell_type": "code",
      "metadata": {
        "id": "_73Htk4v_RNn"
      },
      "source": [
        ""
      ],
      "execution_count": null,
      "outputs": []
    }
  ]
}