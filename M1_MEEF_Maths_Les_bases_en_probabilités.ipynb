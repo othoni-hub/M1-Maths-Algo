{
  "nbformat": 4,
  "nbformat_minor": 0,
  "metadata": {
    "colab": {
      "name": "M1-MEEF-Maths-Les bases en probabilités.ipynb",
      "provenance": [],
      "authorship_tag": "ABX9TyMtEu3Dyi1THKTQ1Z/TIdx8",
      "include_colab_link": true
    },
    "kernelspec": {
      "name": "python3",
      "display_name": "Python 3"
    },
    "language_info": {
      "name": "python"
    }
  },
  "cells": [
    {
      "cell_type": "markdown",
      "metadata": {
        "id": "view-in-github",
        "colab_type": "text"
      },
      "source": [
        "<a href=\"https://colab.research.google.com/github/othoni-hub/M1-Maths-Algo/blob/main/M1_MEEF_Maths_Les_bases_en_probabilit%C3%A9s.ipynb\" target=\"_parent\"><img src=\"https://colab.research.google.com/assets/colab-badge.svg\" alt=\"Open In Colab\"/></a>"
      ]
    },
    {
      "cell_type": "markdown",
      "metadata": {
        "id": "KVYIpOb5JsUy"
      },
      "source": [
        "# **M1-MEEF Mathématiques** \n",
        "<img src=\"https://drive.google.com/uc?id=12Wo3LubGGT4qOvYFAuLP4CyCuwjKNVuk\" width=\"230\" height=\"150\" align = \"right\"/>\n",
        "\n",
        "## **Notebook : TP : Les bases en Probabilités**\n",
        "\n",
        "\n",
        "\n",
        "\n",
        "**O.Thöni - UCO-IFUCOME, groupes \"Mathématiques\" et \"Numérique et Sciences Informatiques\"**"
      ]
    },
    {
      "cell_type": "markdown",
      "metadata": {
        "id": "9ScrN9uW0AOP"
      },
      "source": [
        "## **_Les bases en probabilités :_**\n",
        "\n",
        "**_Univers, événements, variable aléatoire, loi de probabilité, fonction de répartition, caractéristiques de position et de dispersion... sur un exemple_**\n",
        "\n"
      ]
    },
    {
      "cell_type": "markdown",
      "source": [
        "<img src=\"http://blog.legardemots.fr/public/icosaedre.jpg\" width=\"160\" height=\"150\" align = \"center\"/>\n",
        "\n",
        "\n"
      ],
      "metadata": {
        "id": "TNtKvgSMtYF2"
      }
    },
    {
      "cell_type": "markdown",
      "source": [
        "Considérons un dé à 20 faces (icosaèdre), que l'on lance, nous allons mettre en place tous les éléments permettant d'étudier la variable aléatoire égale au nombre de diviseurs de la face obtenue."
      ],
      "metadata": {
        "id": "8_kYFIX3uKpH"
      }
    },
    {
      "cell_type": "markdown",
      "metadata": {
        "id": "JvXs7p2N0AOe"
      },
      "source": [
        "## **Univers :**"
      ]
    },
    {
      "cell_type": "markdown",
      "source": [
        "    Quelles sont les issues possibles du tirage du dé ?\n",
        "    Quel est le type le plus approprié pour l'univers U ?\n",
        "    Fabriquer U."
      ],
      "metadata": {
        "id": "hPbUSschrC8-"
      }
    },
    {
      "cell_type": "markdown",
      "metadata": {
        "id": "Kyh-C00N0AOs"
      },
      "source": [
        "## **Événements :**\n",
        "\n",
        "* **préambule**"
      ]
    },
    {
      "cell_type": "markdown",
      "source": [
        "    Écrire une fonction \"def nombre_diviseurs(n):\" qui reçoit un nombre entier et retourne le nombre de ses diviseurs.\n",
        "    (on pourra utiliser la fonction % permettant de donner le reste de la division d'un entier par un autre.)"
      ],
      "metadata": {
        "id": "Qy0fiQRBs3Lt"
      }
    },
    {
      "cell_type": "markdown",
      "source": [
        "* **événements**"
      ],
      "metadata": {
        "id": "ZQ8sKztWwucz"
      }
    },
    {
      "cell_type": "markdown",
      "source": [
        "    En choissant le bon type de variables, \n",
        "    - fabriquer l'événement A : \"La face est paire\"\n",
        "    - fabriquer l'événement B : \"La face obtenue est un nombre premier\" \n",
        "    (rappel : un nombre entier est \"premier\" lorsqu'il a exactement deux diviseurs : 1 et lui-même. 1 n'est pas premier.)"
      ],
      "metadata": {
        "id": "JUjl2VKnrt_b"
      }
    },
    {
      "cell_type": "markdown",
      "metadata": {
        "id": "IZ82xVA40AO_"
      },
      "source": [
        "* **Intersection et Union, Complémentaire :**"
      ]
    },
    {
      "cell_type": "markdown",
      "source": [
        "    En utilisant les opérations sur les ensembles appropriées, fabriquer les événements \n",
        "    - \"La face est un nombre pair ou premier\"\n",
        "    - \"La face est un nombre pair et premier\"\n",
        "    - \"La face est un nombre impair\""
      ],
      "metadata": {
        "id": "T7nx9aqQu7pT"
      }
    },
    {
      "cell_type": "markdown",
      "metadata": {
        "id": "yvpajGtN0APh"
      },
      "source": [
        "## **Probabilité d'un événement :**"
      ]
    },
    {
      "cell_type": "markdown",
      "source": [
        "    Dans cette situation, comment se calcule la probabilité d'un événement ?\n",
        "    Pourquoi ?\n",
        "    "
      ],
      "metadata": {
        "id": "pkSueYzjvbMm"
      }
    },
    {
      "cell_type": "markdown",
      "source": [
        "    Écrire la fonction \"def P(E):\" recevant un événement E et retournant sa probablité."
      ],
      "metadata": {
        "id": "AEyKqvwcv_WW"
      }
    },
    {
      "cell_type": "markdown",
      "source": [
        "    Quelle est la probabilité d'obtenir un nombre premier ?"
      ],
      "metadata": {
        "id": "klG2u19XwkNt"
      }
    },
    {
      "cell_type": "markdown",
      "source": [
        "    Vérifier sur les événements A et B la propriété donnant la probabilité de la réunion de deux événements."
      ],
      "metadata": {
        "id": "mJYt9bL2wRl-"
      }
    },
    {
      "cell_type": "markdown",
      "metadata": {
        "id": "98d5OM0W0AQt"
      },
      "source": [
        "## **Probabilité conditionnelle :**"
      ]
    },
    {
      "cell_type": "markdown",
      "source": [
        "    Écrire une fonction \"def proba_sachant_que(B,A):\" qui reçoit deux événements A et B, s'assure que B n'est pas impossible, \n",
        "    et renvoie la probabilité de l'événement de A sachant B."
      ],
      "metadata": {
        "id": "HhKDa0NGzm0r"
      }
    },
    {
      "cell_type": "markdown",
      "source": [
        "    Calculer la probabilité que la face obtenue soit paire sachant que c'est un nombre premier."
      ],
      "metadata": {
        "id": "sDoz_mTM0B-P"
      }
    },
    {
      "cell_type": "markdown",
      "metadata": {
        "id": "8ei5VzEW0ARG"
      },
      "source": [
        "## **Variable aléatoire :**\n",
        "\n",
        "On appelle X la variable aléatoire égale au nombre de diviseurs de la face obtenue."
      ]
    },
    {
      "cell_type": "markdown",
      "source": [
        "    On lance le dé.\n",
        "    À chaque issue de U, on associe le nombre de ses diviseurs, \n",
        "    et on constitue ainsi la variable aléatoire X (application de U dans |N)\n",
        "    Quel est le type de variable le plus approprié pour implémenter cette variable aléatoire ?"
      ],
      "metadata": {
        "id": "wkFtWmsG0QtO"
      }
    },
    {
      "cell_type": "markdown",
      "source": [
        "    Fabriquer la variable aléatoire X."
      ],
      "metadata": {
        "id": "afYiKkC014Ql"
      }
    },
    {
      "cell_type": "markdown",
      "source": [
        "On appelle **\"univers-image\"** l'ensemble X(U) des valeurs k prises par la variable aléatoire X sur l'univers U."
      ],
      "metadata": {
        "id": "aVngaWIAGUGc"
      }
    },
    {
      "cell_type": "markdown",
      "source": [
        "    Comment obtenir l'univers-image dans notre expérience ?"
      ],
      "metadata": {
        "id": "iIxXfbxEGUGh"
      }
    },
    {
      "cell_type": "markdown",
      "metadata": {
        "id": "tp6Uilna0ART"
      },
      "source": [
        "## **Loi de la variable aléatoire X :**\n",
        "\n",
        "\n",
        "On définit d'abord les événements **[X=k]** : cette notation désigne l'événement qui regroupe toutes les issues prenant la valeur k par la valeur aléatoire"
      ]
    },
    {
      "cell_type": "markdown",
      "source": [
        "    Écrire la fonction \"def egal(X,k):\" permettant, pour chaque valeur entière k, de retourner l'événement [X=k]"
      ],
      "metadata": {
        "id": "_2O7BZBK8eAj"
      }
    },
    {
      "cell_type": "markdown",
      "source": [
        "On appelle **\"univers-image\"** l'ensemble X(U) des valeurs k prises par la variable aléatoire X sur l'univers U."
      ],
      "metadata": {
        "id": "zBVyJtqX9Yf5"
      }
    },
    {
      "cell_type": "markdown",
      "source": [
        "    Comment obtenir l'univers-image dans notre expérience ?"
      ],
      "metadata": {
        "id": "SukHzuUW-Q9R"
      }
    },
    {
      "cell_type": "markdown",
      "source": [
        "On définit alors la loi de X comme l'application de X(U) dans [0 ; 1], qui, à tout k de X(U) associe la probabilité de l'événement [X=k]"
      ],
      "metadata": {
        "id": "VsKUgdCA86Ri"
      }
    },
    {
      "cell_type": "markdown",
      "source": [
        "    Quelle est le type de variable le plus adapté pour modéliser la loi de X ?"
      ],
      "metadata": {
        "id": "pzB9ouKG-1dd"
      }
    },
    {
      "cell_type": "markdown",
      "source": [
        "    Écrire la fonction \"def loi(X):\" qui, recevant la variable aléatoire X, retourne sa loi."
      ],
      "metadata": {
        "id": "CZye15ZV_CdC"
      }
    },
    {
      "cell_type": "markdown",
      "metadata": {
        "id": "5kPcjl4q0ARu"
      },
      "source": [
        "## **Représentation graphique**"
      ]
    },
    {
      "cell_type": "code",
      "metadata": {
        "id": "FtMPby4w0ARx"
      },
      "source": [
        "import matplotlib.pyplot as plt"
      ],
      "execution_count": null,
      "outputs": []
    },
    {
      "cell_type": "markdown",
      "source": [
        "    Constituer un diagramme en barres de la loi de X.\n",
        "    syntaxe : plt.bar(liste des abscisses, liste des ordonnées)"
      ],
      "metadata": {
        "id": "dZK4dyoJ_m3Y"
      }
    },
    {
      "cell_type": "markdown",
      "metadata": {
        "id": "LRpzmlmj0ASa"
      },
      "source": [
        "## **Fonction de répartition**"
      ]
    },
    {
      "cell_type": "markdown",
      "source": [
        "    Expliquer ce que font les deux fonctions suivantes :"
      ],
      "metadata": {
        "id": "pyxKQ-f4AAuK"
      }
    },
    {
      "cell_type": "code",
      "metadata": {
        "id": "RW5pGOAI0ASg",
        "outputId": "57db41c4-a347-47b8-e501-a97651e65a3d",
        "colab": {
          "base_uri": "https://localhost:8080/",
          "height": 33
        }
      },
      "source": [
        "def au_plus(X,k):\n",
        "    return {x for x in X.keys() if X[x]<=k}\n",
        "\n",
        "def fRep(X):\n",
        "    return {k:P(au_plus(X,k)) for k in X.values()}\n",
        "\n",
        "print(fRep(X))"
      ],
      "execution_count": null,
      "outputs": [
        {
          "output_type": "stream",
          "text": [
            "{1: 0.05, 2: 0.45, 3: 0.55, 4: 0.8, 6: 1.0, 5: 0.85}\n"
          ],
          "name": "stdout"
        }
      ]
    },
    {
      "cell_type": "markdown",
      "metadata": {
        "id": "KW4fldRi0ASt"
      },
      "source": [
        "## **Éléments caractériques :**\n",
        "\n",
        "  * **Espérance :**\n",
        "  * **Variance :**\n",
        "  * **Écart-type :**"
      ]
    },
    {
      "cell_type": "markdown",
      "source": [
        "    Écrire les fonction \"def E(X):\", \"def V(X):\" et def \"sigma(X):\" recevant en entrée la variable aléatoire X \n",
        "    et renvoyant respectivement l'espérance, la variance et l'écart-type de X."
      ],
      "metadata": {
        "id": "CEdVGaR1B2VF"
      }
    },
    {
      "cell_type": "markdown",
      "metadata": {
        "id": "pdIEZJX70ATI"
      },
      "source": [
        "## **Quantiles (facultatif)**\n",
        "\n",
        "  * **Quartiles**\n",
        "  \n",
        "  Note : On définira la médiane comme le 2<sup>ème</sup> quartile, valeur de la série à partir de laquelle l'effectif dépasse 50% de la population, ce qui n'est pas la définition enseignée en lycée en France\n",
        "  \n",
        "  * **Intervalle inter-quartiles**  \n",
        "  \n",
        "  * **Deciles**\n",
        "  \n",
        "  Reprenons la fonction de répartition obtenue ci-dessus et classons les valeurs.\n",
        "  Les calculs se font par interpolation linéaire entre les points charnières (Théorème de Thalès)"
      ]
    }
  ]
}