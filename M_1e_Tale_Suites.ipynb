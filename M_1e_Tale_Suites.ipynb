{
  "nbformat": 4,
  "nbformat_minor": 0,
  "metadata": {
    "kernelspec": {
      "display_name": "Python 3",
      "language": "python",
      "name": "python3"
    },
    "language_info": {
      "codemirror_mode": {
        "name": "ipython",
        "version": 3
      },
      "file_extension": ".py",
      "mimetype": "text/x-python",
      "name": "python",
      "nbconvert_exporter": "python",
      "pygments_lexer": "ipython3",
      "version": "3.7.1"
    },
    "colab": {
      "name": "M-1e-Tale Suites.ipynb",
      "provenance": [],
      "include_colab_link": true
    }
  },
  "cells": [
    {
      "cell_type": "markdown",
      "metadata": {
        "id": "view-in-github",
        "colab_type": "text"
      },
      "source": [
        "<a href=\"https://colab.research.google.com/github/othoni-hub/M1-Maths-Algo/blob/main/M_1e_Tale_Suites.ipynb\" target=\"_parent\"><img src=\"https://colab.research.google.com/assets/colab-badge.svg\" alt=\"Open In Colab\"/></a>"
      ]
    },
    {
      "cell_type": "markdown",
      "metadata": {
        "id": "cfH4x9pDEtZu"
      },
      "source": [
        "# Mathématiques \n",
        "# 1<sup>ère</sup> - Terminale (spécialité, options complémentaire et experte)\n",
        "\n",
        "\n",
        "## Chapitre 2 : Calcul approché\n",
        "## 1<sup>ère</sup> partie : - SUITES ET SÉRIES -\n",
        "\n",
        "**O.THÖNI - IFUCOME -**\n",
        "\n",
        "\n",
        "*Document à usage exclusif des étudiant·e·s actuel·le·s et passé·e·s du Master MEEF Mathématiques de l'Université Catholique de l'Ouest*"
      ]
    },
    {
      "cell_type": "code",
      "metadata": {
        "id": "_4S9Y8KYEtZy"
      },
      "source": [
        "from math import sqrt, log, pi, e\n",
        "\n",
        "import matplotlib.pyplot as plt\n",
        "import numpy as np"
      ],
      "execution_count": null,
      "outputs": []
    },
    {
      "cell_type": "markdown",
      "metadata": {
        "id": "Ak1hc9aOEtZ6"
      },
      "source": [
        "## 1. Suites et limites classiques\n",
        "\n",
        "### 1.1. Approximations de e \n",
        "\n",
        "**_1.1.a. Somme des inverses des factorielles des premiers entiers_**\n",
        "\n",
        "**<span style=\"color: #D17460\">1Spé - TSpé - TCompl : factorielle, approximation de e</span>**\n",
        "\n",
        "![...](https://drive.google.com/uc?id=1rjn-2giROsTOXDXKF2o9H-9NRpfosiZX)\n"
      ]
    },
    {
      "cell_type": "markdown",
      "metadata": {
        "id": "e7VqeL4LEtZ8"
      },
      "source": [
        "**<span style=\"color: #26B260\">Python : affectation, boucle *for*, instruction *print*</span>**"
      ]
    },
    {
      "cell_type": "code",
      "metadata": {
        "id": "LHXkeotxEtZ-",
        "colab": {
          "base_uri": "https://localhost:8080/",
          "height": 190
        },
        "outputId": "1a3d8b3f-c041-44e1-abd9-948739fbfb4b"
      },
      "source": [
        "facto = 1\n",
        "S = 1\n",
        "N = 10\n",
        "\n",
        "for k in range(1,N+1):\n",
        "    facto = facto * k\n",
        "    S = S + 1/facto\n",
        "    print('Après ',k,' itérations, on a pour valeur approchée de e : ', S)\n",
        "\n",
        "    "
      ],
      "execution_count": null,
      "outputs": [
        {
          "output_type": "stream",
          "text": [
            "Après  1  itérations, on a pour valeur approchée de e :  2.0\n",
            "Après  2  itérations, on a pour valeur approchée de e :  2.5\n",
            "Après  3  itérations, on a pour valeur approchée de e :  2.6666666666666665\n",
            "Après  4  itérations, on a pour valeur approchée de e :  2.708333333333333\n",
            "Après  5  itérations, on a pour valeur approchée de e :  2.7166666666666663\n",
            "Après  6  itérations, on a pour valeur approchée de e :  2.7180555555555554\n",
            "Après  7  itérations, on a pour valeur approchée de e :  2.7182539682539684\n",
            "Après  8  itérations, on a pour valeur approchée de e :  2.71827876984127\n",
            "Après  9  itérations, on a pour valeur approchée de e :  2.7182815255731922\n",
            "Après  10  itérations, on a pour valeur approchée de e :  2.7182818011463845\n"
          ],
          "name": "stdout"
        }
      ]
    },
    {
      "cell_type": "markdown",
      "metadata": {
        "id": "j6xjeLkWEtaI"
      },
      "source": [
        "**_... ou, sous forme de fonction :_**\n",
        "\n",
        "**<span style=\"color: #D17460\">1Spé - TSpé - TExp - TCompl </span>**\n",
        "\n",
        "\n",
        "**<span style=\"color: #26B260\">Python : fonction (définition et appel)</span>**"
      ]
    },
    {
      "cell_type": "code",
      "metadata": {
        "id": "3_Y0Aez0EtaK"
      },
      "source": [
        "def serie_exponentielle(N,x):\n",
        "    facto = 1\n",
        "    puiss_x = 1\n",
        "    S = 1\n",
        "    \n",
        "    for k in range(1,N+1):\n",
        "        facto = facto * k\n",
        "        puiss_x = puiss_x * x\n",
        "        S = S + puiss_x/facto\n",
        "    return S"
      ],
      "execution_count": null,
      "outputs": []
    },
    {
      "cell_type": "code",
      "metadata": {
        "id": "W1jX7bZ0EtaQ",
        "colab": {
          "base_uri": "https://localhost:8080/",
          "height": 34
        },
        "outputId": "9d41de12-6464-448e-ea85-de33280d16af"
      },
      "source": [
        "serie_exponentielle(20,1)"
      ],
      "execution_count": null,
      "outputs": [
        {
          "output_type": "execute_result",
          "data": {
            "text/plain": [
              "2.7182818284590455"
            ]
          },
          "metadata": {
            "tags": []
          },
          "execution_count": 2
        }
      ]
    },
    {
      "cell_type": "markdown",
      "metadata": {
        "id": "ZDDiG4WAEtaU"
      },
      "source": [
        "**_Représentation graphique_**\n",
        "\n",
        "**<span style=\"color: #26B260\">Python : liste, représentation graphique avec matplotlib.pyplot</span>**"
      ]
    },
    {
      "cell_type": "code",
      "metadata": {
        "id": "bRmahhuxEtaV",
        "colab": {
          "base_uri": "https://localhost:8080/",
          "height": 283
        },
        "outputId": "040e2c8d-a826-4182-849f-6d295b0b7c5e"
      },
      "source": [
        "x = range(11) # liste des entiers de 0 à 10\n",
        "y = [] # création d'une liste vide\n",
        "for k in x :  # pour tout k dans la liste x\n",
        "    y.append(serie_exponentielle(k,1)) # on ajoute une valeur au bout de la liste y\n",
        "    \n",
        "    plt.plot(x[k],y[k],'r',marker = \"+\") # affiche le point de coordonnées données dans une fenêtre graphique sous forme d'une croix rouge\n",
        "#print(y)\n",
        "\n",
        "plt.plot([0,12],[e,e],'k',linewidth=1, linestyle = ':') # trace une ligne en pointillés entre les points (0,e) et (11,e)\n",
        "\n",
        "plt.xlabel('n') # titre sur l'axe des abscisses\n",
        "plt.ylabel('S n') # titre sur l'axe des ordonnées\n",
        "plt.axis([0,11,0,3]) # dimensions, en unités graphiques, de la fenêtre graphique\n",
        "plt.show()"
      ],
      "execution_count": null,
      "outputs": [
        {
          "output_type": "display_data",
          "data": {
            "image/png": "[encoded data removed]",
            "text/plain": [
              "<Figure size 432x288 with 1 Axes>"
            ]
          },
          "metadata": {
            "tags": []
          }
        }
      ]
    },
    {
      "cell_type": "markdown",
      "metadata": {
        "id": "Ltq2r3naEtaZ"
      },
      "source": [
        "**_1.1.b. Deux suites adjacentes de type u<sub>n</sub> = f(n) : u<sub>n</sub> = (1+1/n)<sup>n</sup>   ,   v<sub>n</sub> = (1+1/n)<sup>n+1</sup>_**\n",
        "\n",
        "**<span style=\"color: #D17460\">TSpé - TCompl : suites adjacentes </span>**\n",
        "\n",
        "\n",
        "Ces deux suites convergent vers e, l'une en croissant, l'autre en décroissant (suites adjacentes).\n",
        "\n",
        "(cours : voir http://www.panamaths.net/Documents/TS/A3page103.pdf)"
      ]
    },
    {
      "cell_type": "code",
      "metadata": {
        "id": "HkUySQQmEtaa"
      },
      "source": [
        "def f(x):\n",
        "    f = (1+1/x)**x\n",
        "    return f\n",
        "\n",
        "def g(x):\n",
        "    g = (1+1/x)**(x+1)\n",
        "    return g"
      ],
      "execution_count": null,
      "outputs": []
    },
    {
      "cell_type": "code",
      "metadata": {
        "id": "U9Py0BsqEtae",
        "colab": {
          "base_uri": "https://localhost:8080/",
          "height": 34
        },
        "outputId": "c62a5c67-ea84-4490-bb6e-ae36c3d70e6f"
      },
      "source": [
        "print(f(2), '< e <', g(2))"
      ],
      "execution_count": null,
      "outputs": [
        {
          "output_type": "stream",
          "text": [
            "2.25 < e < 3.375\n"
          ],
          "name": "stdout"
        }
      ]
    },
    {
      "cell_type": "code",
      "metadata": {
        "id": "B0DTafomEtah",
        "colab": {
          "base_uri": "https://localhost:8080/",
          "height": 173
        },
        "outputId": "466e6bbe-fa7d-4cc2-f598-c7c33202d277"
      },
      "source": [
        "for k in range(1,10):\n",
        "    print('n = ',k,' : ',f(k), '< e <', g(k))"
      ],
      "execution_count": null,
      "outputs": [
        {
          "output_type": "stream",
          "text": [
            "n =  1  :  2.0 < e < 4.0\n",
            "n =  2  :  2.25 < e < 3.375\n",
            "n =  3  :  2.37037037037037 < e < 3.160493827160493\n",
            "n =  4  :  2.44140625 < e < 3.0517578125\n",
            "n =  5  :  2.4883199999999994 < e < 2.9859839999999993\n",
            "n =  6  :  2.5216263717421135 < e < 2.9418974336991326\n",
            "n =  7  :  2.546499697040712 < e < 2.910285368046528\n",
            "n =  8  :  2.565784513950348 < e < 2.8865075781941414\n",
            "n =  9  :  2.5811747917131984 < e < 2.8679719907924426\n"
          ],
          "name": "stdout"
        }
      ]
    },
    {
      "cell_type": "markdown",
      "metadata": {
        "id": "xgy5wtZLEtal"
      },
      "source": [
        "La convergence étant très lente, calculons seulement les termes dont le rang est une puissance de 10..."
      ]
    },
    {
      "cell_type": "code",
      "metadata": {
        "id": "N534REFzEtam",
        "colab": {
          "base_uri": "https://localhost:8080/",
          "height": 173
        },
        "outputId": "d87c2871-b464-4950-a691-ae5ef3505549"
      },
      "source": [
        "for p in range(0,9):\n",
        "    print('n = 10^',p,' : ',f(10**p), '< e <', g(10**p))"
      ],
      "execution_count": null,
      "outputs": [
        {
          "output_type": "stream",
          "text": [
            "n = 10^ 0  :  2.0 < e < 4.0\n",
            "n = 10^ 1  :  2.5937424601000023 < e < 2.8531167061100025\n",
            "n = 10^ 2  :  2.7048138294215285 < e < 2.731861967715744\n",
            "n = 10^ 3  :  2.7169239322355936 < e < 2.7196408561678287\n",
            "n = 10^ 4  :  2.7181459268249255 < e < 2.718417741417608\n",
            "n = 10^ 5  :  2.7182682371922975 < e < 2.7182954198746696\n",
            "n = 10^ 6  :  2.7182804690957534 < e < 2.718283187376222\n",
            "n = 10^ 7  :  2.7182816941320818 < e < 2.718281965960251\n",
            "n = 10^ 8  :  2.7182817983473577 < e < 2.7182818255301755\n"
          ],
          "name": "stdout"
        }
      ]
    },
    {
      "cell_type": "markdown",
      "metadata": {
        "id": "NoV3u9JFEtaq"
      },
      "source": [
        "**_seuil_**\n",
        "\n",
        "Les deux suites u et v étant adjacentes, on peut utiliser l'écart entre elles pour déterminer une valeur approchée de la limite à une précision donnée"
      ]
    },
    {
      "cell_type": "code",
      "metadata": {
        "id": "03PIrlmfEtar",
        "colab": {
          "base_uri": "https://localhost:8080/",
          "height": 71
        },
        "outputId": "7862d072-e5c5-4c1b-a97d-02d3e3f7f5df"
      },
      "source": [
        "#Round = lambda x, n: eval('\"%.' + str(int(n)) + 'f\" % ' + repr(x)) \n",
        "# permet d'afficher les valeurs approchées au bon format, avec des 0 complémentaires si besoin\n",
        "\n",
        "n = 1\n",
        "\n",
        "#nb_decimales = int(input('Entrez la précision cherchée, nombre de chiffres après la virgule : '))\n",
        "nb_decimales = 5\n",
        "\n",
        "u = f(n)\n",
        "v = g(n)\n",
        "while abs(u-v) > 10**(-nb_decimales) :\n",
        "    n = n+1\n",
        "    u = f(n)\n",
        "    v = g(n)\n",
        "print('Pour approcher la limite e des deux suites u et v à 10^-',nb_decimales,' près, il faut calculer ', n, 'termes.')\n",
        "print('On a alors pour valeur approchée par défaut de e : ', round(u,nb_decimales)) # résultat formaté selon la précision cherchée\n"
      ],
      "execution_count": null,
      "outputs": [
        {
          "output_type": "stream",
          "text": [
            "Pour approcher la limite e des deux suites u et v à 10^- 5  près, il faut calculer  271828 termes.\n",
            "On a alors pour valeur approchée par défaut de e :  2.71828\n"
          ],
          "name": "stdout"
        }
      ]
    },
    {
      "cell_type": "markdown",
      "metadata": {
        "id": "WtB-GfBQEtav"
      },
      "source": [
        "**_Représentation graphique_**"
      ]
    },
    {
      "cell_type": "code",
      "metadata": {
        "id": "qkHgkxT1Etaw",
        "colab": {
          "base_uri": "https://localhost:8080/",
          "height": 283
        },
        "outputId": "0851e917-f3b6-476f-b755-fc0d66cf1eaf"
      },
      "source": [
        "x = range(1,11)\n",
        "y1 = []\n",
        "y2 = []\n",
        "\n",
        "for k in x :\n",
        "    y1.append(f(k))\n",
        "    y2.append(g(k))\n",
        "    \n",
        "    \n",
        "#print(y)\n",
        "p1 = plt.plot(x,y1,'r',marker = \"+\",linestyle = 'None')\n",
        "p2 = plt.plot(x,y2,'b',marker = \"+\",linestyle = 'None')\n",
        "plt.plot([0,11],[e,e],'k',linewidth=1,linestyle = ':')\n",
        "\n",
        "plt.xlabel('n')\n",
        "plt.axis([0,11,0,5])\n",
        "plt.show()"
      ],
      "execution_count": null,
      "outputs": [
        {
          "output_type": "display_data",
          "data": {
            "image/png": "[encoded data removed]",
            "text/plain": [
              "<Figure size 432x288 with 1 Axes>"
            ]
          },
          "metadata": {
            "tags": []
          }
        }
      ]
    },
    {
      "cell_type": "markdown",
      "metadata": {
        "id": "eqEHroItEtaz"
      },
      "source": [
        "### 1.2 Approximations de racine de 2 \n",
        "\n",
        "**<span style=\"color: #D17460\">TSpé - TCompl : approximations de racine de 2 par la méthode de Héron</span>**\n",
        "\n",
        "**_1.2.a. par la méthode de Héron_**\n",
        "\n",
        "Basé sur une suite récurrente : u<sub> n+1 </sub> = 1/2 (u<sub> n </sub> + A / u<sub> n</sub>), l'algorithme de Babylone, ou algorithme de Héron, converge vers la racine carrée de A, quel que soit le premier terme choisi positif."
      ]
    },
    {
      "cell_type": "code",
      "metadata": {
        "id": "1xsekNm-Eta1",
        "colab": {
          "base_uri": "https://localhost:8080/"
        },
        "outputId": "0a8eba3d-9a43-489f-eb92-fd5d36f269c2"
      },
      "source": [
        "def H(A,x):\n",
        "    H = 1/2*(x+A/x)\n",
        "    return H\n",
        "\n",
        "A = 2\n",
        "u = A\n",
        "for k in range (1,10):\n",
        "    u = H(A,u)\n",
        "    print('u',k,' = ',u,'   précision : 10^',round(log(abs(u - sqrt(A)))/log(10)))\n",
        "    # utilisation de la fonction native round (arrondi), de la fonction native abs (valeur absolue)\n",
        "    # utilisation des fonction présentnes dans la bibliothèque \"math\" : log (logarithme népérien) et sqrt (racine carrée)\n",
        "    \n"
      ],
      "execution_count": null,
      "outputs": [
        {
          "output_type": "stream",
          "text": [
            "u 1  =  1.5    précision : 10^ -1\n",
            "u 2  =  1.4166666666666665    précision : 10^ -3\n",
            "u 3  =  1.4142156862745097    précision : 10^ -6\n",
            "u 4  =  1.4142135623746899    précision : 10^ -12\n",
            "u 5  =  1.414213562373095    précision : 10^ -16\n",
            "u 6  =  1.414213562373095    précision : 10^ -16\n",
            "u 7  =  1.414213562373095    précision : 10^ -16\n",
            "u 8  =  1.414213562373095    précision : 10^ -16\n",
            "u 9  =  1.414213562373095    précision : 10^ -16\n"
          ],
          "name": "stdout"
        }
      ]
    },
    {
      "cell_type": "raw",
      "metadata": {
        "id": "HtAZlmTNEta4"
      },
      "source": [
        "Les \"limites\" de la machine sont atteintes en très peu d'itérations !!! \n",
        "(La précision des nombres flottants est de l'ordre de 10^-16)"
      ]
    },
    {
      "cell_type": "markdown",
      "metadata": {
        "id": "aMXnVDWjEta6"
      },
      "source": [
        "**_1.2.b. Approximation de racine de 2 par un développement en fraction continue : formule de Lagrange (1736-1813)_**\n",
        "\n",
        "![...](https://drive.google.com/uc?id=1DXQX0DcYkEfZhnlYvSpDXaEwgLQf1snB)"
      ]
    },
    {
      "cell_type": "markdown",
      "metadata": {
        "id": "bBFL_Kj9Eta7"
      },
      "source": [
        "Cette écriture n'est autre que l'écriture sous forme de fraction continue de la suite de l'algorithme de Héron (avec A = 2)"
      ]
    },
    {
      "cell_type": "markdown",
      "metadata": {
        "id": "Fs7mlei6Eta8"
      },
      "source": [
        "### 1.3 Approximations de $\\phi$ ###\n",
        "\n",
        "**<span style=\"color: #D17460\">1Spé - TSpé - TCompl </span>**\n",
        "\n",
        "**_1.3.a. Par une suite récurrente simple (aisément généralisable à toute suite récurrente du type u<sub>n+1</sub> = f(u<sub>n</sub>) )_**"
      ]
    },
    {
      "cell_type": "code",
      "metadata": {
        "id": "UKzaRLhjEta9",
        "colab": {
          "base_uri": "https://localhost:8080/"
        },
        "outputId": "59bc25af-8895-4327-8b2f-644114bba68e"
      },
      "source": [
        "def f(x):\n",
        "    f = sqrt(x+1)\n",
        "    return f\n",
        "\n",
        "u = 5\n",
        "for k in range (1,10):\n",
        "    u = f(u)\n",
        "    print('u',k,' = ',u,'   précision : 10^',round(log(abs(u - (1+sqrt(5))/2))/log(10)))"
      ],
      "execution_count": null,
      "outputs": [
        {
          "output_type": "stream",
          "text": [
            "u 1  =  2.449489742783178    précision : 10^ 0\n",
            "u 2  =  1.8572802003960462    précision : 10^ -1\n",
            "u 3  =  1.6903491356509892    précision : 10^ -1\n",
            "u 4  =  1.640228379114015    précision : 10^ -2\n",
            "u 5  =  1.624877958221483    précision : 10^ -2\n",
            "u 6  =  1.620147511253677    précision : 10^ -3\n",
            "u 7  =  1.6186869713609475    précision : 10^ -3\n",
            "u 8  =  1.6182357588932916    précision : 10^ -4\n",
            "u 9  =  1.6180963379518822    précision : 10^ -4\n"
          ],
          "name": "stdout"
        }
      ]
    },
    {
      "cell_type": "markdown",
      "metadata": {
        "id": "foHztGRfEtbB"
      },
      "source": [
        "**_Construction graphique des termes de la suite_**"
      ]
    },
    {
      "cell_type": "code",
      "metadata": {
        "id": "KqH4T2_FEtbC",
        "colab": {
          "base_uri": "https://localhost:8080/"
        },
        "outputId": "0cd2c04b-b2ed-4be6-8519-236c8a8a6acc"
      },
      "source": [
        "xx = np.arange(-1,6,0.1)\n",
        "yy = []\n",
        "ii = []\n",
        "for ix in xx :\n",
        "    yy.append(sqrt(ix+1))\n",
        "    ii.append(ix)\n",
        "    \n",
        "p1 = plt.plot(xx,yy,'r',linewidth=1)\n",
        "p2 = plt.plot(xx,ii,'b',linewidth=1)\n",
        "\n",
        "u = 5\n",
        "x = range(5)\n",
        "\n",
        "for k in x :\n",
        "    y = sqrt(u+1)\n",
        "    plt.plot(u,y,'r')\n",
        "    plt.plot([u,y],[y,y],'g',linewidth=1,linestyle = ':')\n",
        "    plt.plot([u,u],[u,y],'g',linewidth=1,linestyle = ':')\n",
        "    u = sqrt(u+1)\n",
        "\n",
        "\n",
        "plt.xlabel('x')\n",
        "plt.ylabel('y')\n",
        "#plt.axis([-1.5,6,0,4])\n",
        "\n",
        "ax = plt.gca() # récupération du paramétrage des axes\n",
        "\n",
        "ax.spines['left'].set_position('zero') # positionnement de l'axe des ordonnées à x = 0\n",
        "ax.spines['right'].set_color('none')\n",
        "ax.spines['bottom'].set_position('zero') # positionnement de l'axe des abscisses à y = 0\n",
        "ax.spines['top'].set_color('none')\n",
        "\n",
        "plt.xlim(-1.5,6.5) # dimensionnement de l'axe des abscisse, celui des ordonnées sera dimensionné automatiquement\n",
        "\n",
        "plt.show()"
      ],
      "execution_count": null,
      "outputs": [
        {
          "output_type": "display_data",
          "data": {
            "image/png": "[encoded data removed]",
            "text/plain": [
              "<Figure size 432x288 with 1 Axes>"
            ]
          },
          "metadata": {
            "tags": []
          }
        }
      ]
    },
    {
      "cell_type": "markdown",
      "metadata": {
        "id": "Ed9Fcu_wEtbG"
      },
      "source": [
        "**_1.3.b. Par une suite récurrente linéaire d'ordre 2_**\n",
        "\n",
        "**<span style=\"color: #D17460\">TSpé - TCompl : suite récurrente linéaire d'ordre 2</span>**\n",
        "\n",
        "\n",
        "Dans la suite de **Fibonnacci (1170-1240)**, le rapport de deux termes consécutifs tend vers $\\phi$, c'est l'occasion de programmer une telle suite..."
      ]
    },
    {
      "cell_type": "code",
      "metadata": {
        "id": "KkYE8iZ9EtbH",
        "colab": {
          "base_uri": "https://localhost:8080/"
        },
        "outputId": "5437bf00-2df2-4c68-ccba-4dfb021828a4"
      },
      "source": [
        "a = 1\n",
        "b = 1\n",
        "\n",
        "print('F 0 = 1')\n",
        "print('F 1 = 1  , r 1 = 1')\n",
        "for k in range (2,10):\n",
        "    r = b/a\n",
        "    F = a + b\n",
        "    print('F',k,'=',F,'  , r',k,'=',r)\n",
        "    a = b\n",
        "    b = F\n"
      ],
      "execution_count": null,
      "outputs": [
        {
          "output_type": "stream",
          "text": [
            "F 0 = 1\n",
            "F 1 = 1  , r 1 = 1\n",
            "F 2 = 2   , r 2 = 1.0\n",
            "F 3 = 3   , r 3 = 2.0\n",
            "F 4 = 5   , r 4 = 1.5\n",
            "F 5 = 8   , r 5 = 1.6666666666666667\n",
            "F 6 = 13   , r 6 = 1.6\n",
            "F 7 = 21   , r 7 = 1.625\n",
            "F 8 = 34   , r 8 = 1.6153846153846154\n",
            "F 9 = 55   , r 9 = 1.619047619047619\n"
          ],
          "name": "stdout"
        }
      ]
    },
    {
      "cell_type": "markdown",
      "metadata": {
        "id": "IJLDJog2EtbO"
      },
      "source": [
        "**_seuil_**\n",
        "\n",
        "La suite F <sub>n</sub> étant de sens alterné, oscillant autour de $\\phi$, on peut calculer un seuil pour obtenir une précision cherchée en considérant l'écart entre deux termes consécutifs.\n",
        "\n",
        "\n",
        "**<span style=\"color: #26B260\">Python : boucle *while* pour la recherche de seuil</span>**"
      ]
    },
    {
      "cell_type": "code",
      "metadata": {
        "id": "AanE17Y-EtbQ",
        "colab": {
          "base_uri": "https://localhost:8080/"
        },
        "outputId": "d01a2fa2-72d3-4db5-a99a-d70e9f59b5bd"
      },
      "source": [
        "a = 1\n",
        "b = 1\n",
        "r = b/a\n",
        "old = 2\n",
        "k = 2\n",
        "\n",
        "#nb_decimales = int(input('Entrez la précision cherchée, nombre de chiffres après la virgule : '))\n",
        "nb_decimales = 9\n",
        "\n",
        "while abs(old - r)> 10**(-nb_decimales):\n",
        "    old = r\n",
        "    k = k+1\n",
        "    F = a + b\n",
        "    a = b\n",
        "    b = F\n",
        "    r = b/a\n",
        "    #print(r)\n",
        "    \n",
        "print('À 10^-',nb_decimales,' près, une valeur approchée de Phi est : ',round(r,nb_decimales) , ' obtenue après ',k,' itérations.')\n",
        "# résultat formaté selon la précision cherchée"
      ],
      "execution_count": null,
      "outputs": [
        {
          "output_type": "stream",
          "text": [
            "À 10^- 9  près, une valeur approchée de Phi est :  1.618033989  obtenue après  25  itérations.\n"
          ],
          "name": "stdout"
        }
      ]
    },
    {
      "cell_type": "markdown",
      "metadata": {
        "id": "RFcoYF36EtbZ"
      },
      "source": [
        "**_Représentation graphique_**"
      ]
    },
    {
      "cell_type": "code",
      "metadata": {
        "id": "lqw5ZdarEtba",
        "colab": {
          "base_uri": "https://localhost:8080/"
        },
        "outputId": "4cfa4ea1-4fbd-4801-b2e1-87e6f315135c"
      },
      "source": [
        "a = 1\n",
        "b = 1\n",
        "r = [1]\n",
        "\n",
        "for k in range (2,11):\n",
        "    r.append(b/a)\n",
        "    F = a + b\n",
        "    a = b\n",
        "    b = F\n",
        "#print(r)\n",
        "\n",
        "x = range(1,11)\n",
        "plt.plot(x,r,'r',marker = \"+\",linestyle = 'None')\n",
        "\n",
        "phi = (1+sqrt(5))/2\n",
        "\n",
        "plt.plot([0,11],[phi,phi],'k',linewidth = 1,linestyle = ':')\n",
        "\n",
        "plt.xlabel('n')\n",
        "plt.ylabel('Fn+1/Fn')\n",
        "plt.axis([0,11,0,2.5])\n",
        "plt.show()\n"
      ],
      "execution_count": null,
      "outputs": [
        {
          "output_type": "display_data",
          "data": {
            "image/png": "[encoded data removed]",
            "text/plain": [
              "<Figure size 432x288 with 1 Axes>"
            ]
          },
          "metadata": {
            "tags": []
          }
        }
      ]
    },
    {
      "cell_type": "markdown",
      "metadata": {
        "id": "X3z0Bin0Etbd"
      },
      "source": [
        "**_Variante_**\n",
        "\n",
        "On obtient une valeur approchée de $\\phi$ par son développement en fraction continue (qui n'est autre que la méthode précédente écrite autrement...)"
      ]
    },
    {
      "cell_type": "code",
      "metadata": {
        "id": "35jAw_hVEtbe"
      },
      "source": [
        "def fc_phi(n):\n",
        "    x = 1\n",
        "    for k in range(n):\n",
        "        x = 1/x\n",
        "        x = x + 1\n",
        "    return x"
      ],
      "execution_count": null,
      "outputs": []
    },
    {
      "cell_type": "code",
      "metadata": {
        "id": "dXp_OqTPEtbh",
        "colab": {
          "base_uri": "https://localhost:8080/"
        },
        "outputId": "735f46d0-3ba5-4ab2-86f1-61dda60bbe1b"
      },
      "source": [
        "for k in range(1,11):\n",
        "    print('Après ',k,' itérations, on a pour valeur approchée de Phi : ', fc_phi(k))"
      ],
      "execution_count": null,
      "outputs": [
        {
          "output_type": "stream",
          "text": [
            "Après  1  itérations, on a pour valeur approchée de Phi :  2.0\n",
            "Après  2  itérations, on a pour valeur approchée de Phi :  1.5\n",
            "Après  3  itérations, on a pour valeur approchée de Phi :  1.6666666666666665\n",
            "Après  4  itérations, on a pour valeur approchée de Phi :  1.6\n",
            "Après  5  itérations, on a pour valeur approchée de Phi :  1.625\n",
            "Après  6  itérations, on a pour valeur approchée de Phi :  1.6153846153846154\n",
            "Après  7  itérations, on a pour valeur approchée de Phi :  1.619047619047619\n",
            "Après  8  itérations, on a pour valeur approchée de Phi :  1.6176470588235294\n",
            "Après  9  itérations, on a pour valeur approchée de Phi :  1.6181818181818182\n",
            "Après  10  itérations, on a pour valeur approchée de Phi :  1.6179775280898876\n"
          ],
          "name": "stdout"
        }
      ]
    },
    {
      "cell_type": "markdown",
      "metadata": {
        "id": "_c3kvo8BEtbl"
      },
      "source": [
        "### 1.4 Convergences vers $\\pi$ : sommes de séries ###"
      ]
    },
    {
      "cell_type": "markdown",
      "metadata": {
        "id": "Rx8UnKh2Etbm"
      },
      "source": [
        "D'archimède à Ramanujan, nombreux sont les mathématiciens qui y sont allés de leur petite formule de calcul approché de $\\pi$.\n",
        "\n",
        "On en trouvera quelques unes ici : http://www.pi314.net/sitepdf/methana.PDF \n"
      ]
    },
    {
      "cell_type": "markdown",
      "metadata": {
        "id": "gI0lye-XEtbn"
      },
      "source": [
        "**_1.4.a. La plus simple, celle d'Euler (1707-1783), somme des inverses des carrés des entiers_**\n",
        "\n",
        "**<span style=\"color: #D17460\">1Spé : notion de limite</span>**\n",
        "\n",
        "\n",
        "On sait que cette somme converge vers $ \\frac{\\pi^2}{6}$ "
      ]
    },
    {
      "cell_type": "code",
      "metadata": {
        "id": "hHNDFxfFEtbo",
        "colab": {
          "base_uri": "https://localhost:8080/"
        },
        "outputId": "129059dd-8138-40b7-eb9f-7cec088ed760"
      },
      "source": [
        "from math import *\n",
        "\n",
        "N = 20\n",
        "S = 0\n",
        "\n",
        "for k in range(1,N+1):\n",
        "    S = S + 1/k**2\n",
        "    print('Après ',k,'itérations, on a pour valeur approchée de Pi : ', sqrt(6*S))\n",
        "    \n"
      ],
      "execution_count": null,
      "outputs": [
        {
          "output_type": "stream",
          "text": [
            "Après  1 itérations, on a pour valeur approchée de Pi :  2.449489742783178\n",
            "Après  2 itérations, on a pour valeur approchée de Pi :  2.7386127875258306\n",
            "Après  3 itérations, on a pour valeur approchée de Pi :  2.8577380332470415\n",
            "Après  4 itérations, on a pour valeur approchée de Pi :  2.9226129861250305\n",
            "Après  5 itérations, on a pour valeur approchée de Pi :  2.9633877010385707\n",
            "Après  6 itérations, on a pour valeur approchée de Pi :  2.9913764947484185\n",
            "Après  7 itérations, on a pour valeur approchée de Pi :  3.011773947846214\n",
            "Après  8 itérations, on a pour valeur approchée de Pi :  3.027297856657843\n",
            "Après  9 itérations, on a pour valeur approchée de Pi :  3.0395075895610533\n",
            "Après  10 itérations, on a pour valeur approchée de Pi :  3.04936163598207\n",
            "Après  11 itérations, on a pour valeur approchée de Pi :  3.0574815067075627\n",
            "Après  12 itérations, on a pour valeur approchée de Pi :  3.064287817833928\n",
            "Après  13 itérations, on a pour valeur approchée de Pi :  3.0700753718932203\n",
            "Après  14 itérations, on a pour valeur approchée de Pi :  3.0750569155713614\n",
            "Après  15 itérations, on a pour valeur approchée de Pi :  3.079389826032086\n",
            "Après  16 itérations, on a pour valeur approchée de Pi :  3.0831930203394537\n",
            "Après  17 itérations, on a pour valeur approchée de Pi :  3.086558025753714\n",
            "Après  18 itérations, on a pour valeur approchée de Pi :  3.089556434969781\n",
            "Après  19 itérations, on a pour valeur approchée de Pi :  3.092245052300697\n",
            "Après  20 itérations, on a pour valeur approchée de Pi :  3.094669524113704\n"
          ],
          "name": "stdout"
        }
      ]
    },
    {
      "cell_type": "markdown",
      "metadata": {
        "id": "7fms-gh7Etbr"
      },
      "source": [
        "... vitesse de convergence : lento ma sano..."
      ]
    },
    {
      "cell_type": "markdown",
      "metadata": {
        "id": "07CJEhnqEtbs"
      },
      "source": [
        "**_1.4.b. Formule de Leibnitz : record de lenteur_**\n",
        "\n",
        "$$\\frac{\\pi}{4} =  1-{1\\over 3}+{1\\over 5}-{1\\over 7}+{1\\over 9}-{1\\over 11}+{1\\over 13}-\\cdots = {\\displaystyle \\sum_{k=0}^n \\dfrac{(-1)^k}{2k+1}} $$"
      ]
    },
    {
      "cell_type": "code",
      "metadata": {
        "id": "de8-t9CbEtbx"
      },
      "source": [
        "def S(n):\n",
        "    S = 0\n",
        "    puiss_moins1 = -1\n",
        "    for k in range(n):\n",
        "        puiss_moins1 = puiss_moins1 * (-1)\n",
        "        S = S + puiss_moins1/(2*k+1)\n",
        "    return S\n",
        "  "
      ],
      "execution_count": null,
      "outputs": []
    },
    {
      "cell_type": "code",
      "metadata": {
        "id": "ZBEj-8aKEtb0",
        "colab": {
          "base_uri": "https://localhost:8080/"
        },
        "outputId": "d81cbe13-52e2-4978-ccae-42b5c5151253"
      },
      "source": [
        "4*S(1000)"
      ],
      "execution_count": null,
      "outputs": [
        {
          "output_type": "execute_result",
          "data": {
            "text/plain": [
              "3.140592653839794"
            ]
          },
          "metadata": {
            "tags": []
          },
          "execution_count": 35
        }
      ]
    },
    {
      "cell_type": "code",
      "metadata": {
        "id": "P5LFEu7EEtb2",
        "colab": {
          "base_uri": "https://localhost:8080/"
        },
        "outputId": "a16e96e2-1aa0-42da-9582-59036d48a079"
      },
      "source": [
        "4*S(1000000)"
      ],
      "execution_count": null,
      "outputs": [
        {
          "output_type": "execute_result",
          "data": {
            "text/plain": [
              "3.1415916535897743"
            ]
          },
          "metadata": {
            "tags": []
          },
          "execution_count": 36
        }
      ]
    },
    {
      "cell_type": "markdown",
      "metadata": {
        "id": "pB7fGVloEtb6"
      },
      "source": [
        "**_1.4.c. La formule d'Archimède (-287,-212)_**\n",
        "\n",
        "**<span style=\"color: #D17460\">1Spé : (trigo) approximation de Pi par la méthode d'Archimède </span>**\n",
        "\n",
        "\n",
        "Obtenue par Archimède, de tête bien entendu..., en encadrant un cercle de diamètre 1 (donc de rayon $\\frac{1}{2}$) par des polygones à 3, 6, 12, 24, 48 et 96 côtés, formule généralisée aux polygones à 3x2<sup>n</sup> côtés...\n",
        "\n",
        "Pour de plus amples informations, voir ici : http://serge.mehl.free.fr/anx/Aire_Cercle.html (démonstration à partir de triangles semblables, au passage d'une étape à la suivante)\n",
        "\n",
        "![...](https://drive.google.com/uc?id=1vfFL6WpeKOEafxD-iwSHV_5scEbr3hIf)"
      ]
    },
    {
      "cell_type": "code",
      "metadata": {
        "id": "EmeLyJyYEtb7",
        "colab": {
          "base_uri": "https://localhost:8080/",
          "height": 190
        },
        "outputId": "bcf64051-2768-4b90-81e9-088b9d541bdc"
      },
      "source": [
        "from math import sqrt, log\n",
        "b = sqrt(3)/4 # bras (apothème)\n",
        "c = 1/2 # côté\n",
        "p = 6*c # périmètre intérieur\n",
        "P = p/(2*b) # périmètre extérieur\n",
        "print('Avec des polygones à 6 côtés, on a : ',p , ' < pi < ',P)\n",
        "N = 10\n",
        "\n",
        "for k in range (2,N+1):\n",
        "    b = sqrt(b/4 + 1/8)\n",
        "    p = p/(2*b)\n",
        "    P = 1/(2*b)*p\n",
        "    print('Avec des polygones à ',3*2**k,' côtés, on a : ',p , ' < pi < ',P,'  soit une précision de 10^',round(log(P-p)/log(10)) )\n",
        "    \n",
        "    "
      ],
      "execution_count": null,
      "outputs": [
        {
          "output_type": "stream",
          "text": [
            "Avec des polygones à 6 côtés, on a :  3.0  < pi <  3.464101615137755\n",
            "Avec des polygones à  12  côtés, on a :  3.105828541230249  < pi <  3.215390309173472   soit une précision de 10^ -1\n",
            "Avec des polygones à  24  côtés, on a :  3.132628613281238  < pi <  3.159659942097501   soit une précision de 10^ -2\n",
            "Avec des polygones à  48  côtés, on a :  3.139350203046867  < pi <  3.146086215131435   soit une précision de 10^ -2\n",
            "Avec des polygones à  96  côtés, on a :  3.1410319508905093  < pi <  3.1427145996453683   soit une précision de 10^ -3\n",
            "Avec des polygones à  192  côtés, on a :  3.1414524722854615  < pi <  3.1418730499798233   soit une précision de 10^ -3\n",
            "Avec des polygones à  384  côtés, on a :  3.141557607911857  < pi <  3.1416627470568477   soit une précision de 10^ -4\n",
            "Avec des polygones à  768  côtés, on a :  3.141583892148318  < pi <  3.141610176604689   soit une précision de 10^ -5\n",
            "Avec des polygones à  1536  côtés, on a :  3.14159046322805  < pi <  3.141597034321526   soit une précision de 10^ -5\n",
            "Avec des polygones à  3072  côtés, on a :  3.1415921059992713  < pi <  3.1415937487713514   soit une précision de 10^ -6\n"
          ],
          "name": "stdout"
        }
      ]
    },
    {
      "cell_type": "markdown",
      "metadata": {
        "id": "GwG56J9CEtb-"
      },
      "source": [
        "**_1.4.d. Une somme beaucoup plus rapide : la formule de John Machin (1680-1751)_**\n",
        "$$S_n=4\\displaystyle \\sum_{k=0}^{n} \\dfrac{(-1)^k}{2k+1} \\left( 4\\dfrac{1}{5^{2k+1}}-\\dfrac{1}{{239}^{2k+1}}\\right)$$"
      ]
    },
    {
      "cell_type": "code",
      "metadata": {
        "id": "8fy7CE1hEtb_",
        "colab": {
          "base_uri": "https://localhost:8080/"
        },
        "outputId": "1d97f4e6-275d-4462-c43d-3e0ff1a26d2d"
      },
      "source": [
        "from math import *\n",
        "\n",
        "S = 0\n",
        "N = 10\n",
        "puiss_moins1 = -1\n",
        "puiss_5 = 1/5\n",
        "puiss_239 = 1/239\n",
        "for k in range(N+1):\n",
        "    puiss_moins1 = puiss_moins1 * (-1)\n",
        "    puiss_5 = puiss_5 * 5*5\n",
        "    puiss_239 = puiss_239 * 239 * 239\n",
        "    S = S + puiss_moins1/(2*k+1)*(4/puiss_5 - 1/puiss_239)\n",
        "    print('Après ',k,' itérations, on a pour valeur approchée de Pi : ', 4*S, '   précision 10^',round(log(abs(4*S - pi))/log(10)))\n",
        "\n"
      ],
      "execution_count": null,
      "outputs": [
        {
          "output_type": "stream",
          "text": [
            "Après  0  itérations, on a pour valeur approchée de Pi :  3.18326359832636    précision 10^ -1\n",
            "Après  1  itérations, on a pour valeur approchée de Pi :  3.1405970293260608    précision 10^ -3\n",
            "Après  2  itérations, on a pour valeur approchée de Pi :  3.141621029325035    précision 10^ -5\n",
            "Après  3  itérations, on a pour valeur approchée de Pi :  3.1415917721821778    précision 10^ -6\n",
            "Après  4  itérations, on a pour valeur approchée de Pi :  3.1415926824044    précision 10^ -8\n",
            "Après  5  itérations, on a pour valeur approchée de Pi :  3.141592652615309    précision 10^ -9\n",
            "Après  6  itérations, on a pour valeur approchée de Pi :  3.1415926536235554    précision 10^ -10\n",
            "Après  7  itérations, on a pour valeur approchée de Pi :  3.141592653588603    précision 10^ -12\n",
            "Après  8  itérations, on a pour valeur approchée de Pi :  3.1415926535898366    précision 10^ -13\n",
            "Après  9  itérations, on a pour valeur approchée de Pi :  3.1415926535897927    précision 10^ -15\n",
            "Après  10  itérations, on a pour valeur approchée de Pi :  3.1415926535897944    précision 10^ -15\n"
          ],
          "name": "stdout"
        }
      ]
    },
    {
      "cell_type": "markdown",
      "metadata": {
        "id": "-WeMgssvEtcC"
      },
      "source": [
        "**_1.4.e. La formule de Brouncker (1620-1684) : décomposition en fraction continue_**\n",
        "\n",
        "![...](https://drive.google.com/uc?id=1GjiTAn_kbPovmPHo80hbHW1GLijjz4UR)\n",
        "\n",
        "Le problème est qu'il faudrait connaître le dernier terme (celui des points de suspension) pour pouvoir, littéralement, remonter au premier.\n",
        "\n",
        "Heureusement, Brouncker a démontré que, pour n \"assez grand\", u<sub>n</sub> était environ égal à 2n+1, ainsi, en remplaçant, on est en mesure de calculer une valeur approchée de $\\pi$  (voir ici : http://serge.mehl.free.fr/anx/pi_brouncker.html)\n"
      ]
    },
    {
      "cell_type": "code",
      "metadata": {
        "id": "612IlfTwEtcD"
      },
      "source": [
        "def brouncker(nmax):\n",
        "    u = 2*nmax + 1\n",
        "    for n in range(nmax,0,-1):\n",
        "        u = (2*n+1)**2/(2+u)\n",
        "    u = 1 / (2+u)\n",
        "    va_pi = 4/(1+u)\n",
        "    return va_pi\n"
      ],
      "execution_count": null,
      "outputs": []
    },
    {
      "cell_type": "code",
      "metadata": {
        "id": "i5bUTpOXEtcG",
        "colab": {
          "base_uri": "https://localhost:8080/"
        },
        "outputId": "ac1a77c4-0ba8-48d3-f3ff-4f46116f9b96"
      },
      "source": [
        "brouncker(10)"
      ],
      "execution_count": null,
      "outputs": [
        {
          "output_type": "execute_result",
          "data": {
            "text/plain": [
              "3.1414067184965018"
            ]
          },
          "metadata": {
            "tags": []
          },
          "execution_count": 40
        }
      ]
    },
    {
      "cell_type": "code",
      "metadata": {
        "id": "ouWLAUYeEtcJ",
        "colab": {
          "base_uri": "https://localhost:8080/"
        },
        "outputId": "90afa4e1-9199-455d-be39-332f3efaa112"
      },
      "source": [
        "brouncker(100)"
      ],
      "execution_count": null,
      "outputs": [
        {
          "output_type": "execute_result",
          "data": {
            "text/plain": [
              "3.1415924109719806"
            ]
          },
          "metadata": {
            "tags": []
          },
          "execution_count": 41
        }
      ]
    },
    {
      "cell_type": "code",
      "metadata": {
        "id": "Yn54Jz_oEtcO",
        "colab": {
          "base_uri": "https://localhost:8080/"
        },
        "outputId": "205a387c-cf42-4424-bc15-d38f91354888"
      },
      "source": [
        "brouncker(1000)"
      ],
      "execution_count": null,
      "outputs": [
        {
          "output_type": "execute_result",
          "data": {
            "text/plain": [
              "3.141592653340542"
            ]
          },
          "metadata": {
            "tags": []
          },
          "execution_count": 42
        }
      ]
    },
    {
      "cell_type": "code",
      "metadata": {
        "id": "FmwCKYxiEtcT",
        "colab": {
          "base_uri": "https://localhost:8080/"
        },
        "outputId": "aab4856f-9228-4fb3-feeb-cd1dd865dc30"
      },
      "source": [
        "brouncker(10000)"
      ],
      "execution_count": null,
      "outputs": [
        {
          "output_type": "execute_result",
          "data": {
            "text/plain": [
              "3.141592653589543"
            ]
          },
          "metadata": {
            "tags": []
          },
          "execution_count": 43
        }
      ]
    },
    {
      "cell_type": "markdown",
      "metadata": {
        "id": "J2jTBIWKEtcW"
      },
      "source": [
        "**_1.4.f. $\\pi$ à partir de la moyenne arithmético-géométrique de 1 et $\\frac{1}{\\sqrt 2}$_**\n",
        "\n",
        "**<span style=\"color: #D17460\">TSpé - TCompl : moyenne arithmético-géométrique</span>**\n",
        "\n",
        "\n",
        "Cette méthode est très très rapide, car on double le nombre de décimales exactes à chaque itération.\n",
        "\n",
        "Elle permet de programmer deux suites définies par des relations de récurrence entrelacées."
      ]
    },
    {
      "cell_type": "code",
      "metadata": {
        "id": "yBpZ7nGfEtcX",
        "colab": {
          "base_uri": "https://localhost:8080/"
        },
        "outputId": "d8390581-bee8-4d84-f05a-cc6c1ed1f192"
      },
      "source": [
        "x = 1\n",
        "c = 1/4\n",
        "u = 1\n",
        "v = 1 / sqrt(2)\n",
        "n = 5\n",
        "\n",
        "for k in range(1,n+1):\n",
        "    y = u # stockage de l'ancienne valeur de u\n",
        "    u = (u+v)/2 # moyenne arithmétique\n",
        "    v = sqrt(v*y)\n",
        "    c = c - x*(u-y)**2\n",
        "    x = 2*x\n",
        "    p = (u+v)**2/(4*c)\n",
        "    print('Itération n°',k,'valeur approchée de Pi : ',p, '   précision 10^',round(log(abs(p - pi))/log(10)))\n",
        "\n"
      ],
      "execution_count": null,
      "outputs": [
        {
          "output_type": "stream",
          "text": [
            "Itération n° 1 valeur approchée de Pi :  3.1405792505221686    précision 10^ -3\n",
            "Itération n° 2 valeur approchée de Pi :  3.141592646213543    précision 10^ -8\n",
            "Itération n° 3 valeur approchée de Pi :  3.141592653589794    précision 10^ -15\n",
            "Itération n° 4 valeur approchée de Pi :  3.141592653589794    précision 10^ -15\n",
            "Itération n° 5 valeur approchée de Pi :  3.141592653589794    précision 10^ -15\n"
          ],
          "name": "stdout"
        }
      ]
    },
    {
      "cell_type": "markdown",
      "metadata": {
        "id": "OQFZ5VVxEtca"
      },
      "source": [
        "**_1.4.g. Et un petit produit dû à Wallis (1616-1703)_**\n",
        "\n",
        "![...](https://drive.google.com/uc?id=1lMHGGLmn6uvZJJJTS2E4zMd8_hAdSvgs)\n",
        "(pas très rapide, mais bon... on a vu pire...)"
      ]
    },
    {
      "cell_type": "code",
      "metadata": {
        "id": "eka3ZuZ_Etca",
        "colab": {
          "base_uri": "https://localhost:8080/"
        },
        "outputId": "38e73e06-707e-487e-b345-799a5642cec2"
      },
      "source": [
        "P = 1\n",
        "N = 20\n",
        "for n in range(1,N+1):\n",
        "    P = P*(1 + 1/(4*n**2 - 1))\n",
        "    print('Itération n°',n,' : ',2*P)\n"
      ],
      "execution_count": null,
      "outputs": [
        {
          "output_type": "stream",
          "text": [
            "Itération n° 1  :  2.6666666666666665\n",
            "Itération n° 2  :  2.844444444444444\n",
            "Itération n° 3  :  2.9257142857142853\n",
            "Itération n° 4  :  2.972154195011337\n",
            "Itération n° 5  :  3.0021759545569062\n",
            "Itération n° 6  :  3.0231701920013605\n",
            "Itération n° 7  :  3.038673628883419\n",
            "Itération n° 8  :  3.0505899960555105\n",
            "Itération n° 9  :  3.06003454712689\n",
            "Itération n° 10  :  3.0677038066434985\n",
            "Itération n° 11  :  3.074055160280442\n",
            "Itération n° 12  :  3.0794013431678864\n",
            "Itération n° 13  :  3.083963419231839\n",
            "Itération n° 14  :  3.087902069831113\n",
            "Itération n° 15  :  3.09133688859622\n",
            "Itération n° 16  :  3.0943587232869296\n",
            "Itération n° 17  :  3.09703782174865\n",
            "Itération n° 18  :  3.0994293567461395\n",
            "Itération n° 19  :  3.101577263438271\n",
            "Itération n° 20  :  3.103516961539233\n"
          ],
          "name": "stdout"
        }
      ]
    },
    {
      "cell_type": "code",
      "metadata": {
        "id": "1kgLXXULEtcf"
      },
      "source": [
        "def wallis(N):\n",
        "    P = 1\n",
        "    for n in range(1,N+1):\n",
        "        P = P*(1 + 1/(4*n**2 - 1))\n",
        "    return 2*P\n"
      ],
      "execution_count": null,
      "outputs": []
    },
    {
      "cell_type": "code",
      "metadata": {
        "id": "4l7mIOX2Etci",
        "colab": {
          "base_uri": "https://localhost:8080/"
        },
        "outputId": "d4eaed4e-a182-4f2c-9633-977296e31e1c"
      },
      "source": [
        "wallis(1000)"
      ],
      "execution_count": null,
      "outputs": [
        {
          "output_type": "execute_result",
          "data": {
            "text/plain": [
              "3.140807746030402"
            ]
          },
          "metadata": {
            "tags": []
          },
          "execution_count": 47
        }
      ]
    },
    {
      "cell_type": "code",
      "metadata": {
        "id": "ohYOWRN-Etcp",
        "colab": {
          "base_uri": "https://localhost:8080/"
        },
        "outputId": "6dc1bfa6-0d15-492f-b14b-698f63e4429d"
      },
      "source": [
        "wallis(1000000)"
      ],
      "execution_count": null,
      "outputs": [
        {
          "output_type": "execute_result",
          "data": {
            "text/plain": [
              "3.141591868192149"
            ]
          },
          "metadata": {
            "tags": []
          },
          "execution_count": 48
        }
      ]
    },
    {
      "cell_type": "markdown",
      "metadata": {
        "id": "cxUpmw6pEtcu"
      },
      "source": [
        "C'est poussif, mais on sent bien qu'on y va..."
      ]
    },
    {
      "cell_type": "markdown",
      "metadata": {
        "id": "BFvfGrgpEtcv"
      },
      "source": [
        "### 1.5. Approximations de ln(2)\n",
        "\n",
        "**_1.5.a. Par la formule de Mercator (1512 - 1594)_**\n",
        "\n",
        "![...](https://drive.google.com/uc?id=1liuKjC9Cuh9LsM2cL0N5LSn4aQKb6H3b)"
      ]
    },
    {
      "cell_type": "code",
      "metadata": {
        "id": "BFUWah-MEtcy"
      },
      "source": [
        "def mercator(x,n):\n",
        "    S = 0\n",
        "    puiss = -1\n",
        "    for k in range(1,n+1):\n",
        "        puiss = puiss*(-x)\n",
        "        S = S + puiss/k\n",
        "    return S\n",
        "    "
      ],
      "execution_count": null,
      "outputs": []
    },
    {
      "cell_type": "code",
      "metadata": {
        "id": "IP_4BLGSEtc3",
        "colab": {
          "base_uri": "https://localhost:8080/"
        },
        "outputId": "24fc3c9d-40a5-466a-a82c-143112e1d861"
      },
      "source": [
        "for compteur in range(1,11):\n",
        "    print('Après ', compteur, ' itérations, on a pour valeur approchée de ln(2) : ' ,mercator(1,compteur))"
      ],
      "execution_count": null,
      "outputs": [
        {
          "output_type": "stream",
          "text": [
            "Après  1  itérations, on a pour valeur approchée de ln(2) :  1.0\n",
            "Après  2  itérations, on a pour valeur approchée de ln(2) :  0.5\n",
            "Après  3  itérations, on a pour valeur approchée de ln(2) :  0.8333333333333333\n",
            "Après  4  itérations, on a pour valeur approchée de ln(2) :  0.5833333333333333\n",
            "Après  5  itérations, on a pour valeur approchée de ln(2) :  0.7833333333333332\n",
            "Après  6  itérations, on a pour valeur approchée de ln(2) :  0.6166666666666666\n",
            "Après  7  itérations, on a pour valeur approchée de ln(2) :  0.7595238095238095\n",
            "Après  8  itérations, on a pour valeur approchée de ln(2) :  0.6345238095238095\n",
            "Après  9  itérations, on a pour valeur approchée de ln(2) :  0.7456349206349207\n",
            "Après  10  itérations, on a pour valeur approchée de ln(2) :  0.6456349206349207\n"
          ],
          "name": "stdout"
        }
      ]
    },
    {
      "cell_type": "code",
      "metadata": {
        "id": "VYHRYMoHEtc8",
        "colab": {
          "base_uri": "https://localhost:8080/"
        },
        "outputId": "c62c24ed-35b5-44d1-aebc-35af1cb3a862"
      },
      "source": [
        "for c in range(7):\n",
        "    print('Après ', 10**c, ' itérations, on a pour valeur approchée de ln(2) : ' ,mercator(1,10**c))"
      ],
      "execution_count": null,
      "outputs": [
        {
          "output_type": "stream",
          "text": [
            "Après  1  itérations, on a pour valeur approchée de ln(2) :  1.0\n",
            "Après  10  itérations, on a pour valeur approchée de ln(2) :  0.6456349206349207\n",
            "Après  100  itérations, on a pour valeur approchée de ln(2) :  0.688172179310195\n",
            "Après  1000  itérations, on a pour valeur approchée de ln(2) :  0.6926474305598223\n",
            "Après  10000  itérations, on a pour valeur approchée de ln(2) :  0.6930971830599583\n",
            "Après  100000  itérations, on a pour valeur approchée de ln(2) :  0.6931421805849816\n",
            "Après  1000000  itérations, on a pour valeur approchée de ln(2) :  0.6931466805602525\n"
          ],
          "name": "stdout"
        }
      ]
    },
    {
      "cell_type": "markdown",
      "metadata": {
        "id": "a9fYIzPIEtdA"
      },
      "source": [
        "... pas rapide...\n",
        "\n",
        "Accélérons le processus, avec la formule suivante, découlant de la précédente \n",
        "(cf https://fr.wikipedia.org/wiki/Logarithme_naturel)\n",
        "\n",
        "**_1.5.b. Accélération de convergence_**\n",
        "\n",
        "![...](https://drive.google.com/uc?id=1QiysndwXb_pgDlQopzg4KoMWhOluSr8B)"
      ]
    },
    {
      "cell_type": "code",
      "metadata": {
        "id": "SWth25nTEtdD"
      },
      "source": [
        "def mercator_accelere(y,n):\n",
        "    r = (y-1)/(y+1)\n",
        "    S = r\n",
        "    puiss = r\n",
        "    for k in range(1,n+1):\n",
        "        puiss = puiss*r**2\n",
        "        S = S + puiss/(2*k+1)\n",
        "    return 2*S"
      ],
      "execution_count": null,
      "outputs": []
    },
    {
      "cell_type": "code",
      "metadata": {
        "id": "mIIzv0zmEtdH",
        "colab": {
          "base_uri": "https://localhost:8080/"
        },
        "outputId": "ffe8e634-84ac-45fd-da29-5193d94c7859"
      },
      "source": [
        "for compteur in range(1,11):\n",
        "    log_2 = mercator_accelere(2,compteur)\n",
        "    print('Après ', compteur, ' itérations, on a pour valeur approchée de ln(2) : ' ,log_2,', soit ', int(-log (abs(log(2)-log_2))/log(10)),' décimales')"
      ],
      "execution_count": null,
      "outputs": [
        {
          "output_type": "stream",
          "text": [
            "Après  1  itérations, on a pour valeur approchée de ln(2) :  0.691358024691358 , soit  2  décimales\n",
            "Après  2  itérations, on a pour valeur approchée de ln(2) :  0.6930041152263374 , soit  3  décimales\n",
            "Après  3  itérations, on a pour valeur approchée de ln(2) :  0.6931347573322881 , soit  4  décimales\n",
            "Après  4  itérations, on a pour valeur approchée de ln(2) :  0.6931460473908271 , soit  5  décimales\n",
            "Après  5  itérations, on a pour valeur approchée de ln(2) :  0.6931470737597851 , soit  6  décimales\n",
            "Après  6  itérations, on a pour valeur approchée de ln(2) :  0.6931471702560119 , soit  7  décimales\n",
            "Après  7  itérations, on a pour valeur approchée de ln(2) :  0.6931471795482411 , soit  8  décimales\n",
            "Après  8  itérations, on a pour valeur approchée de ln(2) :  0.693147180459244 , soit  9  décimales\n",
            "Après  9  itérations, on a pour valeur approchée de ln(2) :  0.6931471805498115 , soit  10  décimales\n",
            "Après  10  itérations, on a pour valeur approchée de ln(2) :  0.6931471805589162 , soit  11  décimales\n"
          ],
          "name": "stdout"
        }
      ]
    },
    {
      "cell_type": "code",
      "metadata": {
        "id": "_Jk24f8jEtdL",
        "colab": {
          "base_uri": "https://localhost:8080/"
        },
        "outputId": "1c1a8b7b-6ea0-4155-fe93-6542c155870b"
      },
      "source": [
        "log(2)"
      ],
      "execution_count": null,
      "outputs": [
        {
          "output_type": "execute_result",
          "data": {
            "text/plain": [
              "0.6931471805599453"
            ]
          },
          "metadata": {
            "tags": []
          },
          "execution_count": 54
        }
      ]
    },
    {
      "cell_type": "markdown",
      "metadata": {
        "id": "H3yxo2m6EtdN"
      },
      "source": [
        "**_1.5.c. Autre amélioration : celle de Brouncher (voir plus haut pour $\\pi$), d'après Newton (1643 - 1727)_**\n",
        "\n",
        "**<span style=\"color: #D17460\"> TSpé - TCompl  </span>**"
      ]
    },
    {
      "cell_type": "code",
      "metadata": {
        "id": "YaSYmeqWEtdO"
      },
      "source": [
        "def brouncker_ln2(n):\n",
        "    S = 0\n",
        "    for k in range(n):\n",
        "        S = S + 1/((2*k+1)*(2*k+2))\n",
        "    return S"
      ],
      "execution_count": null,
      "outputs": []
    },
    {
      "cell_type": "code",
      "metadata": {
        "id": "Tknwh2F_EtdQ",
        "colab": {
          "base_uri": "https://localhost:8080/"
        },
        "outputId": "38b15507-949a-4bf9-a3fd-aeda3e1fa9f3"
      },
      "source": [
        "for k in range(7):\n",
        "    print('Après ',10**k,' itérations, valeur approchée de ln(2) :', brouncker_ln2(10**k))\n"
      ],
      "execution_count": null,
      "outputs": [
        {
          "output_type": "stream",
          "text": [
            "Après  1  itérations, valeur approchée de ln(2) : 0.5\n",
            "Après  10  itérations, valeur approchée de ln(2) : 0.6687714031754279\n",
            "Après  100  itérations, valeur approchée de ln(2) : 0.6906534304818241\n",
            "Après  1000  itérations, valeur approchée de ln(2) : 0.6928972430599386\n",
            "Après  10000  itérations, valeur approchée de ln(2) : 0.6931221811849473\n",
            "Après  100000  itérations, valeur approchée de ln(2) : 0.6931446805661907\n",
            "Après  1000000  itérations, valeur approchée de ln(2) : 0.6931469305600455\n"
          ],
          "name": "stdout"
        }
      ]
    },
    {
      "cell_type": "markdown",
      "metadata": {
        "id": "YOWe1zdMEtdT"
      },
      "source": [
        "**_1.5.d. ALgorithme de Briggs(1556 - 1630, collaborateur de John Napier)_**\n",
        "\n",
        "**<span style=\"color: #D17460\">TSpé - TCompl  </span>**\n",
        "\n",
        "L'idée est assez simple :\n",
        "\n",
        "- lorsqu'on itère la racine carrée d'un quelconque réel srictelent positif x, on se rapproche de 1.\n",
        "- or, pour les x proches de 1, ln(x) est très proche de x - 1\n",
        "- et chaque prise de racine correspond à une division du logarithme par 2,\n",
        "\n",
        "pour avoir une valeur approchée de ln(x), il suffit de compter les extractions de racines avant de soustraire 1, puis de multiplier par 2 autant de fois qu’on a extrait une racine.\n",
        "\n",
        "C'est cet algorithme qui est programmé dans les calculatrices pour calculer des logarithmes (on itère un petit nombre de calcul de racines)\n",
        "\n",
        "(voir http://irem.univ-reunion.fr/spip.php?article606)"
      ]
    },
    {
      "cell_type": "code",
      "metadata": {
        "id": "WF320d32EtdT"
      },
      "source": [
        "def briggs(x):\n",
        "    n = 0\n",
        "    while not(1 - epsilon < x < 1 + epsilon): # Python permet de tester directement un encadrement !\n",
        "        x = sqrt(x)\n",
        "        n = n + 1\n",
        "    return [(x-1)*2**n , n]"
      ],
      "execution_count": null,
      "outputs": []
    },
    {
      "cell_type": "code",
      "metadata": {
        "id": "Wuo55SioEtdV",
        "colab": {
          "base_uri": "https://localhost:8080/"
        },
        "outputId": "cd76fdb7-66e8-46e1-8733-64a8a4d533be"
      },
      "source": [
        "epsilon = 1e-11\n",
        "[X,N] = briggs(2)\n",
        "print(' Valeur approchée de ln(2) à ', epsilon, ' près :', X , 'après ',N, ' itérations.')"
      ],
      "execution_count": null,
      "outputs": [
        {
          "output_type": "stream",
          "text": [
            " Valeur approchée de ln(2) à  1e-11  près : 0.693145751953125 après  37  itérations.\n"
          ],
          "name": "stdout"
        }
      ]
    },
    {
      "cell_type": "markdown",
      "metadata": {
        "id": "LEtRMiwvEtdY"
      },
      "source": [
        "**_Tracé de la représentation graphique approchée de la fonction ln_**"
      ]
    },
    {
      "cell_type": "code",
      "metadata": {
        "id": "_oiqMIthEtdY",
        "colab": {
          "base_uri": "https://localhost:8080/"
        },
        "outputId": "51d1c999-3d67-49f8-9303-082d50f5783f"
      },
      "source": [
        "c = 0\n",
        "for k in range(501) :\n",
        "    c = c + 0.02\n",
        "    [X,N] = briggs(c)\n",
        "    plt.plot(c,X, 'r',marker = '.')\n",
        "    \n",
        "ax = plt.gca() # récupération du paramétrage des axes\n",
        "\n",
        "ax.spines['left'].set_position('zero') # positionnement de l'axe des ordonnées à x = 0\n",
        "ax.spines['right'].set_color('none')\n",
        "ax.spines['bottom'].set_position('zero') # positionnement de l'axe des abscisses à y = 0\n",
        "ax.spines['top'].set_color('none')\n",
        "plt.show()"
      ],
      "execution_count": null,
      "outputs": [
        {
          "output_type": "display_data",
          "data": {
            "image/png": "[encoded data removed]",
            "text/plain": [
              "<Figure size 432x288 with 1 Axes>"
            ]
          },
          "metadata": {
            "tags": []
          }
        }
      ]
    },
    {
      "cell_type": "code",
      "metadata": {
        "id": "3HPkyAD3Etdb"
      },
      "source": [
        ""
      ],
      "execution_count": null,
      "outputs": []
    }
  ]
}