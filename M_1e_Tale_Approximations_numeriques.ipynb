{
  "nbformat": 4,
  "nbformat_minor": 0,
  "metadata": {
    "kernelspec": {
      "display_name": "Python 3",
      "language": "python",
      "name": "python3"
    },
    "language_info": {
      "codemirror_mode": {
        "name": "ipython",
        "version": 3
      },
      "file_extension": ".py",
      "mimetype": "text/x-python",
      "name": "python",
      "nbconvert_exporter": "python",
      "pygments_lexer": "ipython3",
      "version": "3.7.1"
    },
    "colab": {
      "name": "M-1e-Tale Approximations_numeriques.ipynb",
      "provenance": [],
      "collapsed_sections": [],
      "include_colab_link": true
    }
  },
  "cells": [
    {
      "cell_type": "markdown",
      "metadata": {
        "id": "view-in-github",
        "colab_type": "text"
      },
      "source": [
        "<a href=\"https://colab.research.google.com/github/othoni-hub/M1-Maths-Algo/blob/main/M_1e_Tale_Approximations_numeriques.ipynb\" target=\"_parent\"><img src=\"https://colab.research.google.com/assets/colab-badge.svg\" alt=\"Open In Colab\"/></a>"
      ]
    },
    {
      "cell_type": "markdown",
      "metadata": {
        "id": "huLHCKPcOhNI"
      },
      "source": [
        "# Mathématiques \n",
        "# 1<sup>ère</sup> - Terminale (spécialité, options complémentaire et experte)\n",
        "\n",
        "<img src=\"https://drive.google.com/uc?id=12Wo3LubGGT4qOvYFAuLP4CyCuwjKNVuk\" width=\"230\" height=\"150\" align = \"right\"/>\n",
        "\n",
        "## Chapitre 2 : Calcul approché\n",
        "## 2<sup>ème</sup> partie : - RÉSOLUTION APPROCHÉE D'ÉQUATIONS -\n",
        "\n",
        "**O.THÖNI - IFUCOME -**\n",
        "\n",
        "*Document à usage exclusif des étudiant·e·s actuel·le·s et passé·e·s du Master MEEF Mathématiques de l'Université Catholique de l'Ouest*"
      ]
    },
    {
      "cell_type": "code",
      "metadata": {
        "id": "RNQQKgnGOhNJ"
      },
      "source": [
        "import matplotlib.pyplot as plt\n",
        "import numpy as np"
      ],
      "execution_count": null,
      "outputs": []
    },
    {
      "cell_type": "markdown",
      "metadata": {
        "id": "_giwBMgUOhNO"
      },
      "source": [
        "**La fonction**\n",
        "\n",
        "Nous allons étudier les (un des) zéros de la fonction f dont l'expression est f(x) = x<sup>3</sup> + x<sup>2</sup> - 6x + 2.\n"
      ]
    },
    {
      "cell_type": "code",
      "metadata": {
        "id": "jEERkSYUOhNP",
        "colab": {
          "base_uri": "https://localhost:8080/",
          "height": 264
        },
        "outputId": "269090a9-3fde-473d-c2e9-3307da7aaaf4"
      },
      "source": [
        "# Définition de la fonction\n",
        "def f(x):\n",
        "    y = x**3 + x**2 -6*x + 2\n",
        "    return y\n",
        "    \n",
        "import numpy as np\n",
        "# Représentation graphique\n",
        "xx = np.arange(-4,3,0.1) # liste numpy de -4 à 3 avec un pas de 0.1 (les listes natives avec range sont des listes d'entiers)\n",
        "yy = []\n",
        "\n",
        "for x in xx :\n",
        "    yy.append(f(x))\n",
        "    \n",
        "p1 = plt.plot(xx,yy,'r',linewidth=1)\n",
        "\n",
        "ax = plt.gca()\n",
        "ax.spines['left'].set_position('zero')\n",
        "ax.spines['right'].set_color('none')\n",
        "ax.spines['bottom'].set_position('zero')\n",
        "ax.spines['top'].set_color('none')\n",
        "\n",
        "plt.xlim(-5,3)\n",
        "plt.title('y = x^3 + x^2 - 6x + 2')\n",
        "plt.show()"
      ],
      "execution_count": null,
      "outputs": [
        {
          "output_type": "display_data",
          "data": {
            "image/png": "[encoded data removed]",
            "text/plain": [
              "<Figure size 432x288 with 1 Axes>"
            ]
          },
          "metadata": {
            "tags": []
          }
        }
      ]
    },
    {
      "cell_type": "markdown",
      "metadata": {
        "id": "9dC5lugsOhNU"
      },
      "source": [
        "Nous allons chercher une valeur approchée du zéro qui, apparamment, est compris entre 1 et 3."
      ]
    },
    {
      "cell_type": "code",
      "metadata": {
        "id": "nTx-IDgMOhNV"
      },
      "source": [
        "# précision souhaitée\n",
        "nb_decimales = 5\n",
        "epsilon = 10**(-nb_decimales)\n",
        "\n",
        "#intervalle d'étude [1 ; 3]\n",
        "a = 1\n",
        "b = 3\n"
      ],
      "execution_count": null,
      "outputs": []
    },
    {
      "cell_type": "markdown",
      "metadata": {
        "id": "y4-um30xOhNZ"
      },
      "source": [
        "### 1. Par balayage###\n",
        "\n",
        "**<span style=\"color: #D17460\">TCompl : valeur approchée d'une solution d'équation par balayage</span>**\n",
        "\n",
        "\n",
        "Le principe est simple : on part de la borne gauche, 1 , où la fonction prend des valeurs négatives, et on avance pas à pas, avec un pas égal à la précision '*epsilon*' recherchée, jusqu'à ce que la fonction prenne sa première valeur positive, lieu de la valeur approchée par excès de la racine cherchée, à *epsilon* près. "
      ]
    },
    {
      "cell_type": "code",
      "metadata": {
        "id": "4Ik9eF7_OhNa",
        "colab": {
          "base_uri": "https://localhost:8080/",
          "height": 34
        },
        "outputId": "379859e0-8b21-42f6-c793-28ae85b6ca8d"
      },
      "source": [
        "u = a\n",
        "compteur = 0\n",
        "while f(u) < 0:\n",
        "    compteur = compteur + 1\n",
        "    u = u + epsilon\n",
        "    \n",
        "print('La valeur approchée par excès à ',epsilon,'près est : ',round(u,nb_decimales),'   après ',compteur,' itérations.')"
      ],
      "execution_count": null,
      "outputs": [
        {
          "output_type": "stream",
          "text": [
            "La valeur approchée par excès à  1e-05 près est :  1.76156    après  76156  itérations.\n"
          ],
          "name": "stdout"
        }
      ]
    },
    {
      "cell_type": "markdown",
      "metadata": {
        "id": "06w2sbrVOhNe"
      },
      "source": [
        "### 2. Par dichotomie###\n",
        "\n",
        "**<span style=\"color: #D17460\">TSpé - TCompl : valeur approchée d'une solution d'équation par dichotomie</span>**\n",
        "\n",
        "**<span style=\"color: #26B260\">Python : test *if... : else :*</span>**\n",
        "\n"
      ]
    },
    {
      "cell_type": "code",
      "metadata": {
        "id": "Fk4jnhpaOhNf",
        "colab": {
          "base_uri": "https://localhost:8080/",
          "height": 34
        },
        "outputId": "6b2b2ff1-dfd4-4415-c0a9-56a15dc0ee5a"
      },
      "source": [
        "compteur = 0\n",
        "u = a\n",
        "v = b\n",
        "while v-u > epsilon :\n",
        "    compteur = compteur + 1\n",
        "    c = (u+v)/2\n",
        "    if f(u)*f(c) < 0 :\n",
        "        v = c\n",
        "    else :\n",
        "        u = c\n",
        "        \n",
        "print('Une valeur approchée à ',epsilon,'près est : ',round(c,nb_decimales),'   après ',compteur,' itérations.')"
      ],
      "execution_count": null,
      "outputs": [
        {
          "output_type": "stream",
          "text": [
            "Une valeur approchée à  1e-05 près est :  1.76156    après  18  itérations.\n"
          ],
          "name": "stdout"
        }
      ]
    },
    {
      "cell_type": "markdown",
      "metadata": {
        "id": "pIYaHX2eOhNi"
      },
      "source": [
        "**_Exercice_**\n",
        "\n",
        "**<span style=\"color: #D17460\">TCompl </span>**\n",
        "\n",
        "Adapter la démarche précédente pour trouver une valeur approchée de ln(2) à l'aide de la fonction d'expression f(x) = e<sup>x</sup> - 2"
      ]
    },
    {
      "cell_type": "markdown",
      "metadata": {
        "id": "1ANLsVAVOhNj"
      },
      "source": [
        "### 3. Par la méthode de Newton###\n",
        "\n",
        "**<span style=\"color: #D17460\">TSpé : valeur approchée d'une solution d'équation par la méthode de Newton</span>**\n",
        "\n",
        "\n",
        "(voir http://pcsi.kleber.free.fr/IPT/doc/INS2_Newton_et_Euler_codes.pdf)"
      ]
    },
    {
      "cell_type": "code",
      "metadata": {
        "id": "SThvCxeWOhNk",
        "colab": {
          "base_uri": "https://localhost:8080/",
          "height": 34
        },
        "outputId": "05703bd7-8206-45bc-95ab-45862303a73a"
      },
      "source": [
        "compteur = 0\n",
        "x = b \n",
        "h = 1e-6\n",
        "prec = a\n",
        "while abs(x-prec) > epsilon :\n",
        "    prec = x\n",
        "    compteur = compteur + 1\n",
        "    derivee = (f(x+h) - f(x)) / h # nombre dérivé approché en x\n",
        "    x = x - f(x)/derivee \n",
        "    \n",
        "print('Une valeur approchée à ',epsilon,'près est : ',round(x,nb_decimales),'   après ',compteur,' itérations.')"
      ],
      "execution_count": null,
      "outputs": [
        {
          "output_type": "stream",
          "text": [
            "Une valeur approchée à  1e-05 près est :  1.76156    après  6  itérations.\n"
          ],
          "name": "stdout"
        }
      ]
    },
    {
      "cell_type": "markdown",
      "metadata": {
        "id": "ioSBXkOmOhNo"
      },
      "source": [
        "### 4. Par la méthode de la sécante###\n",
        "\n",
        "**<span style=\"color: #D17460\">TSpé : valeur approchée d'une solution d'équation par la méthode de la sécante</span>**\n",
        "\n",
        "![...](https://drive.google.com/uc?id=1q0z5GvdotQ5gERrR668hjCm8lZBvrvRr)\n",
        "\n",
        "\n",
        "(voir https://fr.wikipedia.org/wiki/M%C3%A9thode_de_la_s%C3%A9cante\n",
        " voir aussi :  http://exo7.emath.fr/cours/ch_zeros.pdf)\n",
        " "
      ]
    },
    {
      "cell_type": "markdown",
      "metadata": {
        "id": "328D6TJGOhNq"
      },
      "source": [
        "![...](https://drive.google.com/uc?id=1av-ORTRBii-NoL8ZuW8qDVo0vz4QkI7a)"
      ]
    },
    {
      "cell_type": "code",
      "metadata": {
        "scrolled": true,
        "id": "UDr6J3_BOhNr",
        "colab": {
          "base_uri": "https://localhost:8080/",
          "height": 34
        },
        "outputId": "e2b0dee7-6e9a-4a95-9b80-b79e7c803de2"
      },
      "source": [
        "def secante(f,a,b,epsilon):\n",
        "    k = 0\n",
        "    while abs(b-a) > epsilon and k < 100 :\n",
        "        a,b = b, a - (b-a)* f(a) / (f(b)-f(a)) # affectation double évitant de faire appel à une variable auxiliaire\n",
        "        # note a et b sont des variables locales, connues seulement de la fonction 'secante', \n",
        "        # on n'affecte (en son double-sens) donc pas les variables a et b du programme principal\n",
        "        k = k + 1\n",
        "        \n",
        "    if k<100:\n",
        "        return (b,k)\n",
        "    else:\n",
        "        raise ValueError('Divergence')\n",
        "        # L’instruction raise permet au programmeur de déclencher une exception spécifique\n",
        "        \n",
        "x, compteur = secante(f,a,b,epsilon) # observer les passages en paramètres, les variable globales et locales à la fonction 'secante'\n",
        "print('Une valeur approchée à ',epsilon,'près est : ',round(x,nb_decimales),'   après ',compteur,' itérations.')"
      ],
      "execution_count": null,
      "outputs": [
        {
          "output_type": "stream",
          "text": [
            "Une valeur approchée à  1e-05 près est :  1.76156    après  10  itérations.\n"
          ],
          "name": "stdout"
        }
      ]
    },
    {
      "cell_type": "markdown",
      "metadata": {
        "id": "oyOu2E9uOhNu"
      },
      "source": [
        "**_Illustration graphique_**"
      ]
    },
    {
      "cell_type": "code",
      "metadata": {
        "id": "ziHvhEXJOhNv",
        "colab": {
          "base_uri": "https://localhost:8080/",
          "height": 264
        },
        "outputId": "71257d69-f84d-4c58-91f0-75d11c34eb69"
      },
      "source": [
        "xx = np.arange(-0.5,3.1,0.1) # liste numpy de -4 à 3 avec un pas de 0.1 (les listes natives avec range sont des listes d'entiers)\n",
        "yy = []\n",
        "\n",
        "for x in xx :\n",
        "    yy.append(f(x))\n",
        "    \n",
        "p1 = plt.plot(xx,yy,'r',linewidth=1)\n",
        "\n",
        "ax = plt.gca()\n",
        "\n",
        "ax.spines['left'].set_position('zero')\n",
        "ax.spines['right'].set_color('none')\n",
        "ax.spines['bottom'].set_position('zero')\n",
        "ax.spines['top'].set_color('none')\n",
        "\n",
        "plt.xlim(-1,3)\n",
        "plt.title('Résolution de f(x) = 0 par la méthode des sécantes')\n",
        "u = a\n",
        "v = b\n",
        "for k in range(10):\n",
        "    plt.plot([u,v],[f(u),f(v)], 'b', linewidth = 1, linestyle = ':')\n",
        "    u,v = v, u - (v-u)* f(u) / (f(v)-f(u))\n",
        "\n",
        "plt.show()"
      ],
      "execution_count": null,
      "outputs": [
        {
          "output_type": "display_data",
          "data": {
            "image/png": "[encoded data removed]",
            "text/plain": [
              "<Figure size 432x288 with 1 Axes>"
            ]
          },
          "metadata": {
            "tags": []
          }
        }
      ]
    },
    {
      "cell_type": "code",
      "metadata": {
        "id": "0gtjYfDWOhNz"
      },
      "source": [
        ""
      ],
      "execution_count": null,
      "outputs": []
    },
    {
      "cell_type": "code",
      "metadata": {
        "id": "idldX080OhN2"
      },
      "source": [
        ""
      ],
      "execution_count": null,
      "outputs": []
    }
  ]
}