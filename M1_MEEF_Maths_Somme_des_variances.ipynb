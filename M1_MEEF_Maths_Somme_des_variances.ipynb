{
  "nbformat": 4,
  "nbformat_minor": 0,
  "metadata": {
    "colab": {
      "name": "M1_MEEF_Maths-Somme_des_variances.ipynb",
      "provenance": [],
      "authorship_tag": "ABX9TyOXdTIa9CILg50jEEV3Tw8/",
      "include_colab_link": true
    },
    "kernelspec": {
      "name": "python3",
      "display_name": "Python 3"
    },
    "language_info": {
      "name": "python"
    }
  },
  "cells": [
    {
      "cell_type": "markdown",
      "metadata": {
        "id": "view-in-github",
        "colab_type": "text"
      },
      "source": [
        "<a href=\"https://colab.research.google.com/github/othoni-hub/M1-Maths-Algo/blob/main/M1_MEEF_Maths_Somme_des_variances.ipynb\" target=\"_parent\"><img src=\"https://colab.research.google.com/assets/colab-badge.svg\" alt=\"Open In Colab\"/></a>"
      ]
    },
    {
      "cell_type": "markdown",
      "metadata": {
        "id": "KVYIpOb5JsUy"
      },
      "source": [
        "# **M1-MEEF Mathématiques** \n",
        "<img src=\"https://drive.google.com/uc?id=12Wo3LubGGT4qOvYFAuLP4CyCuwjKNVuk\" width=\"230\" height=\"150\" align = \"right\"/>\n",
        "\n",
        "## **Notebook : Correction TP : Somme des variances**\n",
        "\n",
        "\n",
        "\n",
        "\n",
        "**O.Thöni - UCO-IFUCOME, groupes \"Mathématiques\" et \"Numérique et Sciences Informatiques\"**"
      ]
    },
    {
      "cell_type": "markdown",
      "source": [
        "<img src=\"http://blog.legardemots.fr/public/icosaedre.jpg\" width=\"160\" height=\"150\" align = \"center\"/>\n",
        "\n",
        "<img src=\"https://www.baccarat.fr/dw/image/v2/BBLJ_PRD/on/demandware.static/-/Sites-baccarat-master-products/default/dwa5b31eef/original/Jeux/2813749.jpg?sw=1700&sh=1700&sm=fit\" width=\"300\" height=\"300\" align = \"center\"/>\n",
        "\n",
        "\n"
      ],
      "metadata": {
        "id": "TNtKvgSMtYF2"
      }
    },
    {
      "cell_type": "markdown",
      "metadata": {
        "id": "9ScrN9uW0AOP"
      },
      "source": [
        "## **Simulation d'un loi binomiale**\n",
        "\n",
        "Ceci requiert l'import du module *random*, et accessoirement de *MatPlotLib.Pyplot* pour les graphiques.\n"
      ]
    },
    {
      "cell_type": "code",
      "source": [
        "import random as rd\n",
        "\n",
        "import matplotlib.pyplot as plt"
      ],
      "metadata": {
        "id": "qWocaI8JYus1"
      },
      "execution_count": 1,
      "outputs": []
    },
    {
      "cell_type": "markdown",
      "source": [
        "Commençons par simuler un tirage de Bernoulli, de probabilité p\n",
        "\n"
      ],
      "metadata": {
        "id": "PauTZY6pY2T3"
      }
    },
    {
      "cell_type": "code",
      "source": [
        "def bernoulli(p):\n",
        "    u = rd.random()\n",
        "    b = (u < p)\n",
        "    print(u)\n",
        "    return b"
      ],
      "metadata": {
        "id": "hqsUcHBaY1ce"
      },
      "execution_count": 2,
      "outputs": []
    },
    {
      "cell_type": "code",
      "source": [
        "p = 0.4\n",
        "bernoulli(p)"
      ],
      "metadata": {
        "colab": {
          "base_uri": "https://localhost:8080/"
        },
        "id": "lz36RGVhZBPc",
        "outputId": "4b1c7e8f-c3c6-4120-c512-e31afcc1a22c"
      },
      "execution_count": 3,
      "outputs": [
        {
          "output_type": "stream",
          "name": "stdout",
          "text": [
            "0.6529710975959313\n"
          ]
        },
        {
          "output_type": "execute_result",
          "data": {
            "text/plain": [
              "False"
            ]
          },
          "metadata": {},
          "execution_count": 3
        }
      ]
    },
    {
      "cell_type": "code",
      "source": [
        "def bernoulli(p):\n",
        "    return int(rd.random()<p)"
      ],
      "metadata": {
        "id": "lkvInzj8ZGCU"
      },
      "execution_count": 4,
      "outputs": []
    },
    {
      "cell_type": "code",
      "source": [
        "bernoulli(p)"
      ],
      "metadata": {
        "colab": {
          "base_uri": "https://localhost:8080/"
        },
        "id": "8MdyLODtZVVn",
        "outputId": "8f736e7a-1ac2-473f-bfa0-091446db0c1f"
      },
      "execution_count": 5,
      "outputs": [
        {
          "output_type": "execute_result",
          "data": {
            "text/plain": [
              "0"
            ]
          },
          "metadata": {},
          "execution_count": 5
        }
      ]
    },
    {
      "cell_type": "markdown",
      "source": [
        "Effectuons maintenant n tirages indépendants selon cette loi de Bernoulli de paramètre p, c'est-à-dire un tirage binomial selon la loi $B \\left ( n ; p \\right )$"
      ],
      "metadata": {
        "id": "PNQI8c9Aao_6"
      }
    },
    {
      "cell_type": "code",
      "source": [
        "def binomiale(n,p):\n",
        "    '''Cette fonction simule un tirage aléatoire selon la loi binomiale de paramètres n et p donnés en entrées'''\n",
        "    B = []\n",
        "    for k in range(n):\n",
        "        B.append(bernoulli(p))\n",
        "    return B,sum(B)"
      ],
      "metadata": {
        "id": "Xk3xtiV-ZYEW"
      },
      "execution_count": 6,
      "outputs": []
    },
    {
      "cell_type": "code",
      "source": [
        "(n_tirages_bernoulli, nb_succes) = binomiale(10,0.4)\n",
        "print(n_tirages_bernoulli)\n",
        "print(nb_succes)"
      ],
      "metadata": {
        "colab": {
          "base_uri": "https://localhost:8080/"
        },
        "id": "H7mXLz3bbl5w",
        "outputId": "492dc601-1e13-40e8-80ee-ca8588e9a3bd"
      },
      "execution_count": 7,
      "outputs": [
        {
          "output_type": "stream",
          "name": "stdout",
          "text": [
            "[1, 0, 1, 0, 1, 0, 1, 1, 0, 0]\n",
            "5\n"
          ]
        }
      ]
    },
    {
      "cell_type": "markdown",
      "source": [
        "simplifions :"
      ],
      "metadata": {
        "id": "AdnflQpRccRB"
      }
    },
    {
      "cell_type": "code",
      "source": [
        "def binomiale(n,p):\n",
        "    '''Cette fonction simule un tirage aléatoire selon la loi binomiale de paramètres n et p donnés en entrées'''\n",
        "    B = []\n",
        "    for k in range(n):\n",
        "        B.append(bernoulli(p))\n",
        "    return sum(B)\n"
      ],
      "metadata": {
        "id": "EhEs-B8pciAV"
      },
      "execution_count": 8,
      "outputs": []
    },
    {
      "cell_type": "code",
      "source": [
        "binomiale(10,0.4)"
      ],
      "metadata": {
        "colab": {
          "base_uri": "https://localhost:8080/"
        },
        "id": "zenx0wDD51Gx",
        "outputId": "4ceecb17-175e-4490-af0f-bb9009f100d5"
      },
      "execution_count": 9,
      "outputs": [
        {
          "output_type": "execute_result",
          "data": {
            "text/plain": [
              "4"
            ]
          },
          "metadata": {},
          "execution_count": 9
        }
      ]
    },
    {
      "cell_type": "markdown",
      "source": [
        "## **L'exercice : observer la propriété de somme des variances**\n",
        "\n",
        "Voici l'expérience :\n",
        "\n",
        "On dispose d'un dé cubique que l'on lance $n_1$ fois et d'un dé icosaédrique que l'on lance $n_2$ fois. On compte le nombre de \"1\" obtenus par chaque dé, $X_1$ et $X_2$ , et le nombre de \"1\" obtenus en tout.\n",
        "\n",
        "Simuler cette expérience à l'aide de la programmation en Python (décomposer la tâche en tâche moins complexes, en utilisant des fonctions !), illustrer graphiquement, et calculer les éléments caractéristiques (moyenne et variance) de chaque série statistique, et de la série somme."
      ],
      "metadata": {
        "id": "ihYssD0JdyLv"
      }
    },
    {
      "cell_type": "markdown",
      "source": [
        "**1<sup>er</sup> dé, cubique :**\n",
        "On lance n1 fois le dé cubique et on compte le nombre de \"1\"."
      ],
      "metadata": {
        "id": "UkdhdMBogOrM"
      }
    },
    {
      "cell_type": "code",
      "source": [
        "def tirage_de1(N):\n",
        "    '''On lance N fois le dé n°1, probabilité de succès 1/6, et on compte le nombre de succès'''\n",
        "    return binomiale(N,1/6)"
      ],
      "metadata": {
        "id": "R1jaWwowgWwt"
      },
      "execution_count": 10,
      "outputs": []
    },
    {
      "cell_type": "code",
      "source": [
        "X1 = tirage_de1(50)\n",
        "X1"
      ],
      "metadata": {
        "colab": {
          "base_uri": "https://localhost:8080/"
        },
        "id": "Ol5GMjU4dHDW",
        "outputId": "a7be58ee-609c-442e-873d-a12b14941379"
      },
      "execution_count": 11,
      "outputs": [
        {
          "output_type": "execute_result",
          "data": {
            "text/plain": [
              "6"
            ]
          },
          "metadata": {},
          "execution_count": 11
        }
      ]
    },
    {
      "cell_type": "markdown",
      "source": [
        "**2<sup>ème</sup> dé, icosaédrique :**"
      ],
      "metadata": {
        "id": "YD1QtIwHiGsw"
      }
    },
    {
      "cell_type": "markdown",
      "source": [
        "On lance n2 fois le dé icosaédrique et on compte le nombre de \"1\"."
      ],
      "metadata": {
        "id": "iIU9z8Gl6RFC"
      }
    },
    {
      "cell_type": "code",
      "source": [
        "def tirage_de2(N):\n",
        "    '''On lance N fois le dé n°2, probabilité de succès 1/20, et on compte le nombre de succès'''\n",
        "    return binomiale(N,1/20)"
      ],
      "metadata": {
        "id": "FGCi2q_biGsx"
      },
      "execution_count": 12,
      "outputs": []
    },
    {
      "cell_type": "code",
      "source": [
        "X2 = tirage_de2(50)\n",
        "X2"
      ],
      "metadata": {
        "colab": {
          "base_uri": "https://localhost:8080/"
        },
        "outputId": "3dd8303d-ff90-4087-a709-17bf3457a096",
        "id": "7fukYiaIiGsx"
      },
      "execution_count": 13,
      "outputs": [
        {
          "output_type": "execute_result",
          "data": {
            "text/plain": [
              "4"
            ]
          },
          "metadata": {},
          "execution_count": 13
        }
      ]
    },
    {
      "cell_type": "code",
      "source": [
        ""
      ],
      "metadata": {
        "id": "HG9WXfXy6aLJ"
      },
      "execution_count": 13,
      "outputs": []
    },
    {
      "cell_type": "markdown",
      "source": [
        "**Somme des deux variables**"
      ],
      "metadata": {
        "id": "1IxizcV1iroD"
      }
    },
    {
      "cell_type": "markdown",
      "source": [
        "Une simulation de somme :"
      ],
      "metadata": {
        "id": "_z8lV1EU5-lU"
      }
    },
    {
      "cell_type": "code",
      "source": [
        "n1 = 20     # on va tirer n1 fois le dé 1\n",
        "n2 = 100    # on va tirer n2 fois le dé 2\n",
        "X1 = tirage_de1(n1) # on compte le nombre de \"1\" dans n1 tirages du dé 1\n",
        "X2 = tirage_de2(n2) # on compte le nombre de \"1\" dans n2 tirages du dé 2\n",
        "\n",
        "S = X1+X2   # on totalise le nombre de \"1\" du dé 1 et le nombre de \"1\" du dé 2\n",
        "print(X1)\n",
        "print(X2)\n",
        "print(S)"
      ],
      "metadata": {
        "colab": {
          "base_uri": "https://localhost:8080/"
        },
        "id": "u-LjDdJ5xd3i",
        "outputId": "1adc35a0-39c6-4599-f21f-bbf4011bcec4"
      },
      "execution_count": 14,
      "outputs": [
        {
          "output_type": "stream",
          "name": "stdout",
          "text": [
            "3\n",
            "5\n",
            "8\n"
          ]
        }
      ]
    },
    {
      "cell_type": "markdown",
      "source": [
        "Échantillon de N sommes :"
      ],
      "metadata": {
        "id": "cYKj6f686Dwn"
      }
    },
    {
      "cell_type": "code",
      "source": [
        "def echantillon_somme(N):\n",
        "    '''Cette fonction simule N tirages aléatoires de la somme des deux variables'''\n",
        "    echt = []\n",
        "    for k in range(N):\n",
        "        X1 = tirage_de1(n1) # on compte le nombre de \"1\" dans n1 tirages du dé 1\n",
        "        X2 = tirage_de2(n2) # on compte le nombre de \"1\" dans n2 tirages du dé 2\n",
        "        S = X1+X2\n",
        "        echt = echt + [S]   #liste des résultats\n",
        "    return echt"
      ],
      "metadata": {
        "id": "yk98Kp-Bi_kX"
      },
      "execution_count": 15,
      "outputs": []
    },
    {
      "cell_type": "code",
      "source": [
        "N = 20\n",
        "echantillon_somme(N)"
      ],
      "metadata": {
        "colab": {
          "base_uri": "https://localhost:8080/"
        },
        "id": "W0_Hrd7rk_kI",
        "outputId": "aa0b16e8-a70b-447c-b219-210e188ea369"
      },
      "execution_count": 16,
      "outputs": [
        {
          "output_type": "execute_result",
          "data": {
            "text/plain": [
              "[6, 7, 4, 7, 5, 9, 8, 10, 6, 7, 10, 11, 5, 8, 10, 10, 10, 6, 2, 16]"
            ]
          },
          "metadata": {},
          "execution_count": 16
        }
      ]
    },
    {
      "cell_type": "markdown",
      "source": [
        "**Calcul des éléments statistiques et comparaison avec les valeurs théoriques**"
      ],
      "metadata": {
        "id": "M-QySnU9lztc"
      }
    },
    {
      "cell_type": "markdown",
      "source": [
        "* **échantillon de N expériences de sommes de X1 et X2**"
      ],
      "metadata": {
        "id": "aYpSvXgb1gmt"
      }
    },
    {
      "cell_type": "code",
      "source": [
        "N = 2000\n",
        "\n",
        "\n",
        "print('Échantillon de',N, 'tirages de la somme des deux variables :')\n",
        "\n",
        "echantillon = [0]*N\n",
        "\n",
        "\n",
        "echantillon[:] = echantillon_somme(N)\n",
        "\n",
        "\n",
        "print(echantillon)\n"
      ],
      "metadata": {
        "colab": {
          "base_uri": "https://localhost:8080/"
        },
        "id": "eHAP49bZlF44",
        "outputId": "72418422-b824-47ac-ed69-361b5a20451f"
      },
      "execution_count": 17,
      "outputs": [
        {
          "output_type": "stream",
          "name": "stdout",
          "text": [
            "Échantillon de 2000 tirages de la somme des deux variables :\n",
            "[8, 10, 8, 9, 5, 9, 7, 6, 9, 9, 9, 7, 15, 4, 6, 6, 7, 7, 14, 11, 9, 3, 9, 5, 12, 1, 8, 9, 9, 7, 17, 5, 10, 8, 7, 10, 10, 9, 9, 10, 6, 9, 6, 9, 10, 7, 9, 10, 11, 6, 12, 12, 5, 6, 9, 12, 5, 10, 9, 8, 11, 8, 6, 4, 7, 6, 8, 8, 12, 14, 10, 10, 6, 5, 9, 6, 12, 10, 10, 7, 9, 10, 9, 11, 12, 12, 8, 13, 10, 12, 7, 10, 10, 9, 6, 11, 7, 9, 13, 5, 6, 8, 14, 5, 9, 9, 6, 11, 12, 7, 4, 7, 5, 5, 7, 11, 8, 9, 12, 7, 6, 5, 3, 6, 6, 12, 4, 9, 5, 7, 6, 7, 11, 7, 8, 7, 6, 5, 8, 7, 8, 6, 9, 6, 6, 5, 10, 12, 6, 6, 8, 14, 5, 7, 12, 6, 8, 9, 8, 5, 16, 11, 5, 10, 10, 4, 9, 3, 6, 4, 7, 7, 3, 3, 5, 7, 12, 12, 8, 8, 5, 8, 6, 7, 11, 9, 9, 4, 10, 8, 13, 13, 4, 8, 7, 4, 3, 4, 5, 7, 6, 12, 10, 13, 8, 6, 11, 8, 9, 12, 5, 7, 3, 7, 7, 7, 6, 8, 7, 7, 12, 8, 10, 9, 6, 10, 4, 12, 10, 11, 2, 11, 6, 12, 5, 9, 14, 11, 6, 10, 15, 4, 5, 6, 5, 6, 7, 9, 10, 6, 6, 8, 10, 4, 9, 9, 6, 9, 4, 11, 9, 9, 6, 11, 4, 12, 6, 8, 8, 4, 11, 13, 7, 5, 11, 6, 11, 6, 8, 13, 4, 10, 9, 7, 8, 6, 12, 7, 8, 6, 9, 8, 10, 8, 12, 5, 12, 11, 8, 8, 9, 6, 5, 8, 8, 11, 15, 8, 7, 6, 7, 3, 13, 10, 11, 5, 7, 13, 6, 6, 7, 11, 7, 7, 8, 11, 12, 8, 3, 7, 11, 4, 7, 10, 7, 9, 11, 9, 10, 6, 6, 7, 8, 5, 6, 7, 8, 5, 6, 9, 11, 7, 8, 4, 3, 12, 10, 7, 4, 5, 8, 8, 4, 4, 7, 11, 9, 18, 9, 8, 9, 13, 14, 7, 13, 12, 8, 13, 9, 7, 9, 7, 10, 11, 7, 11, 9, 6, 7, 8, 8, 8, 6, 10, 8, 7, 5, 10, 13, 6, 9, 10, 8, 14, 9, 6, 7, 14, 8, 6, 8, 8, 8, 10, 6, 6, 9, 6, 13, 8, 9, 8, 12, 8, 5, 10, 10, 14, 11, 9, 7, 5, 7, 9, 12, 8, 11, 7, 10, 8, 7, 9, 8, 12, 14, 5, 10, 9, 11, 14, 7, 4, 9, 11, 6, 9, 11, 10, 8, 14, 10, 12, 12, 8, 14, 11, 6, 9, 8, 9, 12, 5, 17, 17, 13, 7, 9, 5, 8, 11, 5, 7, 9, 9, 7, 10, 5, 7, 9, 11, 7, 8, 13, 5, 11, 10, 6, 3, 12, 13, 10, 10, 13, 8, 4, 14, 6, 8, 3, 11, 9, 13, 5, 8, 7, 16, 11, 10, 13, 11, 12, 8, 8, 6, 11, 10, 10, 8, 12, 12, 8, 10, 8, 4, 5, 10, 7, 11, 8, 10, 9, 5, 9, 12, 15, 8, 11, 11, 7, 10, 11, 6, 11, 3, 10, 11, 10, 12, 3, 10, 6, 7, 8, 8, 5, 5, 10, 12, 9, 9, 9, 8, 8, 11, 9, 8, 12, 6, 13, 13, 8, 8, 5, 7, 8, 8, 6, 7, 11, 9, 7, 13, 10, 10, 8, 8, 10, 10, 6, 12, 7, 8, 10, 4, 9, 3, 7, 9, 9, 13, 6, 11, 5, 10, 9, 8, 11, 8, 14, 6, 5, 6, 11, 4, 10, 3, 11, 13, 8, 5, 9, 14, 7, 14, 7, 12, 7, 5, 6, 14, 4, 2, 9, 14, 6, 7, 9, 6, 11, 6, 6, 11, 5, 12, 6, 8, 8, 7, 12, 8, 6, 13, 5, 4, 9, 10, 7, 8, 5, 8, 10, 6, 15, 6, 11, 11, 11, 9, 10, 9, 12, 11, 7, 7, 6, 6, 5, 11, 11, 7, 5, 13, 8, 10, 12, 3, 9, 8, 7, 10, 11, 4, 13, 10, 7, 15, 11, 7, 7, 6, 9, 5, 7, 7, 7, 4, 5, 5, 9, 6, 7, 7, 10, 6, 10, 12, 8, 6, 4, 11, 7, 3, 7, 12, 11, 10, 9, 10, 6, 6, 9, 7, 12, 11, 8, 0, 10, 5, 8, 10, 6, 10, 7, 9, 12, 12, 8, 11, 8, 10, 10, 7, 5, 8, 13, 6, 10, 11, 7, 11, 3, 11, 8, 5, 8, 8, 8, 13, 8, 4, 13, 12, 8, 6, 8, 9, 10, 8, 3, 10, 10, 12, 5, 15, 9, 9, 9, 13, 8, 6, 9, 8, 7, 10, 7, 6, 3, 14, 8, 16, 8, 12, 9, 9, 10, 9, 11, 6, 11, 9, 7, 6, 10, 9, 9, 6, 7, 8, 11, 10, 5, 10, 5, 9, 11, 12, 10, 8, 13, 7, 8, 6, 8, 4, 9, 4, 9, 3, 7, 8, 7, 5, 12, 10, 11, 6, 10, 7, 9, 10, 10, 9, 7, 8, 11, 8, 5, 8, 10, 11, 11, 9, 8, 10, 8, 6, 8, 14, 5, 9, 9, 7, 4, 12, 6, 8, 14, 11, 4, 6, 17, 5, 10, 12, 8, 7, 8, 10, 9, 4, 8, 7, 6, 12, 12, 9, 17, 4, 10, 12, 8, 9, 11, 11, 5, 12, 5, 14, 6, 7, 11, 11, 9, 12, 8, 12, 6, 13, 9, 15, 5, 6, 12, 11, 4, 11, 8, 6, 11, 6, 14, 6, 9, 5, 6, 10, 9, 7, 11, 8, 13, 10, 9, 13, 5, 6, 8, 8, 7, 10, 10, 8, 9, 5, 10, 16, 4, 9, 6, 6, 5, 14, 9, 8, 3, 6, 9, 7, 6, 9, 6, 9, 16, 7, 10, 4, 15, 10, 12, 5, 7, 10, 10, 12, 7, 10, 9, 6, 9, 6, 6, 8, 3, 9, 5, 6, 6, 10, 12, 8, 10, 9, 11, 10, 9, 9, 8, 9, 11, 9, 9, 9, 8, 5, 7, 7, 9, 7, 12, 6, 5, 7, 8, 4, 5, 9, 7, 13, 14, 11, 11, 8, 9, 11, 9, 7, 8, 9, 10, 10, 9, 9, 12, 7, 11, 8, 6, 12, 13, 4, 8, 11, 7, 10, 9, 6, 8, 8, 8, 8, 10, 8, 11, 11, 8, 7, 6, 5, 7, 5, 10, 5, 5, 2, 7, 7, 8, 10, 2, 11, 8, 10, 11, 11, 8, 4, 7, 5, 7, 5, 11, 11, 5, 7, 8, 11, 6, 7, 16, 13, 5, 8, 3, 11, 7, 7, 10, 8, 6, 10, 10, 11, 7, 9, 6, 12, 9, 7, 16, 8, 3, 7, 12, 5, 10, 7, 10, 10, 9, 11, 12, 9, 11, 9, 10, 12, 8, 7, 6, 10, 10, 11, 5, 6, 9, 13, 8, 7, 13, 12, 7, 10, 12, 5, 8, 10, 8, 8, 8, 10, 11, 17, 12, 2, 10, 5, 14, 4, 10, 7, 6, 2, 10, 9, 6, 10, 10, 3, 8, 13, 6, 7, 8, 9, 8, 11, 4, 9, 8, 3, 9, 6, 6, 6, 6, 4, 6, 5, 8, 8, 9, 9, 9, 5, 3, 12, 10, 12, 8, 9, 7, 12, 6, 8, 9, 8, 9, 12, 10, 7, 6, 9, 5, 9, 8, 6, 10, 4, 10, 4, 9, 9, 11, 4, 8, 11, 11, 10, 7, 9, 7, 6, 10, 6, 10, 6, 11, 4, 10, 8, 9, 4, 16, 6, 11, 8, 6, 5, 14, 7, 7, 6, 16, 16, 8, 5, 6, 3, 6, 5, 9, 7, 9, 10, 11, 9, 7, 9, 11, 4, 3, 6, 7, 9, 5, 8, 9, 4, 8, 5, 9, 7, 8, 7, 8, 8, 10, 8, 12, 7, 8, 8, 8, 7, 7, 10, 6, 14, 6, 10, 7, 14, 7, 6, 7, 7, 5, 7, 4, 7, 6, 10, 6, 7, 7, 4, 8, 13, 5, 15, 12, 4, 8, 13, 7, 9, 8, 10, 9, 9, 10, 4, 6, 3, 7, 5, 10, 15, 8, 11, 12, 5, 12, 7, 7, 9, 10, 9, 4, 7, 8, 7, 9, 10, 12, 11, 10, 11, 8, 9, 7, 8, 11, 10, 11, 6, 6, 11, 14, 10, 9, 7, 4, 12, 7, 7, 12, 9, 8, 6, 10, 5, 11, 10, 7, 10, 8, 10, 9, 7, 11, 5, 7, 6, 9, 10, 13, 9, 14, 9, 8, 6, 7, 5, 9, 12, 7, 13, 8, 9, 7, 4, 7, 9, 5, 10, 8, 10, 8, 12, 5, 6, 7, 6, 11, 8, 12, 8, 13, 6, 10, 4, 8, 6, 10, 9, 7, 9, 8, 5, 6, 8, 4, 11, 6, 8, 7, 9, 6, 5, 7, 4, 7, 7, 10, 6, 6, 14, 8, 7, 9, 6, 9, 6, 10, 6, 9, 9, 15, 7, 9, 13, 13, 8, 6, 8, 9, 10, 7, 11, 9, 12, 8, 7, 8, 8, 4, 6, 10, 5, 9, 9, 9, 12, 10, 10, 10, 7, 7, 5, 6, 11, 5, 7, 6, 6, 12, 5, 7, 11, 9, 11, 11, 6, 6, 9, 10, 12, 6, 12, 7, 5, 11, 8, 9, 7, 6, 10, 8, 5, 8, 9, 10, 10, 5, 11, 5, 8, 5, 5, 11, 11, 7, 11, 10, 14, 10, 14, 5, 6, 9, 6, 10, 8, 7, 7, 14, 10, 10, 10, 10, 9, 8, 10, 8, 3, 11, 7, 10, 7, 11, 6, 4, 12, 12, 6, 7, 7, 10, 9, 8, 10, 9, 11, 10, 10, 2, 10, 6, 8, 6, 5, 4, 9, 6, 10, 9, 10, 7, 5, 4, 10, 8, 8, 8, 5, 3, 11, 7, 4, 11, 6, 10, 9, 13, 11, 12, 5, 8, 8, 7, 6, 7, 12, 6, 7, 10, 11, 8, 7, 6, 8, 10, 10, 7, 3, 4, 5, 7, 10, 11, 15, 6, 7, 10, 8, 7, 3, 8, 8, 9, 17, 5, 14, 9, 4, 7, 11, 8, 8, 9, 7, 11, 6, 8, 8, 12, 11, 3, 9, 4, 8, 16, 9, 11, 11, 7, 6, 3, 10, 5, 8, 7, 7, 5, 10, 10, 10, 10, 14, 7, 6, 7, 9, 9, 8, 8, 8, 8, 6, 8, 5, 5, 7, 10, 12, 10, 9, 4, 8, 16, 7, 6, 11, 6, 4, 6, 11, 7, 13, 13, 10, 6, 9, 9, 11, 10, 9, 5, 7, 8, 9, 8, 10, 5, 8, 12, 8, 9, 9, 11, 10, 6, 15, 7, 15, 7, 5, 9, 6, 8, 4, 9, 9, 5, 10, 6, 7, 6, 6, 5, 4, 15, 9, 8, 10, 9, 6, 7, 9, 9, 7, 7, 11, 14, 10, 9, 5, 9, 12, 7, 3, 7, 8, 14, 7, 9, 9, 10, 14, 9, 8, 8, 6, 12, 8, 7, 8, 8, 6, 11, 7, 10, 6, 6, 7, 7, 12, 11, 6, 9, 12, 12, 6, 4, 7, 13, 7, 7, 10, 6, 10, 12, 11, 10, 6, 13, 15, 9, 11, 12, 12, 3, 6, 5, 11, 11, 14, 15, 12, 8, 5, 9, 8, 8, 13, 8, 7, 11, 7, 6, 9, 9, 14, 6, 6, 12, 9, 10, 7, 6, 14, 10, 9, 7, 7, 6, 12, 6, 4, 9, 6, 4, 8, 9, 12, 13, 8, 8, 9, 8, 11, 7, 4, 7, 7, 9, 9, 8, 10, 5, 7, 7, 9, 7, 9, 7, 6, 8, 9, 4, 13, 10, 5, 12, 9, 8, 6, 4, 8, 10, 14, 7, 7, 12, 9, 6, 7, 8, 8, 12, 13, 15, 10, 8, 3, 9, 8, 9, 11, 10, 7, 10, 5, 6, 13, 11, 8, 11, 11, 6, 9, 10, 14, 12, 6, 9, 8, 6, 7, 7, 4, 8, 11, 8, 9, 10, 9, 9, 9, 7, 11, 8, 11, 10, 6, 10, 9, 10, 9, 7, 10, 7, 7, 6, 3, 7, 11, 4, 7]\n"
          ]
        }
      ]
    },
    {
      "cell_type": "markdown",
      "source": [
        "* **Moyenne**"
      ],
      "metadata": {
        "id": "C8bBnrqN07lM"
      }
    },
    {
      "cell_type": "code",
      "source": [
        "def moyenne(echantillon) :\n",
        "    N = len(echantillon)\n",
        "    S = sum(echantillon)\n",
        "    return(S/N)"
      ],
      "metadata": {
        "id": "HtzkVJ0vl4ZE"
      },
      "execution_count": 18,
      "outputs": []
    },
    {
      "cell_type": "code",
      "source": [
        "esp_X1 = n1*1/6\n",
        "esp_X2 = n2*1/20\n",
        "\n",
        "print('      espérance théorique de X1 : nombre de \"1\" sur ',n1,' tirages du dé cubique :',esp_X1)\n",
        "print('      espérance théorique de X2 : nombre de \"1\" sur ',n2,' tirages du dé icosaédrique :',esp_X2)\n",
        "\n",
        "S = sum(echantillon)\n",
        "S_bar = moyenne(echantillon)\n",
        "print(\"Moyenne de l'échantillon :\",S_bar)\n",
        "print('      somme des espérances théoriques :', esp_X1 + esp_X2)"
      ],
      "metadata": {
        "colab": {
          "base_uri": "https://localhost:8080/"
        },
        "id": "BNWkHMg9mF-5",
        "outputId": "e4f1370f-fbfa-41ae-b333-a325f03628ee"
      },
      "execution_count": 19,
      "outputs": [
        {
          "output_type": "stream",
          "name": "stdout",
          "text": [
            "      espérance théorique de X1 : nombre de \"1\" sur  20  tirages du dé cubique : 3.3333333333333335\n",
            "      espérance théorique de X2 : nombre de \"1\" sur  100  tirages du dé icosaédrique : 5.0\n",
            "Moyenne de l'échantillon : 8.4175\n",
            "      somme des espérances théoriques : 8.333333333333334\n"
          ]
        }
      ]
    },
    {
      "cell_type": "markdown",
      "source": [
        "* **Variance**"
      ],
      "metadata": {
        "id": "ekLnLvdW1pUB"
      }
    },
    {
      "cell_type": "code",
      "source": [
        "def var(X):\n",
        "    Xcarre = [valeur**2 for valeur in X] # calcul de la série X²\n",
        "    return moyenne(Xcarre) - (moyenne(X))**2 # formule de Koenig-Huygens\n"
      ],
      "metadata": {
        "id": "0wh5ujfZ1Vbj"
      },
      "execution_count": 20,
      "outputs": []
    },
    {
      "cell_type": "code",
      "source": [
        "var_X1 = n1 *1/6 * 5/6 # npq\n",
        "var_X2 = n2 *1/20 * 19/20\n",
        "\n",
        "print('      variance théorique de X1 (nombre de \"1\" sur ',n1,' tirages du dé cubique) :',var_X1)\n",
        "print('      variance théorique de X2 (nombre de \"1\" sur ',n2,' tirages du dé icosaédrique) :',var_X2)\n",
        "\n",
        "var_S = var(echantillon)\n",
        "\n",
        "print(\"Variance de l'échantillon :\",var_S)\n",
        "print('      somme des variances théoriques :', var_X1 + var_X2)"
      ],
      "metadata": {
        "colab": {
          "base_uri": "https://localhost:8080/"
        },
        "id": "0PHRV4j-2c5I",
        "outputId": "ea18f838-3705-4092-e64e-4939ae4b6c63"
      },
      "execution_count": 21,
      "outputs": [
        {
          "output_type": "stream",
          "name": "stdout",
          "text": [
            "      variance théorique de X1 (nombre de \"1\" sur  20  tirages du dé cubique) : 2.777777777777778\n",
            "      variance théorique de X2 (nombre de \"1\" sur  100  tirages du dé icosaédrique) : 4.75\n",
            "Variance de l'échantillon : 7.558193749999987\n",
            "      somme des variances théoriques : 7.527777777777779\n"
          ]
        }
      ]
    }
  ]
}