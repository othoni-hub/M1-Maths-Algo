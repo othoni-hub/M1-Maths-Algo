{
  "nbformat": 4,
  "nbformat_minor": 0,
  "metadata": {
    "colab": {
      "name": "M1-MEEF-Maths-Correction TP bases en probabilités.ipynb",
      "provenance": [],
      "collapsed_sections": [
        "yvpajGtN0APh",
        "8ei5VzEW0ARG",
        "tp6Uilna0ART",
        "5kPcjl4q0ARu",
        "LRpzmlmj0ASa",
        "KW4fldRi0ASt",
        "pdIEZJX70ATI"
      ],
      "authorship_tag": "ABX9TyPHyPqg5ydy5P6K9NiS3tJf",
      "include_colab_link": true
    },
    "kernelspec": {
      "name": "python3",
      "display_name": "Python 3"
    },
    "language_info": {
      "name": "python"
    }
  },
  "cells": [
    {
      "cell_type": "markdown",
      "metadata": {
        "id": "view-in-github",
        "colab_type": "text"
      },
      "source": [
        "<a href=\"https://colab.research.google.com/github/othoni-hub/M1-Maths-Algo/blob/main/M1_MEEF_Maths_Correction_TP_bases_en_probabilit%C3%A9s.ipynb\" target=\"_parent\"><img src=\"https://colab.research.google.com/assets/colab-badge.svg\" alt=\"Open In Colab\"/></a>"
      ]
    },
    {
      "cell_type": "markdown",
      "metadata": {
        "id": "KVYIpOb5JsUy"
      },
      "source": [
        "# **M1-MEEF Mathématiques** \n",
        "<img src=\"https://drive.google.com/uc?id=12Wo3LubGGT4qOvYFAuLP4CyCuwjKNVuk\" width=\"230\" height=\"150\" align = \"right\"/>\n",
        "\n",
        "## **Notebook : Correction TP : Les bases en Probabilités**\n",
        "\n",
        "\n",
        "\n",
        "\n",
        "**O.Thöni - UCO-IFUCOME, groupes \"Mathématiques\" et \"Numérique et Sciences Informatiques\"**"
      ]
    },
    {
      "cell_type": "markdown",
      "metadata": {
        "id": "9ScrN9uW0AOP"
      },
      "source": [
        "## **_Les bases en probabilités :_**\n",
        "\n",
        "**_Univers, événements, variable aléatoire, loi de probabilité, fonction de répartition, caractéristiques de position et de dispersion... sur un exemple_**\n",
        "\n"
      ]
    },
    {
      "cell_type": "markdown",
      "source": [
        "<img src=\"http://blog.legardemots.fr/public/icosaedre.jpg\" width=\"160\" height=\"150\" align = \"center\"/>\n",
        "\n",
        "\n"
      ],
      "metadata": {
        "id": "TNtKvgSMtYF2"
      }
    },
    {
      "cell_type": "markdown",
      "source": [
        "Considérons un dé à 20 faces (icosaèdre), que l'on lance, nous allons mettre en place tous les éléments permettant d'étudier la variable aléatoire égale au nombre de diviseurs de la face obtenue."
      ],
      "metadata": {
        "id": "8_kYFIX3uKpH"
      }
    },
    {
      "cell_type": "markdown",
      "metadata": {
        "id": "JvXs7p2N0AOe"
      },
      "source": [
        "## **Univers :**"
      ]
    },
    {
      "cell_type": "markdown",
      "source": [
        "    Quelles sont les issues possibles du tirage du dé ?\n",
        "    Quel est le type le plus approprié pour l'univers U ?\n",
        "    Fabriquer U."
      ],
      "metadata": {
        "id": "hPbUSschrC8-"
      }
    },
    {
      "cell_type": "markdown",
      "source": [
        "L'univers étant l'**ensemble des issues**, c'est le type natif Python ***set*** qui convient le mieux.\n",
        "\n",
        "On peut le définir en transtypant un *range* en *set*."
      ],
      "metadata": {
        "id": "VAhh-0M9rLDG"
      }
    },
    {
      "cell_type": "code",
      "metadata": {
        "id": "Ao-ue-Mb0AOh",
        "outputId": "5f85f8b2-6a0b-4dc1-9548-6196226d67fb",
        "colab": {
          "base_uri": "https://localhost:8080/",
          "height": 33
        }
      },
      "source": [
        "U = set(range(1,21)) # Omega : ensemble des faces de dé à 20 faces\n",
        "print(U)\n"
      ],
      "execution_count": null,
      "outputs": [
        {
          "output_type": "stream",
          "text": [
            "{1, 2, 3, 4, 5, 6, 7, 8, 9, 10, 11, 12, 13, 14, 15, 16, 17, 18, 19, 20}\n"
          ],
          "name": "stdout"
        }
      ]
    },
    {
      "cell_type": "markdown",
      "metadata": {
        "id": "Kyh-C00N0AOs"
      },
      "source": [
        "## **Événements :**\n",
        "\n",
        "* **préambule**"
      ]
    },
    {
      "cell_type": "markdown",
      "source": [
        "    Écrire une fonction \"def nombre_diviseurs(n):\" qui reçoit un nombre entier et retourne le nombre de ses diviseurs.\n",
        "    (on pourra utiliser la fonction % permettant de donner le reste de la division d'un entier par un autre.)"
      ],
      "metadata": {
        "id": "Qy0fiQRBs3Lt"
      }
    },
    {
      "cell_type": "code",
      "metadata": {
        "id": "_nUqnKv70AOS"
      },
      "source": [
        "def nombre_diviseurs(n):\n",
        "    return len([d for d in range(1,n+1) if n%d==0])"
      ],
      "execution_count": null,
      "outputs": []
    },
    {
      "cell_type": "markdown",
      "source": [
        "* **événements**"
      ],
      "metadata": {
        "id": "ZQ8sKztWwucz"
      }
    },
    {
      "cell_type": "markdown",
      "source": [
        "    En choissant le bon type de variables, \n",
        "    - fabriquer l'événement A : \"La face est paire\"\n",
        "    - fabriquer l'événement B : \"La face obtenue est un nombre premier\" \n",
        "    (rappel : un nombre entier est \"premier\" lorsqu'il a exactement deux diviseurs : 1 et lui-même. 1 n'est pas premier.)"
      ],
      "metadata": {
        "id": "JUjl2VKnrt_b"
      }
    },
    {
      "cell_type": "code",
      "metadata": {
        "id": "OzIarpH_0AOv",
        "outputId": "b6d685f1-7b24-4a6b-9f6c-2af2cd1849b3",
        "colab": {
          "base_uri": "https://localhost:8080/",
          "height": 50
        }
      },
      "source": [
        "A = set(range(2,21,2)) # événement 'la face est paire'\n",
        "print(A)\n",
        "\n",
        "B = set(k for k in U if nombre_diviseurs(k) == 2) # événement : 'la face est un nombre premier'\n",
        "print(B)"
      ],
      "execution_count": null,
      "outputs": [
        {
          "output_type": "stream",
          "text": [
            "{2, 4, 6, 8, 10, 12, 14, 16, 18, 20}\n",
            "{2, 3, 5, 7, 11, 13, 17, 19}\n"
          ],
          "name": "stdout"
        }
      ]
    },
    {
      "cell_type": "markdown",
      "metadata": {
        "id": "IZ82xVA40AO_"
      },
      "source": [
        "* **Intersection et Union, Complémentaire :**"
      ]
    },
    {
      "cell_type": "markdown",
      "source": [
        "    En utilisant les opérations sur les ensembles appropriées, fabriquer les événements \n",
        "    - \"La face est un nombre pair ou premier\"\n",
        "    - \"La face est un nombre pair et premier\"\n",
        "    - \"La face est un nombre impair\""
      ],
      "metadata": {
        "id": "T7nx9aqQu7pT"
      }
    },
    {
      "cell_type": "code",
      "metadata": {
        "id": "HLmRlsV30APG",
        "outputId": "65654908-31a0-431f-c8ea-6ac80f57b5c9",
        "colab": {
          "base_uri": "https://localhost:8080/",
          "height": 67
        }
      },
      "source": [
        "A_ou_B = A.union(B)\n",
        "print(\"Événement : 'La face est un nombre pair ou premier :'\", A_ou_B)\n",
        "\n",
        "A_inter_B = A.intersection(B)\n",
        "print(\"Événement : 'La face est un nombre pair et premier :'\", A_inter_B)\n",
        "\n",
        "A_barre = U.difference(A)\n",
        "print(\"Événement : 'La face est un nombre impair :'\",A_barre )"
      ],
      "execution_count": null,
      "outputs": [
        {
          "output_type": "stream",
          "text": [
            "Événement : 'La face est un nombre pair ou premier :' {2, 3, 4, 5, 6, 7, 8, 10, 11, 12, 13, 14, 16, 17, 18, 19, 20}\n",
            "Événement : 'La face est un nombre pair et premier :' {2}\n",
            "Événement : 'La face est un nombre impair :' {1, 3, 5, 7, 9, 11, 13, 15, 17, 19}\n"
          ],
          "name": "stdout"
        }
      ]
    },
    {
      "cell_type": "markdown",
      "source": [
        "**remarque** : événement impossible"
      ],
      "metadata": {
        "id": "5UDdzZNYzQrs"
      }
    },
    {
      "cell_type": "code",
      "metadata": {
        "id": "1nXgcfEPCegu",
        "outputId": "6b32b5d9-1675-4a67-af77-8969a9eae387",
        "colab": {
          "base_uri": "https://localhost:8080/",
          "height": 33
        }
      },
      "source": [
        "C = {1,2}\n",
        "D = {1,2}\n",
        "C.difference(D)"
      ],
      "execution_count": null,
      "outputs": [
        {
          "output_type": "execute_result",
          "data": {
            "text/plain": [
              "set()"
            ]
          },
          "metadata": {
            "tags": []
          },
          "execution_count": 35
        }
      ]
    },
    {
      "cell_type": "markdown",
      "metadata": {
        "id": "yvpajGtN0APh"
      },
      "source": [
        "## **Probabilité d'un événement :**"
      ]
    },
    {
      "cell_type": "markdown",
      "source": [
        "    Dans cette situation, comment se calcule la probabilité d'un événement ?\n",
        "    Pourquoi ?\n",
        "    "
      ],
      "metadata": {
        "id": "pkSueYzjvbMm"
      }
    },
    {
      "cell_type": "markdown",
      "source": [
        "Nous sommes dans une situation d'équiprobabilité (loi uniforme).\n",
        "La probabilité d'un événement E est donc le rapport entre le nombre de cas favorables (le cardinal de l'esemble E) et le nombre de cas possibles (cardinal de l'univers U)"
      ],
      "metadata": {
        "id": "ZFVW1VWfvmXw"
      }
    },
    {
      "cell_type": "markdown",
      "source": [
        "    Écrire la fonction \"def P(E):\" recevant un événement E et retournant sa probablité."
      ],
      "metadata": {
        "id": "AEyKqvwcv_WW"
      }
    },
    {
      "cell_type": "code",
      "metadata": {
        "id": "PbtBCVd80APm"
      },
      "source": [
        "def P(E):\n",
        "    return len(E)/len(U)"
      ],
      "execution_count": null,
      "outputs": []
    },
    {
      "cell_type": "markdown",
      "source": [
        "    Quelle est la probabilité d'obtenir un nombre premier ?"
      ],
      "metadata": {
        "id": "klG2u19XwkNt"
      }
    },
    {
      "cell_type": "code",
      "metadata": {
        "id": "Mmeu5tuo0AQL",
        "outputId": "c0ee33b2-01b8-4975-96f0-80d9d3328813",
        "colab": {
          "base_uri": "https://localhost:8080/",
          "height": 33
        }
      },
      "source": [
        "print(\"La probabilité d'obtenir un nombre premier est :\", P(B))"
      ],
      "execution_count": null,
      "outputs": [
        {
          "output_type": "stream",
          "text": [
            "La probabilité d'obtenir un nombre premier est : 0.4\n"
          ],
          "name": "stdout"
        }
      ]
    },
    {
      "cell_type": "markdown",
      "source": [
        "    Vérifier sur les événements A et B la propriété donnant la probabilité de la réunion de deux événements."
      ],
      "metadata": {
        "id": "mJYt9bL2wRl-"
      }
    },
    {
      "cell_type": "code",
      "metadata": {
        "id": "_d3uxtsQ0APS",
        "outputId": "89b36a91-2f99-4c87-d908-3fc6f37d6074",
        "colab": {
          "base_uri": "https://localhost:8080/",
          "height": 33
        }
      },
      "source": [
        "P(A.union(B)) == P(A)+P(B) - P(A.intersection(B)) # attention : comparaison risquée de flottants...\n"
      ],
      "execution_count": null,
      "outputs": [
        {
          "output_type": "execute_result",
          "data": {
            "text/plain": [
              "True"
            ]
          },
          "metadata": {
            "tags": []
          },
          "execution_count": 37
        }
      ]
    },
    {
      "cell_type": "code",
      "metadata": {
        "id": "TeyFNLkDFbbE",
        "outputId": "32e005ed-6290-4942-b995-17476628bc2f",
        "colab": {
          "base_uri": "https://localhost:8080/",
          "height": 50
        }
      },
      "source": [
        "print('P(A.union(B)) = ',P(A.union(B)))\n",
        "print('P(A)+P(B) - P(A.intersection(B)) = ',P(A)+P(B) - P(A.intersection(B)))"
      ],
      "execution_count": null,
      "outputs": [
        {
          "output_type": "stream",
          "text": [
            "P(A.union(B)) =  0.85\n",
            "P(A)+P(B) - P(A.intersection(B)) =  0.85\n"
          ],
          "name": "stdout"
        }
      ]
    },
    {
      "cell_type": "markdown",
      "metadata": {
        "id": "98d5OM0W0AQt"
      },
      "source": [
        "## **Probabilité conditionnelle :**"
      ]
    },
    {
      "cell_type": "markdown",
      "source": [
        "    Écrire une fonction \"def proba_sachant_que(B,A):\" qui reçoit deux événements A et B, s'assure que B n'est pas impossible, \n",
        "    et renvoie la probabilité de l'événement de A sachant B."
      ],
      "metadata": {
        "id": "HhKDa0NGzm0r"
      }
    },
    {
      "cell_type": "code",
      "metadata": {
        "id": "TewBNMzi0AQw"
      },
      "source": [
        "def proba_sachant_que(B,A):\n",
        "    assert len(B)>0\n",
        "    return P(A.intersection(B))/P(B)"
      ],
      "execution_count": null,
      "outputs": []
    },
    {
      "cell_type": "markdown",
      "source": [
        "    Calculer la probabilité que la face obtenue soit paire sachant que c'est un nombre premier."
      ],
      "metadata": {
        "id": "sDoz_mTM0B-P"
      }
    },
    {
      "cell_type": "code",
      "metadata": {
        "id": "O4iVOWkV0AQ6",
        "outputId": "d3999505-a65f-4212-ed58-79e51ae564ab",
        "colab": {
          "base_uri": "https://localhost:8080/",
          "height": 33
        }
      },
      "source": [
        "print(\"On obtient une face qui est un nombre premier, la probabilité qu'elle soit paire est :\", proba_sachant_que(B,A))"
      ],
      "execution_count": null,
      "outputs": [
        {
          "output_type": "stream",
          "text": [
            "On obtient une face qui est un nombre premier, la probabilité qu'elle soit paire est : 0.125\n"
          ],
          "name": "stdout"
        }
      ]
    },
    {
      "cell_type": "markdown",
      "metadata": {
        "id": "8ei5VzEW0ARG"
      },
      "source": [
        "## **Variable aléatoire :**\n",
        "\n",
        "On appelle X la variable aléatoire égale au nombre de diviseurs de la face obtenue."
      ]
    },
    {
      "cell_type": "markdown",
      "source": [
        "    On lance le dé.\n",
        "    À chaque issue de U, on associe le nombre de ses diviseurs, \n",
        "    et on constitue ainsi la variable aléatoire X (application de U dans |N)\n",
        "    Quel est le type de variable le plus approprié pour implémenter cette variable aléatoire ?"
      ],
      "metadata": {
        "id": "wkFtWmsG0QtO"
      }
    },
    {
      "cell_type": "markdown",
      "source": [
        "Comme il s'agit d'une association, le type le plus approprié pour implémenter une variable aléatoire est un **dictionnaire** (*dict*), les **clés** seront les issues, éléments de U, les **valeurs** étant le nombre de diviseurs associé à chaque issue."
      ],
      "metadata": {
        "id": "i5ArGO1D1YpH"
      }
    },
    {
      "cell_type": "markdown",
      "source": [
        "    Fabriquer la variable aléatoire X."
      ],
      "metadata": {
        "id": "afYiKkC014Ql"
      }
    },
    {
      "cell_type": "code",
      "metadata": {
        "id": "eUnDx0KK0ARI",
        "outputId": "a8368f22-8019-4f79-ff3e-7119c02fcfc5",
        "colab": {
          "base_uri": "https://localhost:8080/",
          "height": 33
        }
      },
      "source": [
        "X = { n : nombre_diviseurs(n) for n in U } \n",
        "# X(Oméga) : univers sous forme de dictionnaire : la clé est le numero de la face,  \n",
        "# la valeur, son nombre de diviseurs\n",
        "print(X)"
      ],
      "execution_count": null,
      "outputs": [
        {
          "output_type": "stream",
          "text": [
            "{1: 1, 2: 2, 3: 2, 4: 3, 5: 2, 6: 4, 7: 2, 8: 4, 9: 3, 10: 4, 11: 2, 12: 6, 13: 2, 14: 4, 15: 4, 16: 5, 17: 2, 18: 6, 19: 2, 20: 6}\n"
          ],
          "name": "stdout"
        }
      ]
    },
    {
      "cell_type": "code",
      "metadata": {
        "id": "13s4mqVYF5J7",
        "outputId": "29ced90c-af1e-41d2-e077-ee70c657abe5",
        "colab": {
          "base_uri": "https://localhost:8080/",
          "height": 33
        }
      },
      "source": [
        "X.keys()"
      ],
      "execution_count": null,
      "outputs": [
        {
          "output_type": "execute_result",
          "data": {
            "text/plain": [
              "dict_keys([1, 2, 3, 4, 5, 6, 7, 8, 9, 10, 11, 12, 13, 14, 15, 16, 17, 18, 19, 20])"
            ]
          },
          "metadata": {
            "tags": []
          },
          "execution_count": 15
        }
      ]
    },
    {
      "cell_type": "code",
      "metadata": {
        "id": "pqshagoMF-B_",
        "outputId": "66ee8b08-b602-41a1-fe83-7ece00a09f5e",
        "colab": {
          "base_uri": "https://localhost:8080/",
          "height": 33
        }
      },
      "source": [
        "X.values()"
      ],
      "execution_count": null,
      "outputs": [
        {
          "output_type": "execute_result",
          "data": {
            "text/plain": [
              "dict_values([1, 2, 2, 3, 2, 4, 2, 4, 3, 4, 2, 6, 2, 4, 4, 5, 2, 6, 2, 6])"
            ]
          },
          "metadata": {
            "tags": []
          },
          "execution_count": 16
        }
      ]
    },
    {
      "cell_type": "markdown",
      "metadata": {
        "id": "tp6Uilna0ART"
      },
      "source": [
        "## **Loi de la variable aléatoire X :**\n",
        "\n",
        "\n",
        "On définit d'abord les événements **[X=k]** : cette notation désigne l'événement qui regroupe toutes les issues prenant la valeur k par la valeur aléatoire"
      ]
    },
    {
      "cell_type": "markdown",
      "source": [
        "    Écrire la fonction \"def egal(X,k):\" permettant, pour chaque valeur entière k, de retourner l'événement [X=k]"
      ],
      "metadata": {
        "id": "_2O7BZBK8eAj"
      }
    },
    {
      "cell_type": "code",
      "metadata": {
        "id": "H-Ltryf90ARW"
      },
      "source": [
        "def egal(X,k):\n",
        "    return {x for x in X.keys() if X[x]==k}\n"
      ],
      "execution_count": null,
      "outputs": []
    },
    {
      "cell_type": "markdown",
      "source": [
        "On appelle **\"univers-image\"** l'ensemble X(U) des valeurs k prises par la variable aléatoire X sur l'univers U."
      ],
      "metadata": {
        "id": "zBVyJtqX9Yf5"
      }
    },
    {
      "cell_type": "markdown",
      "source": [
        "    Comment obtenir l'univers-image dans notre expérience ?"
      ],
      "metadata": {
        "id": "SukHzuUW-Q9R"
      }
    },
    {
      "cell_type": "code",
      "source": [
        "X.keys()"
      ],
      "metadata": {
        "id": "a12beEXb-eJ4"
      },
      "execution_count": null,
      "outputs": []
    },
    {
      "cell_type": "markdown",
      "source": [
        "On définit alors la loi de X comme l'application de X(U) dans [0 ; 1], qui, à tout k de X(U) associe la probabilité de l'événement [X=k]"
      ],
      "metadata": {
        "id": "VsKUgdCA86Ri"
      }
    },
    {
      "cell_type": "markdown",
      "source": [
        "    Quelle est le type de variable le plus adapté pour modéliser la loi de X ?"
      ],
      "metadata": {
        "id": "pzB9ouKG-1dd"
      }
    },
    {
      "cell_type": "markdown",
      "source": [
        "Là encore, puisqu'il s'agit d'une association, le dictionnaire est le type le plus approprié."
      ],
      "metadata": {
        "id": "Jvg-NGPc-8qq"
      }
    },
    {
      "cell_type": "markdown",
      "source": [
        "    Écrire la fonction \"def loi(X):\" qui, recevant la variable aléatoire X, retourne sa loi."
      ],
      "metadata": {
        "id": "CZye15ZV_CdC"
      }
    },
    {
      "cell_type": "code",
      "metadata": {
        "id": "9vMI2R6VJVOI"
      },
      "source": [
        "def loi(X):\n",
        "    return {k : P(egal(X,k)) for k in X.values()}"
      ],
      "execution_count": null,
      "outputs": []
    },
    {
      "cell_type": "code",
      "metadata": {
        "id": "XBLb0nxH0ARj",
        "outputId": "78801cb3-c27e-4bfc-8a3e-89c2eaef1000",
        "colab": {
          "base_uri": "https://localhost:8080/",
          "height": 67
        }
      },
      "source": [
        "loi_X = loi(X)\n",
        "print(loi_X)\n",
        "\n",
        "X_Omega = list(loi_X.keys())\n",
        "#X_Omega[:] = sorted(X_Omega)\n",
        "print('X(Omega) =', X_Omega)\n",
        "\n",
        "probabilites = list(loi_X.values())\n",
        "print('Probabilités respectives :',probabilites)"
      ],
      "execution_count": null,
      "outputs": [
        {
          "output_type": "stream",
          "text": [
            "{1: 0.05, 2: 0.4, 3: 0.1, 4: 0.25, 6: 0.15, 5: 0.05}\n",
            "X(Omega) = [1, 2, 3, 4, 6, 5]\n",
            "Probabilités respectives : [0.05, 0.4, 0.1, 0.25, 0.15, 0.05]\n"
          ],
          "name": "stdout"
        }
      ]
    },
    {
      "cell_type": "markdown",
      "metadata": {
        "id": "5kPcjl4q0ARu"
      },
      "source": [
        "## **Représentation graphique**"
      ]
    },
    {
      "cell_type": "code",
      "metadata": {
        "id": "FtMPby4w0ARx"
      },
      "source": [
        "import matplotlib.pyplot as plt"
      ],
      "execution_count": null,
      "outputs": []
    },
    {
      "cell_type": "code",
      "metadata": {
        "id": "Pj5jCuQ60ASB",
        "outputId": "cb604d5f-56ef-4f8e-fe54-7ee087cc354a",
        "colab": {
          "base_uri": "https://localhost:8080/",
          "height": 33
        }
      },
      "source": [
        "print(X.values())"
      ],
      "execution_count": null,
      "outputs": [
        {
          "output_type": "stream",
          "text": [
            "dict_values([1, 2, 2, 3, 2, 4, 2, 4, 3, 4, 2, 6, 2, 4, 4, 5, 2, 6, 2, 6])\n"
          ],
          "name": "stdout"
        }
      ]
    },
    {
      "cell_type": "markdown",
      "source": [
        "    Constituer un diagramme en barres de la loi de X.\n",
        "    syntaxe : plt.bar(liste des abscisses, liste des ordonnées)"
      ],
      "metadata": {
        "id": "dZK4dyoJ_m3Y"
      }
    },
    {
      "cell_type": "code",
      "metadata": {
        "id": "HQ-OTbJY0ASQ",
        "outputId": "3e903c54-6a01-47c1-c9fa-d21571a94a9b",
        "colab": {
          "base_uri": "https://localhost:8080/",
          "height": 315
        }
      },
      "source": [
        "\n",
        "plt.bar(X_Omega,probabilites, width = 0.2, color = 'red', alpha = 0.6)\n",
        "plt.title(\"Loi du nombre de diviseurs des faces d'un de icosaedrique\")\n",
        "plt.xlabel('X($\\Omega$)')\n",
        "plt.ylabel('probabilites')"
      ],
      "execution_count": null,
      "outputs": [
        {
          "output_type": "execute_result",
          "data": {
            "text/plain": [
              "Text(0, 0.5, 'probabilites')"
            ]
          },
          "metadata": {
            "tags": []
          },
          "execution_count": 21
        },
        {
          "output_type": "display_data",
          "data": {
            "image/png": "[encoded data removed]",
            "text/plain": [
              "<Figure size 432x288 with 1 Axes>"
            ]
          },
          "metadata": {
            "tags": [],
            "needs_background": "light"
          }
        }
      ]
    },
    {
      "cell_type": "markdown",
      "metadata": {
        "id": "LRpzmlmj0ASa"
      },
      "source": [
        "## **Fonction de répartition**"
      ]
    },
    {
      "cell_type": "markdown",
      "source": [
        "    Expliquer ce que font les deux fonctions suivantes :"
      ],
      "metadata": {
        "id": "pyxKQ-f4AAuK"
      }
    },
    {
      "cell_type": "code",
      "metadata": {
        "id": "RW5pGOAI0ASg",
        "outputId": "57db41c4-a347-47b8-e501-a97651e65a3d",
        "colab": {
          "base_uri": "https://localhost:8080/",
          "height": 33
        }
      },
      "source": [
        "def au_plus(X,k):\n",
        "    return {x for x in X.keys() if X[x]<=k}\n",
        "\n",
        "def fRep(X):\n",
        "    return {k:P(au_plus(X,k)) for k in X.values()}\n",
        "\n",
        "print(fRep(X))"
      ],
      "execution_count": null,
      "outputs": [
        {
          "output_type": "stream",
          "text": [
            "{1: 0.05, 2: 0.45, 3: 0.55, 4: 0.8, 6: 1.0, 5: 0.85}\n"
          ],
          "name": "stdout"
        }
      ]
    },
    {
      "cell_type": "markdown",
      "source": [
        "* La fonction \"au_plus(X,k):\" reçoit la variable aléatoire X, et un entier k, et retourne l'ensemble des clés de X (issues de U) pour lesquels X prend une valeur inférieure à k, c'est à dire l'événement [X<=k].\n",
        "* La fonction fRep(X) reçoit la variable aléatoire X et renvoie un dictionnaire dont les clés sont les entiers k de X(U) et les valeurs les probabilités des événements [X<=k]. Il s'agit donc d'une fonction de X(U) dans [0 ; 1] : la **fonction de répartition** de X."
      ],
      "metadata": {
        "id": "0hn1oH1TANC0"
      }
    },
    {
      "cell_type": "markdown",
      "metadata": {
        "id": "KW4fldRi0ASt"
      },
      "source": [
        "## **Éléments caractériques :**\n",
        "\n",
        "  * **Espérance :**\n",
        "  * **Variance :**\n",
        "  * **Écart-type :**"
      ]
    },
    {
      "cell_type": "markdown",
      "source": [
        "    Écrire les fonction \"def E(X):\", \"def V(X):\" et def \"sigma(X):\" recevant en entrée la variable aléatoire X \n",
        "    et renvoyant respectivement l'espérance, la variance et l'écart-type de X."
      ],
      "metadata": {
        "id": "CEdVGaR1B2VF"
      }
    },
    {
      "cell_type": "code",
      "metadata": {
        "id": "gXsz9-SO0ASx"
      },
      "source": [
        "def E(X):\n",
        "    return sum({k*P(egal(X,k)) for k in X.values()})\n",
        "\n",
        "def V(X):\n",
        "    X2 = { k:X[k]**2 for k in X.keys() }\n",
        "    return E(X2)-E(X)**2 # formule de Koenig-Huygens\n",
        "\n",
        "def sigma(X):\n",
        "    from math import sqrt\n",
        "    return sqrt(V(X))"
      ],
      "execution_count": null,
      "outputs": []
    },
    {
      "cell_type": "code",
      "metadata": {
        "id": "UtuKMBCl0AS8",
        "outputId": "7646a248-55e6-454b-a581-086ca1fdc452",
        "colab": {
          "base_uri": "https://localhost:8080/",
          "height": 67
        }
      },
      "source": [
        "print('Espérance de X :',E(X))\n",
        "print('Variance de X :', V(X))\n",
        "print('Écart-type de X :',sigma(X))"
      ],
      "execution_count": null,
      "outputs": [
        {
          "output_type": "stream",
          "text": [
            "Espérance de X : 3.3000000000000003\n",
            "Variance de X : 2.309999999999997\n",
            "Écart-type de X : 1.5198684153570654\n"
          ],
          "name": "stdout"
        }
      ]
    },
    {
      "cell_type": "markdown",
      "metadata": {
        "id": "pdIEZJX70ATI"
      },
      "source": [
        "## **Quantiles (facultatif)**\n",
        "\n",
        "  * **Quartiles**\n",
        "  \n",
        "  Note : On définira la médiane comme le 2<sup>ème</sup> quartile, valeur de la série à partir de laquelle l'effectif dépasse 50% de la population, ce qui n'est pas la définition enseignée en lycée en France\n",
        "  \n",
        "  * **Intervalle inter-quartiles**  \n",
        "  \n",
        "  * **Deciles**\n",
        "  \n",
        "  Reprenons la fonction de répartition obtenue ci-dessus et classons les valeurs.\n",
        "  Les calculs se font par interpolation linéaire entre les points charnières (Théorème de Thalès)"
      ]
    },
    {
      "cell_type": "code",
      "metadata": {
        "id": "mhyyXoWN0ATL",
        "outputId": "8f2dbe07-858b-44e6-9f27-6c65713fecc2",
        "colab": {
          "base_uri": "https://localhost:8080/",
          "height": 33
        }
      },
      "source": [
        "F = fRep(X)\n",
        "FF = sorted(F.items(), key=lambda t: t[0])\n",
        "print(FF)"
      ],
      "execution_count": null,
      "outputs": [
        {
          "output_type": "stream",
          "text": [
            "[(1, 0.05), (2, 0.45), (3, 0.55), (4, 0.8), (5, 0.85), (6, 1.0)]\n"
          ],
          "name": "stdout"
        }
      ]
    },
    {
      "cell_type": "code",
      "metadata": {
        "id": "tmfsgelK0ATf",
        "outputId": "95992019-18f1-42fc-81a6-bbc81c008efe",
        "colab": {
          "base_uri": "https://localhost:8080/",
          "height": 33
        }
      },
      "source": [
        "k = 0\n",
        "while FF[k][1] < 0.5 :\n",
        "    k = k+1\n",
        "\n",
        "mediane = FF[k-1][0]+(0.5 - FF[k-1][1])/(FF[k][1] - FF[k-1][1])*(FF[k][0]-FF[k-1][0])\n",
        "print('Médiane de la série :',mediane)"
      ],
      "execution_count": null,
      "outputs": [
        {
          "output_type": "stream",
          "text": [
            "Médiane de la série : 2.4999999999999996\n"
          ],
          "name": "stdout"
        }
      ]
    },
    {
      "cell_type": "code",
      "metadata": {
        "id": "WzQHkaf20AT0",
        "outputId": "905ac3ec-0c76-4f4b-e50b-76639d02610b",
        "colab": {
          "base_uri": "https://localhost:8080/",
          "height": 67
        }
      },
      "source": [
        "# Quartiles :\n",
        "quartiles = [0]*3\n",
        "for d in range(1,4):\n",
        "    k = 0\n",
        "    while FF[k][1] < d/4 :\n",
        "        k = k+1\n",
        "\n",
        "    quartiles[d-1] = FF[k-1][0]+(d/4 - FF[k-1][1])/(FF[k][1] - FF[k-1][1])*(FF[k][0]-FF[k-1][0])\n",
        "    print('Q',d,'=',quartiles[d-1])\n"
      ],
      "execution_count": null,
      "outputs": [
        {
          "output_type": "stream",
          "text": [
            "Q 1 = 1.5\n",
            "Q 2 = 2.4999999999999996\n",
            "Q 3 = 3.8\n"
          ],
          "name": "stdout"
        }
      ]
    },
    {
      "cell_type": "code",
      "metadata": {
        "id": "EaoPHyZI0AUL",
        "outputId": "861f4ab8-725e-4672-dde3-46100ba4cb2d",
        "colab": {
          "base_uri": "https://localhost:8080/",
          "height": 33
        }
      },
      "source": [
        "# Intervalle inter-quartiles\n",
        "print(\"50% de la série se situe dans l'intervalle [\", quartiles[0],';',quartiles[2],'].')"
      ],
      "execution_count": null,
      "outputs": [
        {
          "output_type": "stream",
          "text": [
            "50% de la série se situe dans l'intervalle [ 1.5 ; 3.8 ].\n"
          ],
          "name": "stdout"
        }
      ]
    },
    {
      "cell_type": "code",
      "metadata": {
        "id": "Oa7VZakB0AUb",
        "outputId": "b639649d-df58-4fae-82ac-5c6659126272",
        "colab": {
          "base_uri": "https://localhost:8080/",
          "height": 167
        }
      },
      "source": [
        "# Déciles :\n",
        "for d in range(1,10):\n",
        "    k = 0\n",
        "    while FF[k][1] < d/10 :\n",
        "        k = k+1\n",
        "\n",
        "    decile = FF[k-1][0]+(d/10 - FF[k-1][1])/(FF[k][1] - FF[k-1][1])*(FF[k][0]-FF[k-1][0])\n",
        "    print('D',d,'=',decile)\n"
      ],
      "execution_count": null,
      "outputs": [
        {
          "output_type": "stream",
          "text": [
            "D 1 = 1.125\n",
            "D 2 = 1.375\n",
            "D 3 = 1.625\n",
            "D 4 = 1.875\n",
            "D 5 = 2.4999999999999996\n",
            "D 6 = 3.1999999999999997\n",
            "D 7 = 3.5999999999999996\n",
            "D 8 = 4.0\n",
            "D 9 = 5.333333333333334\n"
          ],
          "name": "stdout"
        }
      ]
    }
  ]
}