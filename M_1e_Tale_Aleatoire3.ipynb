{
  "nbformat": 4,
  "nbformat_minor": 0,
  "metadata": {
    "kernelspec": {
      "display_name": "Python 3",
      "language": "python",
      "name": "python3"
    },
    "language_info": {
      "codemirror_mode": {
        "name": "ipython",
        "version": 3
      },
      "file_extension": ".py",
      "mimetype": "text/x-python",
      "name": "python",
      "nbconvert_exporter": "python",
      "pygments_lexer": "ipython3",
      "version": "3.7.1"
    },
    "colab": {
      "name": "M-1e-Tale_Aleatoire3.ipynb",
      "provenance": [],
      "include_colab_link": true
    }
  },
  "cells": [
    {
      "cell_type": "markdown",
      "metadata": {
        "id": "view-in-github",
        "colab_type": "text"
      },
      "source": [
        "<a href=\"https://colab.research.google.com/github/othoni-hub/M1-Maths-Algo/blob/main/M_1e_Tale_Aleatoire3.ipynb\" target=\"_parent\"><img src=\"https://colab.research.google.com/assets/colab-badge.svg\" alt=\"Open In Colab\"/></a>"
      ]
    },
    {
      "cell_type": "markdown",
      "metadata": {
        "id": "GMSNXgt40AK0"
      },
      "source": [
        "# Mathématiques \n",
        "# 1<sup>ère</sup> - Terminale (spécialité, options complémentaire et experte)\n",
        "\n",
        "\n",
        "## Chapitre 3 : PROBABILITÉS et STATISTIQUES\n",
        "## 3<sup>ème</sup> partie : - Statistiques -\n",
        "\n",
        "**O.THÖNI - IFUCOME -**\n",
        "*Document sous licence Creative Commons (CC) : By - NC - SA*\n"
      ]
    },
    {
      "cell_type": "markdown",
      "metadata": {
        "id": "0UvV3Ua70AK8"
      },
      "source": [
        "**_3.1. Fréquence d'apparition des lettres dans un texte (+ décodage d'un code César, pour rire...)_**\n",
        "\n",
        "**<span style=\"color: #D17460\">1Spé... et plus... </span>**\n",
        "\n",
        "**<span style=\"color: #26B260\">Python : chaînes de caractères</span>**"
      ]
    },
    {
      "cell_type": "code",
      "metadata": {
        "id": "QjeyRJlk0ALE"
      },
      "source": [
        "import matplotlib.pyplot as plt\n",
        "\n",
        "alphabet = [\"A\",\"B\",\"C\",\"D\",\"E\",\"F\",\"G\",\"H\",\"I\",\"J\",\"K\",\"L\",\"M\",\"N\",\"O\",\"P\",\"Q\",\"R\",\"S\",\"T\",\"U\",\"V\",\"W\",\"X\",\"Y\",\"Z\"]\n",
        "frequences_theoriques = [0.084, 0.0106, 0.0303, 0.0418, 0.1726, 0.0112, 0.0127, 0.0092, 0.0734, 0.0031, 0.0005, 0.0601, 0.0296, 0.0713, 0.0526, 0.0301, 0.0099, 0.0655, 0.0808, 0.0707, 0.0574, 0.0132, 0.0004, 0.0045, 0.003, 0.0012]\n",
        "\n",
        "def diagramme_barres(frequences_observees):\n",
        "    plt.bar(alphabet,frequences_observees,color = 'red', width = 0.2, alpha = 0.6, label = 'frequences observees')\n",
        "    plt.bar(alphabet,frequences_theoriques,color = 'blue', width = 0.5, alpha = 0.1, label = 'frequences francais')\n",
        "    plt.title(\"Fréquence d'apparition de chaque lettre dans le texte\")\n",
        "    plt.legend()\n",
        "    \n",
        "\n",
        "def calcule_frequences(texte) :    \n",
        "    nb_occurrences = [0]*26\n",
        "    N = len(texte)\n",
        "    for lettre in texte:\n",
        "        if lettre != ' ':\n",
        "            k = alphabet.index(lettre) # exemple : alphabet.index(\"D\") = 3 : numéro de l'occurrence dans la liste\n",
        "            nb_occurrences[k] = nb_occurrences[k] + 1\n",
        "    # print(nb_occurrences)\n",
        "    frequences_observees = [nb_occurrences[k] / N for k in range(26)]\n",
        "   \n",
        "    return frequences_observees\n",
        "\n",
        "    \n",
        "def analyse_frequences(texte):    \n",
        "    frequences_observees = calcule_frequences(texte)\n",
        "    cle_probable = frequences_observees.index(max(frequences_observees))\n",
        "    print('La clé de chiffrement la plus probable, au regard de la valeur modale correspondant au \"E\", est :',cle_probable - 4)\n",
        "    \n",
        "    return cle_probable - 4\n",
        "\n",
        "\n",
        "def cesar(sens, cle, message):\n",
        "\n",
        "    if sens == 'C' :\n",
        "        # permet de traiter a l'identique codage et decodage\n",
        "        # on effectue simplement le decalage dans un sens ou dans l'autre\n",
        "        codec=+1\n",
        "    else :\n",
        "        codec=-1\n",
        "\n",
        "    #decalage=int(input('Entrez la clé de codage : décalage (entre -25 et +25) : '))\n",
        "    # exemple : \"Avocat\" (A vaut K) corespond à un décalage de +10\n",
        "    \n",
        "    resultat =''\n",
        "\n",
        "\n",
        "    for k in range(len(message)) :\n",
        "        if message[k] == ' ' : # le caractere est une espace\n",
        "            resultat = resultat + ' '\n",
        "        else :\n",
        "            code_lettre=ord(message[k]) + codec*cle # ord renvoie le code ASCII du caractère\n",
        "            if code_lettre > 90 : # on a depasse vers la droite le code du Z\n",
        "                code_lettre=code_lettre-26 # on repart du A vers la droite\n",
        "\n",
        "            if code_lettre < 65 : # on a dépasse vers la gauche le code du A\n",
        "                code_lettre=code_lettre+26 # on repart du Z vers la gauche\n",
        "\n",
        "            resultat = resultat + chr(code_lettre) # on concatene la lettre obtenue\n",
        "            \n",
        "    return resultat\n"
      ],
      "execution_count": null,
      "outputs": []
    },
    {
      "cell_type": "code",
      "metadata": {
        "id": "e1YbnrkL0ALU",
        "colab": {
          "base_uri": "https://localhost:8080/",
          "height": 335
        },
        "outputId": "0537ef78-66c1-4674-f6d9-90c7a977dfdc"
      },
      "source": [
        "sens = 'D'\n",
        "message = \"RWBCADRC MN LNB NENWNVNWCB NC ANMXDCJWC UJ OJRKUNBBN MNB PJDUXRB ZD RU LXWWJRBBJRC BR VXKRUNB MJWB UNDAB ANBXUDCRXWB NC JERMNB MN WXDENJDCNB LNBJA WN LADC YJB MNEXRA BN ORNA J NDG\"\n",
        "frequences_observees = calcule_frequences(message)\n",
        "diagramme_barres(frequences_observees)\n",
        "cle = analyse_frequences(message)\n",
        "cesar(sens,cle,message)"
      ],
      "execution_count": null,
      "outputs": [
        {
          "output_type": "stream",
          "text": [
            "La clé de chiffrement la plus probable, au regard de la valeur modale correspondant au \"E\", est : 9\n"
          ],
          "name": "stdout"
        },
        {
          "output_type": "execute_result",
          "data": {
            "text/plain": [
              "'INSTRUIT DE CES EVENEMENTS ET REDOUTANT LA FAIBLESSE DES GAULOIS QU IL CONNAISSAIT SI MOBILES DANS LEURS RESOLUTIONS ET AVIDES DE NOUVEAUTES CESAR NE CRUT PAS DEVOIR SE FIER A EUX'"
            ]
          },
          "metadata": {
            "tags": []
          },
          "execution_count": 2
        },
        {
          "output_type": "display_data",
          "data": {
            "image/png": "[encoded data removed]",
            "text/plain": [
              "<Figure size 432x288 with 1 Axes>"
            ]
          },
          "metadata": {
            "tags": []
          }
        }
      ]
    },
    {
      "cell_type": "code",
      "metadata": {
        "id": "IXOpjX8k0ALq"
      },
      "source": [
        ""
      ],
      "execution_count": null,
      "outputs": []
    },
    {
      "cell_type": "markdown",
      "metadata": {
        "id": "kTawlSMf0AL6"
      },
      "source": [
        "**_Allons plus loin..._**\n",
        "\n",
        "Dans la recherche de la clé précédente, on a cherché la clé la plus probable au regard de la valeur modale (celle de plus haute fréquence) de la série des lettres codées, mise en coïncidence avec celle de la distribution globale des lettres dans la langue française.\n",
        "\n",
        "On aura une bien meilleure assurance si l'on étudie l'écart de la totalité de la distribution de l'alphabet observé par rapport à la répartition globale :\n",
        "\n",
        "pour une position de la clé donnée, on calcule la distance euclidienne : la racine de la somme des carrés des écarts relatifs entre la fréquence observée et la fréquence théorique (probabilité), la valeur de la clé donnant la plus plus petite distance sera la clé la plus probable."
      ]
    },
    {
      "cell_type": "code",
      "metadata": {
        "id": "MK0GdY020AL_"
      },
      "source": [
        "from math import sqrt\n",
        "\n",
        "def calcule_distance(frequences_observees):\n",
        "    distance = sqrt(sum((frequences_observees[k] - frequences_theoriques[k] )**2/ frequences_theoriques[k] for k in range(26)))\n",
        "    \n",
        "    return(distance)\n",
        "    "
      ],
      "execution_count": null,
      "outputs": []
    },
    {
      "cell_type": "code",
      "metadata": {
        "id": "1V9-F-RA0AMT",
        "colab": {
          "base_uri": "https://localhost:8080/",
          "height": 34
        },
        "outputId": "6a2f0c7a-0a5b-457b-ee3c-6e3be319daab"
      },
      "source": [
        "calcule_distance(frequences_observees)"
      ],
      "execution_count": null,
      "outputs": [
        {
          "output_type": "execute_result",
          "data": {
            "text/plain": [
              "3.3431837917603575"
            ]
          },
          "metadata": {
            "tags": []
          },
          "execution_count": 4
        }
      ]
    },
    {
      "cell_type": "code",
      "metadata": {
        "id": "0w2KNORC0AMo"
      },
      "source": [
        "def distance_min(frequences_observees):\n",
        "    dist_min = 1000\n",
        "    frequences_alphabet_teste = [0] *26\n",
        "    \n",
        "    for cle_testee in range(26) :\n",
        "        for k in range(26) :\n",
        "            frequences_alphabet_teste[k] = frequences_observees[(k + cle_testee)%26]\n",
        "    \n",
        "        distance = calcule_distance(frequences_alphabet_teste)\n",
        "        print('Clé :',cle_testee, ', distance : ',distance)\n",
        "    \n",
        "        if distance < dist_min :\n",
        "            dist_min = distance\n",
        "            cle_plus_probable = cle_testee\n",
        "    return(dist_min, cle_plus_probable)"
      ],
      "execution_count": null,
      "outputs": []
    },
    {
      "cell_type": "code",
      "metadata": {
        "id": "XzfAiTO70AM2",
        "colab": {
          "base_uri": "https://localhost:8080/",
          "height": 484
        },
        "outputId": "a8e5e56b-1ffa-475a-c9b3-14f9f9ff7f05"
      },
      "source": [
        "clef = distance_min(frequences_observees)\n",
        "print('La distance minimale par rapport à la distribution globale des lettres dans la langue française est réalisée pour la clé :',clef[1])"
      ],
      "execution_count": null,
      "outputs": [
        {
          "output_type": "stream",
          "text": [
            "Clé : 0 , distance :  3.3431837917603575\n",
            "Clé : 1 , distance :  3.0352955665958397\n",
            "Clé : 2 , distance :  3.909701778399293\n",
            "Clé : 3 , distance :  6.880395628790666\n",
            "Clé : 4 , distance :  4.277643235168721\n",
            "Clé : 5 , distance :  5.824172304792348\n",
            "Clé : 6 , distance :  3.6728296850209508\n",
            "Clé : 7 , distance :  4.530562732008754\n",
            "Clé : 8 , distance :  2.2770993216622166\n",
            "Clé : 9 , distance :  0.3238413652493697\n",
            "Clé : 10 , distance :  2.8263672415348835\n",
            "Clé : 11 , distance :  2.10855428585729\n",
            "Clé : 12 , distance :  3.2174484718381993\n",
            "Clé : 13 , distance :  4.266143369238417\n",
            "Clé : 14 , distance :  4.283304044467817\n",
            "Clé : 15 , distance :  2.9935149227142617\n",
            "Clé : 16 , distance :  3.611315221404613\n",
            "Clé : 17 , distance :  8.63997374867833\n",
            "Clé : 18 , distance :  4.1908489251837455\n",
            "Clé : 19 , distance :  3.1780605648147544\n",
            "Clé : 20 , distance :  2.175291186170072\n",
            "Clé : 21 , distance :  4.0424428672048105\n",
            "Clé : 22 , distance :  1.7157914210540723\n",
            "Clé : 23 , distance :  2.32179302625577\n",
            "Clé : 24 , distance :  2.7294191946643735\n",
            "Clé : 25 , distance :  3.3730929609911455\n",
            "La distance minimale par rapport à la distribution globale des lettres dans la langue française est réalisée pour la clé : 9\n"
          ],
          "name": "stdout"
        }
      ]
    },
    {
      "cell_type": "markdown",
      "metadata": {
        "id": "ADG15DHn0ANA"
      },
      "source": [
        "Nous venons de faire un test d'adéquation en utilisant le **maximum de vraisemblance**, obtenu par la mesure de la distance minimale entre la distribution observée et la distribution théorique.\n",
        "\n",
        "Nous sommes très proches des tests d'adéquation savants : en travaillant avec les effectifs au lieu des fréquences, on obtient une variable aléatoire D² = n.d² dont la loi est appelée loi du $\\chi ^2$, dont le \"degré de liberté est ici 25 (comme on a 26 lettres dans l'alphabet, une fois que les 25 premières valeurs de la distribution sont données, la dernière est fixée).\n",
        "\n",
        "On trouvera des explications plutôt accessibles ici : http://vivienfrederic.free.fr/terminaleS/detecter_piece_truquee.pdf (qui donne d'ailleurs le TP de **<span style=\"color: #D17460\">TCompl </span>** sur le test de conformité d'une pièce (son exercice est très intelligent : la probabilité que la pièce donne \"pile\" est de 0.44 une fois sur 4, 0.56 une fois sur 4, 0.5 le reste du temps ! Un test local ne permet pas de détecter la pièce truquée (l'espérance est la même qu'une pièce normale, l'écart-type très proche, il faut tester tout l'échantillonnage...)\n",
        "\n",
        "Calculons le $\\chi ^2$ de la distribution de notre alphabet le plus probable.\n",
        "\n",
        "\n"
      ]
    },
    {
      "cell_type": "code",
      "metadata": {
        "id": "PK3ugwau0ANE",
        "colab": {
          "base_uri": "https://localhost:8080/",
          "height": 34
        },
        "outputId": "1a1bbf4d-d6a0-4772-c2c8-727e03c10a1c"
      },
      "source": [
        "\n",
        "len(message)*clef[0]"
      ],
      "execution_count": null,
      "outputs": [
        {
          "output_type": "execute_result",
          "data": {
            "text/plain": [
              "57.96760437963717"
            ]
          },
          "metadata": {
            "tags": []
          },
          "execution_count": 7
        }
      ]
    },
    {
      "cell_type": "markdown",
      "metadata": {
        "id": "90bO8_K80ANU"
      },
      "source": [
        "En lisant dans une table de $\\chi ^2$, à la ligne 180 (longueur de notre message), comme ici : http://www.math.univ-metz.fr/~bonneau/STAT0607/table_khi2_complete.pdf , on constate que le niveau de confiance de notre clé est supérieur à 99,9%\n",
        "\n",
        "Le statisticien n'affirme jamais qu'il accepte l'hypothèse que le décalage de décodage soit bien celui que l'on a trouvé.\n",
        "Il dira qu' \"au risque de 0,1% , il ne peut rejeter l'hypothèse que ce décalage soit le bon !\" (c'est-à-dire que, en acceptant de se tromper seulement à 0,1%, il ne peut rejeter l'hypothèse que les écarts entre la distribution de notre alphabet recalé et la distribution des lettres de la langue française n'a pas d'autre explication que les fluctuations d'échantillonnage...\n",
        "\n",
        "L'homme normal conclura que c'est bon..."
      ]
    },
    {
      "cell_type": "markdown",
      "metadata": {
        "id": "XNc1q7RD0ANc"
      },
      "source": [
        "_**remarque :** le test binaire pour le diagnostic médical proposé en **<span style=\"color: #D17460\">TCompl </span>** procède de la même méthode, avec un degré de liberté de 1._\n",
        "\n",
        "On trouvera un bon résumé sur les tests ici : https://www.math.univ-toulouse.fr/~besse/Wikistat/pdf/st-l-inf-tests.pdf, et pour approfondir la question, on pourra aller voir par là : https://www.math.u-bordeaux.fr/~mchabano/Agreg/ProbaAgreg1213-COURS3-Stat2.pdf ..."
      ]
    },
    {
      "cell_type": "markdown",
      "metadata": {
        "id": "wgjGWrfR0ANf"
      },
      "source": [
        "**_3.2 sur-réservation_**\n",
        "\n",
        "**<span style=\"color: #D17460\">TSpé - TCompl </span>**"
      ]
    },
    {
      "cell_type": "code",
      "metadata": {
        "id": "XF6rtzCe0ANl",
        "colab": {
          "base_uri": "https://localhost:8080/",
          "height": 317
        },
        "outputId": "086c9f28-5287-4c98-e4a7-0ab7f08a00ac"
      },
      "source": [
        "from random import random\n",
        "import matplotlib.pyplot as plt\n",
        "\n",
        "nb_places_appareil = 100\n",
        "print(\"L'avion contient\",nb_places_appareil,'places.')\n",
        "N = 1000 # nombre de simulations\n",
        "p = 0.1 # probabilité qu'un client ayant acheté son billet ne se présente pas à l'embarquement\n",
        "\n",
        "nb_places_achetees = 107\n",
        "\n",
        "print('Nombre de places achetées :', nb_places_achetees)\n",
        "\n",
        "surbook=0\n",
        "\n",
        "for simul in range(N):\n",
        "    P = [] # liste des présents : 1 présent, 0 : absent\n",
        "    for k in range(nb_places_achetees):\n",
        "        if random() > p :\n",
        "            P.append(1)\n",
        "        else :\n",
        "            P.append(0)\n",
        "            \n",
        "    venus = nb_places_achetees - P.count(0)\n",
        "        \n",
        "    if venus > nb_places_appareil :\n",
        "        surbook = surbook+1\n",
        "        plt.plot(simul, venus, color = 'red', marker = '+')\n",
        "    else :\n",
        "        plt.plot(simul, venus, color = 'green', marker = '+')\n",
        "        \n",
        "plt.plot([0,N],[nb_places_appareil,nb_places_appareil], color = 'blue', linewidth = 1, linestyle = ':')\n",
        "       \n",
        "print('Sur',N,'simulations, dans',surbook/N*100,\"% des vols,certaines personnes n’ont pu embarquer\")\n",
        "plt.show() "
      ],
      "execution_count": null,
      "outputs": [
        {
          "output_type": "stream",
          "text": [
            "L'avion contient 100 places.\n",
            "Nombre de places achetées : 107\n",
            "Sur 1000 simulations, dans 9.0 % des vols,certaines personnes n’ont pu embarquer\n"
          ],
          "name": "stdout"
        },
        {
          "output_type": "display_data",
          "data": {
            "image/png": "[encoded data removed]",
            "text/plain": [
              "<Figure size 432x288 with 1 Axes>"
            ]
          },
          "metadata": {
            "tags": []
          }
        }
      ]
    },
    {
      "cell_type": "markdown",
      "metadata": {
        "id": "dKx16lmO0AN0"
      },
      "source": [
        "Maintenant, on cherche k tel que P(X>k) < $\\alpha$ où X suit une loi binomiale..."
      ]
    },
    {
      "cell_type": "code",
      "metadata": {
        "id": "GMPZSsvl0AN3"
      },
      "source": [
        "def factorielle(n):\n",
        "    f = 1\n",
        "    for k in range(1,n+1):\n",
        "        f = f * k\n",
        "    return f\n",
        "\n",
        "def combinaison(k,n):\n",
        "    c = 1\n",
        "    for m in range(n,n-k,-1):\n",
        "        c = c * m\n",
        "    c = int(c / factorielle(k))\n",
        "    return c\n",
        "\n",
        "def loi_binomiale(k,n,p): #P([X = k]) où X suit B(n,p)\n",
        "    return combinaison(k,n)*p**k*(1-p)**(n-k)\n"
      ],
      "execution_count": null,
      "outputs": []
    },
    {
      "cell_type": "code",
      "metadata": {
        "id": "_ZPiV9x70AOA",
        "colab": {
          "base_uri": "https://localhost:8080/",
          "height": 86
        },
        "outputId": "da9591cb-b40c-4687-a7de-81ae7bd2e04d"
      },
      "source": [
        "alpha = 0.05 # niveau de risque\n",
        "\n",
        "nb_places_appareil = 100\n",
        "p = 0.15 # probabilité qu'un client ayant acheté son billet ne se présente pas à l'embarquement\n",
        "\n",
        "nb_places_achetees = nb_places_appareil\n",
        "\n",
        "surbook_plus = True\n",
        "# X : nombre de personnes présentes à l'embarquement, X suit B(nb_place_achetees, 1-p)\n",
        "while  surbook_plus : \n",
        "    # tant que la probabilité de sur-réservation est inférieure au risque accepté, on augmente le nombre de places mises en vente\n",
        "    nb_places_achetees = nb_places_achetees + 1\n",
        "    P = 0\n",
        "    for X in range(nb_places_appareil + 1 ,nb_places_achetees + 1):\n",
        "        P = P + loi_binomiale(X,nb_places_achetees,1-p)\n",
        "    # P est alors la probabilité totale que le nombre de présents dépasse le nombre de place de l'appareil\n",
        "    if P > alpha:\n",
        "        surbook_plus = False\n",
        "        \n",
        "print('Dans notre appareil de',nb_places_appareil,'places,')\n",
        "print('avec',p*100,\"% de clients non présents à l'embarquement,\")\n",
        "print(\"nous risquons de ne pouvoir honorer l'ensemble des réservations dans plus de\",alpha*100,'% des cas')\n",
        "print('si nous mettons en vente',nb_places_achetees,'billets ou plus.')\n",
        "        \n",
        "    "
      ],
      "execution_count": null,
      "outputs": [
        {
          "output_type": "stream",
          "text": [
            "Dans notre appareil de 100 places,\n",
            "avec 15.0 % de clients non présents à l'embarquement,\n",
            "nous risquons de ne pouvoir honorer l'ensemble des réservations dans plus de 5.0 % des cas\n",
            "si nous mettons en vente 112 billets ou plus.\n"
          ],
          "name": "stdout"
        }
      ]
    },
    {
      "cell_type": "markdown",
      "metadata": {
        "id": "9ScrN9uW0AOP"
      },
      "source": [
        "**_3.3. Les bases en probabilités :_**\n",
        "\n",
        "**_Univers, événements, variable aléatoire, loi de probabilité, fonction de répartition, caractéristiques de position et de dispersion... sur un exemple_**\n",
        "\n",
        "**<span style=\"color: #D17460\"> (2nde) - 1Spé - TSpé - TCompl </span>**\n",
        "\n",
        "**<span style=\"color: #26B260\">Python : ensembles ('_set_'), dictionnaires (ensemble d'objets de forme clé:valeur)</span>**\n",
        "\n",
        "source : http://revue.sesamath.net/spip.php?article1226 , travail remarquable d'Alain BUSSER\n",
        "\n",
        "Considérons un dé à 20 faces (icosaèdre), que l'on lance, nous allons mettre en place tous les éléments permettant d'étudier la variable aléatoire égale au nombre de diviseurs de la face obtenue.. \n"
      ]
    },
    {
      "cell_type": "code",
      "metadata": {
        "id": "_nUqnKv70AOS"
      },
      "source": [
        "def nombre_diviseurs(n):\n",
        "    return len([d for d in range(1,n+1) if n%d==0])"
      ],
      "execution_count": null,
      "outputs": []
    },
    {
      "cell_type": "markdown",
      "metadata": {
        "id": "JvXs7p2N0AOe"
      },
      "source": [
        "* **Univers :**"
      ]
    },
    {
      "cell_type": "code",
      "metadata": {
        "id": "Ao-ue-Mb0AOh",
        "colab": {
          "base_uri": "https://localhost:8080/",
          "height": 33
        },
        "outputId": "5f85f8b2-6a0b-4dc1-9548-6196226d67fb"
      },
      "source": [
        "U = set(range(1,21)) # Omega : ensemble des faces de dé à  20 faces\n",
        "print(U)\n"
      ],
      "execution_count": null,
      "outputs": [
        {
          "output_type": "stream",
          "text": [
            "{1, 2, 3, 4, 5, 6, 7, 8, 9, 10, 11, 12, 13, 14, 15, 16, 17, 18, 19, 20}\n"
          ],
          "name": "stdout"
        }
      ]
    },
    {
      "cell_type": "code",
      "metadata": {
        "id": "Rsw67FXE_ouZ",
        "colab": {
          "base_uri": "https://localhost:8080/",
          "height": 33
        },
        "outputId": "4bd0af12-30ee-4eee-d3b7-c8212c9acc1b"
      },
      "source": [
        "{1,2,3}=={2,3,1}"
      ],
      "execution_count": null,
      "outputs": [
        {
          "output_type": "execute_result",
          "data": {
            "text/plain": [
              "True"
            ]
          },
          "metadata": {
            "tags": []
          },
          "execution_count": 3
        }
      ]
    },
    {
      "cell_type": "code",
      "metadata": {
        "id": "_PpNGdxrATfu",
        "colab": {
          "base_uri": "https://localhost:8080/",
          "height": 33
        },
        "outputId": "1daa657c-4f66-4772-ece9-b87589ca232b"
      },
      "source": [
        "1*3 in {1,2,3}"
      ],
      "execution_count": null,
      "outputs": [
        {
          "output_type": "execute_result",
          "data": {
            "text/plain": [
              "True"
            ]
          },
          "metadata": {
            "tags": []
          },
          "execution_count": 4
        }
      ]
    },
    {
      "cell_type": "markdown",
      "metadata": {
        "id": "Kyh-C00N0AOs"
      },
      "source": [
        "* **Événements :**"
      ]
    },
    {
      "cell_type": "code",
      "metadata": {
        "id": "OzIarpH_0AOv",
        "colab": {
          "base_uri": "https://localhost:8080/",
          "height": 50
        },
        "outputId": "b6d685f1-7b24-4a6b-9f6c-2af2cd1849b3"
      },
      "source": [
        "A = set(range(2,21,2)) # événement 'la face est paire'\n",
        "print(A)\n",
        "\n",
        "B = set(k for k in U if nombre_diviseurs(k) == 2) # événement : 'la face est un nombre premier'\n",
        "print(B)"
      ],
      "execution_count": null,
      "outputs": [
        {
          "output_type": "stream",
          "text": [
            "{2, 4, 6, 8, 10, 12, 14, 16, 18, 20}\n",
            "{2, 3, 5, 7, 11, 13, 17, 19}\n"
          ],
          "name": "stdout"
        }
      ]
    },
    {
      "cell_type": "markdown",
      "metadata": {
        "id": "IZ82xVA40AO_"
      },
      "source": [
        "* **Intersection et Union, Complémentaire :**"
      ]
    },
    {
      "cell_type": "code",
      "metadata": {
        "id": "HLmRlsV30APG",
        "colab": {
          "base_uri": "https://localhost:8080/",
          "height": 67
        },
        "outputId": "65654908-31a0-431f-c8ea-6ac80f57b5c9"
      },
      "source": [
        "A_ou_B = A.union(B)\n",
        "print(\"Événement : 'La face est un nombre pair ou premier :'\", A_ou_B)\n",
        "\n",
        "A_inter_B = A.intersection(B)\n",
        "print(\"Événement : 'La face est un nombre pair et premier :'\", A_inter_B)\n",
        "\n",
        "A_barre = U.difference(A)\n",
        "print(\"Événement : 'La face est un nombre impair :'\",A_barre )"
      ],
      "execution_count": null,
      "outputs": [
        {
          "output_type": "stream",
          "text": [
            "Événement : 'La face est un nombre pair ou premier :' {2, 3, 4, 5, 6, 7, 8, 10, 11, 12, 13, 14, 16, 17, 18, 19, 20}\n",
            "Événement : 'La face est un nombre pair et premier :' {2}\n",
            "Événement : 'La face est un nombre impair :' {1, 3, 5, 7, 9, 11, 13, 15, 17, 19}\n"
          ],
          "name": "stdout"
        }
      ]
    },
    {
      "cell_type": "code",
      "metadata": {
        "id": "1nXgcfEPCegu",
        "colab": {
          "base_uri": "https://localhost:8080/",
          "height": 33
        },
        "outputId": "6b32b5d9-1675-4a67-af77-8969a9eae387"
      },
      "source": [
        "C = {1,2}\n",
        "D = {1,2}\n",
        "C.difference(D)"
      ],
      "execution_count": null,
      "outputs": [
        {
          "output_type": "execute_result",
          "data": {
            "text/plain": [
              "set()"
            ]
          },
          "metadata": {
            "tags": []
          },
          "execution_count": 35
        }
      ]
    },
    {
      "cell_type": "markdown",
      "metadata": {
        "id": "yvpajGtN0APh"
      },
      "source": [
        "* **Probabilité d'un événement :**"
      ]
    },
    {
      "cell_type": "code",
      "metadata": {
        "id": "PbtBCVd80APm"
      },
      "source": [
        "def P(E):\n",
        "    return len(E)/len(U)"
      ],
      "execution_count": null,
      "outputs": []
    },
    {
      "cell_type": "code",
      "metadata": {
        "id": "_d3uxtsQ0APS",
        "colab": {
          "base_uri": "https://localhost:8080/",
          "height": 33
        },
        "outputId": "89b36a91-2f99-4c87-d908-3fc6f37d6074"
      },
      "source": [
        "P(A.union(B)) == P(A)+P(B) - P(A.intersection(B)) # attention : comparaison risquée de flottants...\n"
      ],
      "execution_count": null,
      "outputs": [
        {
          "output_type": "execute_result",
          "data": {
            "text/plain": [
              "True"
            ]
          },
          "metadata": {
            "tags": []
          },
          "execution_count": 37
        }
      ]
    },
    {
      "cell_type": "code",
      "metadata": {
        "id": "TeyFNLkDFbbE",
        "colab": {
          "base_uri": "https://localhost:8080/",
          "height": 50
        },
        "outputId": "32e005ed-6290-4942-b995-17476628bc2f"
      },
      "source": [
        "print('P(A.union(B)) = ',P(A.union(B)))\n",
        "print('P(A)+P(B) - P(A.intersection(B)) = ',P(A)+P(B) - P(A.intersection(B)))"
      ],
      "execution_count": null,
      "outputs": [
        {
          "output_type": "stream",
          "text": [
            "P(A.union(B)) =  0.85\n",
            "P(A)+P(B) - P(A.intersection(B)) =  0.85\n"
          ],
          "name": "stdout"
        }
      ]
    },
    {
      "cell_type": "code",
      "metadata": {
        "id": "Mmeu5tuo0AQL",
        "colab": {
          "base_uri": "https://localhost:8080/",
          "height": 33
        },
        "outputId": "c0ee33b2-01b8-4975-96f0-80d9d3328813"
      },
      "source": [
        "print(\"La probabilité d'obtenir un nombre premier est :\", P(B))"
      ],
      "execution_count": null,
      "outputs": [
        {
          "output_type": "stream",
          "text": [
            "La probabilité d'obtenir un nombre premier est : 0.4\n"
          ],
          "name": "stdout"
        }
      ]
    },
    {
      "cell_type": "markdown",
      "metadata": {
        "id": "98d5OM0W0AQt"
      },
      "source": [
        "* **Probabilité conditionnelle :**"
      ]
    },
    {
      "cell_type": "code",
      "metadata": {
        "id": "TewBNMzi0AQw"
      },
      "source": [
        "def proba_sachant_que(B,A):\n",
        "    assert len(B)>0\n",
        "    return P(A.intersection(B))/P(B)"
      ],
      "execution_count": null,
      "outputs": []
    },
    {
      "cell_type": "code",
      "metadata": {
        "id": "O4iVOWkV0AQ6",
        "colab": {
          "base_uri": "https://localhost:8080/",
          "height": 33
        },
        "outputId": "d3999505-a65f-4212-ed58-79e51ae564ab"
      },
      "source": [
        "print(\"On obtient une face qui est un nombre premier, la probabilité qu'elle soit paire est :\", proba_sachant_que(B,A))"
      ],
      "execution_count": null,
      "outputs": [
        {
          "output_type": "stream",
          "text": [
            "On obtient une face qui est un nombre premier, la probabilité qu'elle soit paire est : 0.125\n"
          ],
          "name": "stdout"
        }
      ]
    },
    {
      "cell_type": "markdown",
      "metadata": {
        "id": "8ei5VzEW0ARG"
      },
      "source": [
        "* **Variable aléatoire :**\n",
        "\n",
        "On appelle X la variable aléatoire égale au nombre de diviseurs de la face obtenue."
      ]
    },
    {
      "cell_type": "code",
      "metadata": {
        "id": "eUnDx0KK0ARI",
        "colab": {
          "base_uri": "https://localhost:8080/",
          "height": 33
        },
        "outputId": "a8368f22-8019-4f79-ff3e-7119c02fcfc5"
      },
      "source": [
        "X = { n : nombre_diviseurs(n) for n in U } \n",
        "# X(Oméga) : univers sous forme de dictionnaire : la clé est le numero de la face,  \n",
        "# la valeur, son nombre de diviseurs\n",
        "print(X)"
      ],
      "execution_count": null,
      "outputs": [
        {
          "output_type": "stream",
          "text": [
            "{1: 1, 2: 2, 3: 2, 4: 3, 5: 2, 6: 4, 7: 2, 8: 4, 9: 3, 10: 4, 11: 2, 12: 6, 13: 2, 14: 4, 15: 4, 16: 5, 17: 2, 18: 6, 19: 2, 20: 6}\n"
          ],
          "name": "stdout"
        }
      ]
    },
    {
      "cell_type": "code",
      "metadata": {
        "id": "13s4mqVYF5J7",
        "colab": {
          "base_uri": "https://localhost:8080/",
          "height": 33
        },
        "outputId": "29ced90c-af1e-41d2-e077-ee70c657abe5"
      },
      "source": [
        "X.keys()"
      ],
      "execution_count": null,
      "outputs": [
        {
          "output_type": "execute_result",
          "data": {
            "text/plain": [
              "dict_keys([1, 2, 3, 4, 5, 6, 7, 8, 9, 10, 11, 12, 13, 14, 15, 16, 17, 18, 19, 20])"
            ]
          },
          "metadata": {
            "tags": []
          },
          "execution_count": 15
        }
      ]
    },
    {
      "cell_type": "code",
      "metadata": {
        "id": "pqshagoMF-B_",
        "colab": {
          "base_uri": "https://localhost:8080/",
          "height": 33
        },
        "outputId": "66ee8b08-b602-41a1-fe83-7ece00a09f5e"
      },
      "source": [
        "X.values()"
      ],
      "execution_count": null,
      "outputs": [
        {
          "output_type": "execute_result",
          "data": {
            "text/plain": [
              "dict_values([1, 2, 2, 3, 2, 4, 2, 4, 3, 4, 2, 6, 2, 4, 4, 5, 2, 6, 2, 6])"
            ]
          },
          "metadata": {
            "tags": []
          },
          "execution_count": 16
        }
      ]
    },
    {
      "cell_type": "markdown",
      "metadata": {
        "id": "tp6Uilna0ART"
      },
      "source": [
        "* **Loi de la variable aléatoire X :**\n",
        "\n",
        "(c'est à dire X($\\Omega$), puis pour chacun d'eux, on associe sa probabilité)\n",
        "\n",
        "On définit d'abord les événements [X=k]"
      ]
    },
    {
      "cell_type": "code",
      "metadata": {
        "id": "H-Ltryf90ARW"
      },
      "source": [
        "def egal(X,k):\n",
        "    return {x for x in X.keys() if X[x]==k}\n",
        "\n",
        "def loi(X):\n",
        "    return {k : P(egal(X,k)) for k in X.values()}\n",
        "\n"
      ],
      "execution_count": null,
      "outputs": []
    },
    {
      "cell_type": "code",
      "metadata": {
        "id": "9vMI2R6VJVOI"
      },
      "source": [
        ""
      ],
      "execution_count": null,
      "outputs": []
    },
    {
      "cell_type": "code",
      "metadata": {
        "id": "XBLb0nxH0ARj",
        "colab": {
          "base_uri": "https://localhost:8080/",
          "height": 67
        },
        "outputId": "78801cb3-c27e-4bfc-8a3e-89c2eaef1000"
      },
      "source": [
        "loi_X = loi(X)\n",
        "print(loi_X)\n",
        "\n",
        "X_Omega = list(loi_X.keys())\n",
        "#X_Omega[:] = sorted(X_Omega)\n",
        "print('X(Omega) =', X_Omega)\n",
        "\n",
        "probabilites = list(loi_X.values())\n",
        "print('Probabilités respectives :',probabilites)"
      ],
      "execution_count": null,
      "outputs": [
        {
          "output_type": "stream",
          "text": [
            "{1: 0.05, 2: 0.4, 3: 0.1, 4: 0.25, 6: 0.15, 5: 0.05}\n",
            "X(Omega) = [1, 2, 3, 4, 6, 5]\n",
            "Probabilités respectives : [0.05, 0.4, 0.1, 0.25, 0.15, 0.05]\n"
          ],
          "name": "stdout"
        }
      ]
    },
    {
      "cell_type": "markdown",
      "metadata": {
        "id": "5kPcjl4q0ARu"
      },
      "source": [
        "* **Représentation graphique**"
      ]
    },
    {
      "cell_type": "code",
      "metadata": {
        "id": "FtMPby4w0ARx"
      },
      "source": [
        "import matplotlib.pyplot as plt"
      ],
      "execution_count": null,
      "outputs": []
    },
    {
      "cell_type": "code",
      "metadata": {
        "id": "Pj5jCuQ60ASB",
        "colab": {
          "base_uri": "https://localhost:8080/",
          "height": 33
        },
        "outputId": "cb604d5f-56ef-4f8e-fe54-7ee087cc354a"
      },
      "source": [
        "print(X.values())"
      ],
      "execution_count": null,
      "outputs": [
        {
          "output_type": "stream",
          "text": [
            "dict_values([1, 2, 2, 3, 2, 4, 2, 4, 3, 4, 2, 6, 2, 4, 4, 5, 2, 6, 2, 6])\n"
          ],
          "name": "stdout"
        }
      ]
    },
    {
      "cell_type": "code",
      "metadata": {
        "id": "HQ-OTbJY0ASQ",
        "colab": {
          "base_uri": "https://localhost:8080/",
          "height": 315
        },
        "outputId": "3e903c54-6a01-47c1-c9fa-d21571a94a9b"
      },
      "source": [
        "\n",
        "plt.bar(X_Omega,probabilites, width = 0.2, color = 'red', alpha = 0.6)\n",
        "plt.title(\"Loi du nombre de diviseurs des faces d'un de icosaedrique\")\n",
        "plt.xlabel('X($\\Omega$)')\n",
        "plt.ylabel('probabilites')"
      ],
      "execution_count": null,
      "outputs": [
        {
          "output_type": "execute_result",
          "data": {
            "text/plain": [
              "Text(0, 0.5, 'probabilites')"
            ]
          },
          "metadata": {
            "tags": []
          },
          "execution_count": 21
        },
        {
          "output_type": "display_data",
          "data": {
            "image/png": "[encoded data removed]",
            "text/plain": [
              "<Figure size 432x288 with 1 Axes>"
            ]
          },
          "metadata": {
            "tags": [],
            "needs_background": "light"
          }
        }
      ]
    },
    {
      "cell_type": "markdown",
      "metadata": {
        "id": "LRpzmlmj0ASa"
      },
      "source": [
        "* **Fonction de répartition**"
      ]
    },
    {
      "cell_type": "code",
      "metadata": {
        "id": "RW5pGOAI0ASg",
        "colab": {
          "base_uri": "https://localhost:8080/",
          "height": 33
        },
        "outputId": "57db41c4-a347-47b8-e501-a97651e65a3d"
      },
      "source": [
        "def au_plus(X,k):\n",
        "    return {x for x in X.keys() if X[x]<=k}\n",
        "\n",
        "def fRep(X):\n",
        "    return {k:P(au_plus(X,k)) for k in X.values()}\n",
        "\n",
        "print(fRep(X))"
      ],
      "execution_count": null,
      "outputs": [
        {
          "output_type": "stream",
          "text": [
            "{1: 0.05, 2: 0.45, 3: 0.55, 4: 0.8, 6: 1.0, 5: 0.85}\n"
          ],
          "name": "stdout"
        }
      ]
    },
    {
      "cell_type": "markdown",
      "metadata": {
        "id": "KW4fldRi0ASt"
      },
      "source": [
        "* **Éléments caractériques :**\n",
        "\n",
        "  * **Espérance :**\n",
        "  * **Variance :**\n",
        "  * **Écart-type :**"
      ]
    },
    {
      "cell_type": "code",
      "metadata": {
        "id": "gXsz9-SO0ASx"
      },
      "source": [
        "def E(X):\n",
        "    return sum({k*P(egal(X,k)) for k in X.values()})\n",
        "\n",
        "def V(X):\n",
        "    X2 = { k:X[k]**2 for k in X.keys() }\n",
        "    return E(X2)-E(X)**2 # formule de Koenig-Huygens\n",
        "\n",
        "def sigma(X):\n",
        "    from math import sqrt\n",
        "    return sqrt(V(X))"
      ],
      "execution_count": null,
      "outputs": []
    },
    {
      "cell_type": "code",
      "metadata": {
        "id": "UtuKMBCl0AS8",
        "colab": {
          "base_uri": "https://localhost:8080/",
          "height": 67
        },
        "outputId": "7646a248-55e6-454b-a581-086ca1fdc452"
      },
      "source": [
        "print('Espérance de X :',E(X))\n",
        "print('Variance de X :', V(X))\n",
        "print('Écart-type de X :',sigma(X))"
      ],
      "execution_count": null,
      "outputs": [
        {
          "output_type": "stream",
          "text": [
            "Espérance de X : 3.3000000000000003\n",
            "Variance de X : 2.309999999999997\n",
            "Écart-type de X : 1.5198684153570654\n"
          ],
          "name": "stdout"
        }
      ]
    },
    {
      "cell_type": "markdown",
      "metadata": {
        "id": "pdIEZJX70ATI"
      },
      "source": [
        "  * **Quartiles**\n",
        "  \n",
        "  Note : On définira la médiane comme le 2<sup>ème</sup> quartile, valeur de la série à partir de laquelle l'effectif dépasse 50% de la population, ce qui n'est pas la définition enseignée en lycée en France\n",
        "  \n",
        "  * **Intervalle inter-quartiles**  \n",
        "  \n",
        "  * **Deciles**\n",
        "  \n",
        "  Reprenons la fonction de répartition obtenue ci-dessus et classons les valeurs.\n",
        "  Les calculs se font par interpolation linéaire entre les points charnières (Théorème de Thalès)"
      ]
    },
    {
      "cell_type": "code",
      "metadata": {
        "id": "mhyyXoWN0ATL",
        "colab": {
          "base_uri": "https://localhost:8080/",
          "height": 33
        },
        "outputId": "8f2dbe07-858b-44e6-9f27-6c65713fecc2"
      },
      "source": [
        "F = fRep(X)\n",
        "FF = sorted(F.items(), key=lambda t: t[0])\n",
        "print(FF)"
      ],
      "execution_count": null,
      "outputs": [
        {
          "output_type": "stream",
          "text": [
            "[(1, 0.05), (2, 0.45), (3, 0.55), (4, 0.8), (5, 0.85), (6, 1.0)]\n"
          ],
          "name": "stdout"
        }
      ]
    },
    {
      "cell_type": "code",
      "metadata": {
        "id": "tmfsgelK0ATf",
        "colab": {
          "base_uri": "https://localhost:8080/",
          "height": 33
        },
        "outputId": "95992019-18f1-42fc-81a6-bbc81c008efe"
      },
      "source": [
        "k = 0\n",
        "while FF[k][1] < 0.5 :\n",
        "    k = k+1\n",
        "\n",
        "mediane = FF[k-1][0]+(0.5 - FF[k-1][1])/(FF[k][1] - FF[k-1][1])*(FF[k][0]-FF[k-1][0])\n",
        "print('Médiane de la série :',mediane)"
      ],
      "execution_count": null,
      "outputs": [
        {
          "output_type": "stream",
          "text": [
            "Médiane de la série : 2.4999999999999996\n"
          ],
          "name": "stdout"
        }
      ]
    },
    {
      "cell_type": "code",
      "metadata": {
        "id": "WzQHkaf20AT0",
        "colab": {
          "base_uri": "https://localhost:8080/",
          "height": 67
        },
        "outputId": "905ac3ec-0c76-4f4b-e50b-76639d02610b"
      },
      "source": [
        "# Quartiles :\n",
        "quartiles = [0]*3\n",
        "for d in range(1,4):\n",
        "    k = 0\n",
        "    while FF[k][1] < d/4 :\n",
        "        k = k+1\n",
        "\n",
        "    quartiles[d-1] = FF[k-1][0]+(d/4 - FF[k-1][1])/(FF[k][1] - FF[k-1][1])*(FF[k][0]-FF[k-1][0])\n",
        "    print('Q',d,'=',quartiles[d-1])\n"
      ],
      "execution_count": null,
      "outputs": [
        {
          "output_type": "stream",
          "text": [
            "Q 1 = 1.5\n",
            "Q 2 = 2.4999999999999996\n",
            "Q 3 = 3.8\n"
          ],
          "name": "stdout"
        }
      ]
    },
    {
      "cell_type": "code",
      "metadata": {
        "id": "EaoPHyZI0AUL",
        "colab": {
          "base_uri": "https://localhost:8080/",
          "height": 33
        },
        "outputId": "861f4ab8-725e-4672-dde3-46100ba4cb2d"
      },
      "source": [
        "# Intervalle inter-quartiles\n",
        "print(\"50% de la série se situe dans l'intervalle [\", quartiles[0],';',quartiles[2],'].')"
      ],
      "execution_count": null,
      "outputs": [
        {
          "output_type": "stream",
          "text": [
            "50% de la série se situe dans l'intervalle [ 1.5 ; 3.8 ].\n"
          ],
          "name": "stdout"
        }
      ]
    },
    {
      "cell_type": "code",
      "metadata": {
        "id": "Oa7VZakB0AUb",
        "colab": {
          "base_uri": "https://localhost:8080/",
          "height": 167
        },
        "outputId": "b639649d-df58-4fae-82ac-5c6659126272"
      },
      "source": [
        "# Déciles :\n",
        "for d in range(1,10):\n",
        "    k = 0\n",
        "    while FF[k][1] < d/10 :\n",
        "        k = k+1\n",
        "\n",
        "    decile = FF[k-1][0]+(d/10 - FF[k-1][1])/(FF[k][1] - FF[k-1][1])*(FF[k][0]-FF[k-1][0])\n",
        "    print('D',d,'=',decile)\n"
      ],
      "execution_count": null,
      "outputs": [
        {
          "output_type": "stream",
          "text": [
            "D 1 = 1.125\n",
            "D 2 = 1.375\n",
            "D 3 = 1.625\n",
            "D 4 = 1.875\n",
            "D 5 = 2.4999999999999996\n",
            "D 6 = 3.1999999999999997\n",
            "D 7 = 3.5999999999999996\n",
            "D 8 = 4.0\n",
            "D 9 = 5.333333333333334\n"
          ],
          "name": "stdout"
        }
      ]
    },
    {
      "cell_type": "markdown",
      "metadata": {
        "id": "u3zVy-Uj0AUk"
      },
      "source": [
        "**_3.3. Simulation d'un échantillon de variable aléatoire d'espérance et d'écart-type connus_**\n",
        "\n",
        "source : http://revue.sesamath.net/spip.php?article1226\n",
        "\n",
        "Si on connaît uniquement la loi d’une variable aléatoire (et pas son mode de fabrication), on peut simuler la variable aléatoire à l’aide d'une inversion de sa fonction de répartition : on tire un nombre aléatoire u, et l'on cherche son pseudo-antécédent par F (la plus grande valeur k telle que F(k)soit inférieure ou égale à u).\n",
        "Reprenons l'exemple précédent, dans le cas du nombre de diviseurs d’un dé icosaédrique, où l'on avait, rappelons-le :"
      ]
    },
    {
      "cell_type": "code",
      "metadata": {
        "id": "bgpAX2xl0AUo"
      },
      "source": [
        "from random import random\n",
        "\n",
        "F = {1: 0.05, 2: 0.45, 3: 0.55, 4: 0.8, 5: 0.85, 6: 1.0}\n",
        "\n",
        "def simulation():\n",
        "    r = random()\n",
        "    if r<0.05:\n",
        "        return 1\n",
        "    elif r<0.45:\n",
        "        return 2\n",
        "    elif r<0.55:\n",
        "        return 3\n",
        "    elif r<0.8:\n",
        "        return 4\n",
        "    elif r<0.85:\n",
        "        return 5\n",
        "    else:\n",
        "        return 6"
      ],
      "execution_count": null,
      "outputs": []
    },
    {
      "cell_type": "markdown",
      "metadata": {
        "id": "IkNa99u70AVA"
      },
      "source": [
        "Fabriquons un échantillon de taille N = 100 :"
      ]
    },
    {
      "cell_type": "code",
      "metadata": {
        "id": "XTly_xBE0AVC",
        "colab": {
          "base_uri": "https://localhost:8080/",
          "height": 54
        },
        "outputId": "60d31f24-f7c0-4313-c683-3e3a993ae2b5"
      },
      "source": [
        "N = 100\n",
        "\n",
        "sim = [ simulation() for k in range(N) ]\n",
        "print(sim)"
      ],
      "execution_count": null,
      "outputs": [
        {
          "output_type": "stream",
          "text": [
            "[2, 2, 3, 3, 2, 1, 2, 6, 4, 6, 2, 2, 2, 2, 5, 5, 2, 2, 4, 6, 5, 4, 2, 2, 2, 3, 2, 4, 4, 4, 2, 2, 6, 6, 1, 2, 4, 2, 4, 2, 6, 6, 6, 4, 4, 2, 6, 4, 2, 2, 3, 2, 2, 2, 2, 2, 2, 2, 2, 2, 4, 1, 6, 2, 4, 3, 6, 2, 3, 6, 3, 2, 4, 4, 2, 4, 4, 4, 2, 6, 3, 2, 2, 5, 4, 2, 5, 3, 3, 4, 2, 4, 2, 4, 4, 2, 2, 4, 2, 2]\n"
          ],
          "name": "stdout"
        }
      ]
    },
    {
      "cell_type": "markdown",
      "metadata": {
        "id": "O7LORW4g0AVO"
      },
      "source": [
        "Fabriquons M = 1000 échantillons de taille N :"
      ]
    },
    {
      "cell_type": "code",
      "metadata": {
        "id": "FO2NSKgF0AVc"
      },
      "source": [
        "M = 1000\n",
        "\n",
        "def simul_echant(M):\n",
        "    return [ [ simulation() for k in range(N) ] for n in range(M) ]\n",
        "\n",
        "sim_M_echantillons = simul_echant(M)\n",
        "#print(sim_M_echantillons)"
      ],
      "execution_count": null,
      "outputs": []
    },
    {
      "cell_type": "code",
      "metadata": {
        "id": "voZ38EgH0AVv"
      },
      "source": [
        "def moyenne(liste):\n",
        "    return sum(liste)/len(liste)\n",
        " \n",
        "def variance(liste):\n",
        "    liste_des_carrés = list(map(carré,liste))\n",
        "    return moyenne(liste_des_carrés)-carré(moyenne(liste))\n",
        " \n",
        "def écart_type(liste):\n",
        "    return racine(variance(liste))"
      ],
      "execution_count": null,
      "outputs": []
    },
    {
      "cell_type": "markdown",
      "metadata": {
        "id": "_uJStv-T0AWR"
      },
      "source": [
        "Calculons la liste des moyennes des M échantillons :"
      ]
    },
    {
      "cell_type": "code",
      "metadata": {
        "id": "TgRVi5T30AWY"
      },
      "source": [
        "def simul_moyennes(M):\n",
        "    return [ moyenne(sim_M_echantillons[n][:]) for n in range(M) ]"
      ],
      "execution_count": null,
      "outputs": []
    },
    {
      "cell_type": "code",
      "metadata": {
        "id": "lcSVv-ts0AWl"
      },
      "source": [
        "l = simul_moyennes(M)\n",
        "# print(l)"
      ],
      "execution_count": null,
      "outputs": []
    },
    {
      "cell_type": "markdown",
      "metadata": {
        "id": "NDk08fly0AWw"
      },
      "source": [
        ""
      ]
    },
    {
      "cell_type": "markdown",
      "metadata": {
        "id": "C7xy4hTb0AWy"
      },
      "source": [
        "* **_proportions d'échantillons pour lesquels |m - $\\mu |< \\frac{k \\sigma}{ \\sqrt{n}}$ (pour k=1, 2, 3)_**\n",
        "\n",
        "Comme $\\sqrt{100}$=10 et que l’écart-type du nombre de diviseurs d’un dé icosaédrique est environ 1,52, le nombre avec lequel comparer l’écart-type des moyennes est 0,152. Or on obtient quelque chose comme 0.15568434699730013 avec écart_type(simul_moyennes(1000)).\n",
        "\n",
        "Comme l’espérance du nombre de diviseurs du dé icosaédrique est 3,3 on va faire calculer la fréquence des échantillons dont la moyenne est entre 3,3-k×0,152 et 3,3+k×0,152. Pour cela on construit par compréhension une liste des tests réalisés sur les M échantillons. C’est une liste de M booléens, dans laquelle Python va compter les occurences de True ce qui permet d’avoir les fréquences :"
      ]
    },
    {
      "cell_type": "code",
      "metadata": {
        "id": "31dotB300AW0"
      },
      "source": [
        "def propfluct(k):\n",
        "    liste = [ 3.3 - k*0.152 < moyenne([simulation() for k in range(N)]) <3.3 + k*0.152 for n in range(M) ] \n",
        "    return liste.count(True)/M"
      ],
      "execution_count": null,
      "outputs": []
    },
    {
      "cell_type": "code",
      "metadata": {
        "id": "wGAVxjAQ0AXN",
        "colab": {
          "base_uri": "https://localhost:8080/",
          "height": 34
        },
        "outputId": "de7f9661-133c-4427-f8b0-a34e73bfa957"
      },
      "source": [
        "[ propfluct(k) for k in range(1,4)]"
      ],
      "execution_count": null,
      "outputs": [
        {
          "output_type": "execute_result",
          "data": {
            "text/plain": [
              "[0.69, 0.956, 0.997]"
            ]
          },
          "metadata": {
            "tags": []
          },
          "execution_count": 45
        }
      ]
    },
    {
      "cell_type": "markdown",
      "metadata": {
        "id": "J3VYk13f0AXX"
      },
      "source": [
        "Les résultats sont proches de ceux obtenus avec une loi normale, normal !"
      ]
    },
    {
      "cell_type": "markdown",
      "metadata": {
        "id": "8yEQhsQZ0AXa"
      },
      "source": [
        "**_3.4. Statistiques à deux variables_**\n",
        "\n",
        "**<span style=\"color: #D17460\"> TCompl </span>**\n",
        "\n",
        "Pour un petit décrassage de cours, voir ici : https://frama.link/OT_Python1T_coursStats2Var\n",
        "\n",
        "En application, nous allons étudier la corrélation entre les surfaces d'appartements dans une agence parisienne et les prix des loyers.\n",
        "\n",
        "Par exemple, au prix du marché, quel loyer peut-on espérer pour un appartement de 100 m² ?\n",
        "\n",
        "Ou encore : Quelle surface puis-espérer si je suis en mesure de mettre un moyer mensuel de 1000 € ?\n",
        "\n",
        "Dans le premier cas, il s'agit d'effectuer un ajustement du prix en fonction de la surface, dans le second un ajustement de la surface en fonction du prix."
      ]
    },
    {
      "cell_type": "code",
      "metadata": {
        "id": "VJwBC7sY0AXd",
        "colab": {
          "base_uri": "https://localhost:8080/",
          "height": 365
        },
        "outputId": "0cd192ad-ac48-4bb6-a6f4-d3b202c97fcf"
      },
      "source": [
        "import matplotlib.pyplot as plt\n",
        "\n",
        "\n",
        "def point_moyen(x,y):\n",
        "    G = [sum(x)/len(x),sum(y)/len(y)]\n",
        "    return G\n",
        "\n",
        "\n",
        "def graphique(x,y):\n",
        "    L = len(x)\n",
        "    for k in range(L):\n",
        "        plt.plot(x[k], y[k], marker = '+')\n",
        "        plt.xlabel('Surfaces (m²)')\n",
        "        plt.ylabel('Prix (€)')\n",
        "        plt.title('Nuage de points surface/prix')\n",
        "\n",
        "        ax = plt.gca() # récupération du paramétrage des axes\n",
        "\n",
        "        ax.spines['left'].set_position('zero') # positionnement de l'axe des ordonnées à x = 0\n",
        "        ax.spines['right'].set_color('none')\n",
        "        ax.spines['bottom'].set_position('zero') # positionnement de l'axe des abscisses à y = 0\n",
        "        ax.spines['top'].set_color('none')\n",
        "\n",
        "# données (on pourrait travailler sur des données réelles en utilisant des modules complémentaires tel \"csv\")\n",
        "surfaces = [28,50,106,196,55,190,110,60,48,35,86,65,32,52,40,260,70,117,90,30,105,52,80,60,140,20,100,28]\n",
        "prix = [650,1400,3250,4000,1340,3950,2500,1600,1250,1250,1750,1500,775,1225,1000,7500,1625,4750,1890,390,1875,1000,1350,1475,4950,425,2475,425]\n",
        "L = len(surfaces)\n",
        "print(\"Nombre d'appartements :\",L)\n",
        "\n",
        "\n",
        "G = point_moyen(surfaces,prix)\n",
        "X_bar = G[0]\n",
        "Y_bar = G[1]\n",
        "print('Surface moyenne :',X_bar,'m²')\n",
        "print('Loyer moyen :',Y_bar,'€')\n",
        "graphique(surfaces, prix)\n",
        "plt.plot(X_bar,Y_bar,'r' , marker = 'o')\n"
      ],
      "execution_count": null,
      "outputs": [
        {
          "output_type": "stream",
          "text": [
            "Nombre d'appartements : 28\n",
            "Surface moyenne : 82.32142857142857 m²\n",
            "Loyer moyen : 2056.0714285714284 €\n"
          ],
          "name": "stdout"
        },
        {
          "output_type": "execute_result",
          "data": {
            "text/plain": [
              "[<matplotlib.lines.Line2D at 0x7f9f044c2668>]"
            ]
          },
          "metadata": {
            "tags": []
          },
          "execution_count": 46
        },
        {
          "output_type": "display_data",
          "data": {
            "image/png": "[encoded data removed]",
            "text/plain": [
              "<Figure size 432x288 with 1 Axes>"
            ]
          },
          "metadata": {
            "tags": []
          }
        }
      ]
    },
    {
      "cell_type": "markdown",
      "metadata": {
        "id": "ZIkBFWBE0AXp"
      },
      "source": [
        "**_Droite de régression du prix en la surface, selon la méthode des moindres carrés_**\n",
        "\n",
        "(justifiée par le relatif alignement des points du nuage)"
      ]
    },
    {
      "cell_type": "code",
      "metadata": {
        "id": "bu2mT4Uf0AXv"
      },
      "source": [
        "def covariance(x,y):\n",
        "    L = len(x)\n",
        "    x_bar = sum(x)/L\n",
        "    y_bar = sum(y)/L\n",
        "   \n",
        "    cov_xy = 0\n",
        "    for k in range(L):\n",
        "        cov_xy = cov_xy +  (x[k] - x_bar)*(y[k]-y_bar)\n",
        "    cov_xy = cov_xy / L\n",
        "    return cov_xy"
      ],
      "execution_count": null,
      "outputs": []
    },
    {
      "cell_type": "code",
      "metadata": {
        "id": "WIG-24Vz0AX9",
        "colab": {
          "base_uri": "https://localhost:8080/",
          "height": 34
        },
        "outputId": "46a6d2bd-f900-410f-f2a0-c7ba07c90930"
      },
      "source": [
        "covariance(surfaces,prix)"
      ],
      "execution_count": null,
      "outputs": [
        {
          "output_type": "execute_result",
          "data": {
            "text/plain": [
              "84302.86989795917"
            ]
          },
          "metadata": {
            "tags": []
          },
          "execution_count": 48
        }
      ]
    },
    {
      "cell_type": "code",
      "metadata": {
        "id": "2AVhN-I70AYE",
        "colab": {
          "base_uri": "https://localhost:8080/",
          "height": 34
        },
        "outputId": "5cf612c3-d686-4319-8555-adabd1f63407"
      },
      "source": [
        "a = covariance(surfaces,prix)/covariance(surfaces,surfaces)\n",
        "b = Y_bar - a * X_bar\n",
        "print(\"Équation de la droite d'ajustement du prix en fonction de la surface : y=\",a,'.x +',b)\n"
      ],
      "execution_count": null,
      "outputs": [
        {
          "output_type": "stream",
          "text": [
            "Équation de la droite d'ajustement du prix en fonction de la surface : y= 26.765817999508364 .x + -147.32894603095656\n"
          ],
          "name": "stdout"
        }
      ]
    },
    {
      "cell_type": "code",
      "metadata": {
        "id": "iH7V76He0AYN"
      },
      "source": [
        "def f(a,b,x) : \n",
        "    return a*x + b\n",
        "\n",
        "def trace_droite(a,b, x_max):\n",
        "    plt.plot([0,x_max],[b, f(a,b,x_max)], color = 'blue', linewidth = 0.5)\n",
        "    ax = plt.gca() # récupération du paramétrage des axes\n",
        "\n",
        "    ax.spines['left'].set_position('zero') # positionnement de l'axe des ordonnées à x = 0\n",
        "    ax.spines['right'].set_color('none')\n",
        "    ax.spines['bottom'].set_position('zero') # positionnement de l'axe des abscisses à y = 0\n",
        "    ax.spines['top'].set_color('none')\n"
      ],
      "execution_count": null,
      "outputs": []
    },
    {
      "cell_type": "code",
      "metadata": {
        "id": "54_kOByM0AYX",
        "colab": {
          "base_uri": "https://localhost:8080/",
          "height": 282
        },
        "outputId": "c24a9194-2052-4264-8a39-7557aff37ac5"
      },
      "source": [
        "graphique(surfaces, prix)\n",
        "plt.plot(X_bar,Y_bar,'r' , marker = 'o')\n",
        "trace_droite(a,b,max(surfaces))\n",
        "\n",
        "for k in range(L):\n",
        "    plt.plot([surfaces[k],surfaces[k]], [prix[k], f(a,b,surfaces[k])], color = 'black', linestyle = ':', linewidth = 0.5)"
      ],
      "execution_count": null,
      "outputs": [
        {
          "output_type": "display_data",
          "data": {
            "image/png": "[encoded data removed]",
            "text/plain": [
              "<Figure size 432x288 with 1 Axes>"
            ]
          },
          "metadata": {
            "tags": []
          }
        }
      ]
    },
    {
      "cell_type": "markdown",
      "metadata": {
        "id": "xuZ47Qzy0AYg"
      },
      "source": [
        "**_loyer envisageable pour une surface de 100 m² ?_**"
      ]
    },
    {
      "cell_type": "code",
      "metadata": {
        "id": "lfSw9a6K0AYk",
        "colab": {
          "base_uri": "https://localhost:8080/",
          "height": 34
        },
        "outputId": "f2e9d0d4-df9e-425e-e27b-8ccb573b1a1c"
      },
      "source": [
        "x_envisage = 100\n",
        "y_ajuste = f(a,b,x_envisage)\n",
        "\n",
        "print('Pour une surface de 100 m² , le loyer au prix du marché est de :',round(y_ajuste),'€.')"
      ],
      "execution_count": null,
      "outputs": [
        {
          "output_type": "stream",
          "text": [
            "Pour une surface de 100 m² , le loyer au prix du marché est de : 2529 €.\n"
          ],
          "name": "stdout"
        }
      ]
    },
    {
      "cell_type": "code",
      "metadata": {
        "id": "n6JxI1aU0AYq",
        "colab": {
          "base_uri": "https://localhost:8080/",
          "height": 299
        },
        "outputId": "1e287ffe-9271-4f1d-8452-fb476489a339"
      },
      "source": [
        "graphique(surfaces, prix)\n",
        "plt.plot(X_bar,Y_bar,'r' , marker = 'o')\n",
        "trace_droite(a,b,max(surfaces))\n",
        "plt.plot([100,100],[0,y_ajuste], linewidth = 0.5, color = 'green')\n",
        "plt.plot([0,100],[y_ajuste,y_ajuste], linewidth = 0.5, color = 'green')"
      ],
      "execution_count": null,
      "outputs": [
        {
          "output_type": "execute_result",
          "data": {
            "text/plain": [
              "[<matplotlib.lines.Line2D at 0x7f9f042caac8>]"
            ]
          },
          "metadata": {
            "tags": []
          },
          "execution_count": 53
        },
        {
          "output_type": "display_data",
          "data": {
            "image/png": "[encoded data removed]",
            "text/plain": [
              "<Figure size 432x288 with 1 Axes>"
            ]
          },
          "metadata": {
            "tags": []
          }
        }
      ]
    },
    {
      "cell_type": "markdown",
      "metadata": {
        "id": "U1xUG3fT0AYw"
      },
      "source": [
        "**_Quelle surface envisager avec un loyer de 1000 € ?_**\n",
        "\n",
        "Il faut cette fois faire la régression dans l'autre sens..."
      ]
    },
    {
      "cell_type": "code",
      "metadata": {
        "id": "u1Gf40og0AYy",
        "colab": {
          "base_uri": "https://localhost:8080/",
          "height": 290
        },
        "outputId": "de072d34-e108-4f79-f80d-f33fed275eb0"
      },
      "source": [
        "a_prim = covariance(prix,prix)/covariance(surfaces,prix)\n",
        "\n",
        "b_prim = Y_bar - a_prim*X_bar\n",
        "\n",
        "graphique(surfaces, prix)\n",
        "plt.plot(X_bar,Y_bar,'r' , marker = 'o')\n",
        "trace_droite(a_prim,b_prim,max(surfaces))\n",
        "\n",
        "for k in range(L):\n",
        "    plt.plot([surfaces[k],(prix[k]-b_prim)/a_prim], [prix[k], prix[k]], color = 'black', linestyle = ':', linewidth = 0.5)\n",
        "\n",
        "x_ajuste = (1000 - b_prim)/a_prim\n",
        "\n",
        "plt.plot([x_ajuste,x_ajuste],[0,1000], linewidth = 0.5, color = 'green')\n",
        "plt.plot([0,x_ajuste],[1000,1000], linewidth = 0.5, color = 'green')\n",
        "\n",
        "print('AVec 1000 €, la surface envisageable est de ',x_ajuste,'m²')"
      ],
      "execution_count": null,
      "outputs": [
        {
          "output_type": "stream",
          "text": [
            "AVec 1000 €, la surface envisageable est de  48.17498842411121 m²\n"
          ],
          "name": "stdout"
        },
        {
          "output_type": "display_data",
          "data": {
            "image/png": "[encoded data removed]",
            "text/plain": [
              "<Figure size 432x288 with 1 Axes>"
            ]
          },
          "metadata": {
            "tags": []
          }
        }
      ]
    },
    {
      "cell_type": "code",
      "metadata": {
        "id": "hE7mk5sX0AY5"
      },
      "source": [
        ""
      ],
      "execution_count": null,
      "outputs": []
    }
  ]
}